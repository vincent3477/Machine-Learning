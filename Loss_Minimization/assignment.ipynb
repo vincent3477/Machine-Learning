{
 "cells": [
  {
   "cell_type": "markdown",
   "id": "5dc28798-22d3-41fb-9bd2-826bd266bdf2",
   "metadata": {
    "tags": []
   },
   "source": [
    "# Hands-On Assignment 2\n",
    "\n",
    "As we saw in Module 2, machine learning is about optimizing over a loss.\n",
    "How well a machine learning model performs depends on both the hypothesis and loss function that we choose to use.\n",
    "This general framework goes under the name of *[empirical risk minimization](https://en.wikipedia.org/wiki/Empirical_risk_minimization)*.\n",
    "\n",
    "In this assignment, we will walk you through the basic steps of empirical risk minimization: the optimization problem at the heart of most modern-day machine learning systems.\n",
    "We will use a simple motivating example for an end-to-end demonstration: predicting whether a patient with a given antigen test value is infected with Covid-19.\n",
    "Using the same synthetic Covid-19 dataset you worked with in Hands-On Assignment 1,\n",
    "we will train a simple [classifier](https://en.wikipedia.org/wiki/Statistical_classification)\n",
    "which predicts that an individual is infected with Covid-19 if and only if their test value is above a certain threshold.\n",
    "\n",
    "After that, we will take a break from the serious stuff and learn about regular expression\n",
    "(or review regular expressions if you are already familiar).\n",
    "Regular expressions are a tool that you will almost certainly find useful for your entire CS career,\n",
    "and is especially useful when working with data (as you will be doing a lot).\n",
    "\n",
    "This assignment is divided into four parts:\n",
    "1. We will first set up a basic empirical risk minimization problem.\n",
    "2. Next, we will find a hypothesis that results in a small loss.\n",
    "3. Then, we will evaluate our solution and the associated risks of deployment.\n",
    "4. Finally, we will learn about all the core features of regular expressions."
   ]
  },
  {
   "cell_type": "markdown",
   "id": "2b418121-5107-4fde-aead-ae752f9bd1c9",
   "metadata": {},
   "source": [
    "---\n",
    "\n",
    "## Part 1: Setting up the Problem\n",
    "\n",
    "In this part we will setup the empirical risk minimization problem we wish to solve, by:\n",
    " - Defining our variables of interest.\n",
    " - Choosing a \"hypothesis class\" $ \\mathcal{H} $, or space of possible solutions, that we will search.\n",
    " - Selecting a \"loss function\" $ L $ that will be minimized by our learned solution.\n",
    "\n",
    "### Empirical Risk Minimization - The Big Picture\n",
    "\n",
    "Empirical risk minimization is about trying to come up with a function (usually called a *hypothesis*) that can make correct predictions as often as possible.\n",
    "The more our hypothesis is correct, the lower the *risk* of that hypothesis.\n",
    "A hypothesis that is always correct has zero risk.\n",
    "\n",
    "But in real life, it's almost always impossible to make something that is always correct.\n",
    "(If we could, there would be no point in machine learning.)\n",
    "It's also impossible for us to always know when our hypothesis is right or wrong\n",
    "(imagine trying to predict something for every person in the world (past, present, and future)).\n",
    "We may know how our hypothesis performs on our small dataset,\n",
    "but we can't know how it will perform on all possible data points.\n",
    "\n",
    "So since we can't compute the true risk of a hypothesis, we instead approximate it by computing an *empirical risk*.\n",
    "To do this, we narrow down our set of data points from every possible data point to a known set of data (called our \"training data\").\n",
    "We can then compute our average loss over our training data to compute our empirical risk.\n",
    "\n",
    "### Empirical Risk Minimization - Mathematical Formalism\n",
    "\n",
    "Now, let's put our intuition from the previous section into math.\n",
    "\n",
    "Empirical risk minimization is the **minimization** (over several possible hypotheses $ \\mathcal{H} $) of the expected loss (i.e. *risk*) of a hypothesis $ h $ with the data $ Z $:\n",
    "$$\n",
    "\\min_{h \\in \\mathcal{H}} \\mathbb{E}_Z \\Big[ L(Z, h) \\Big]\n",
    "$$\n",
    "So we want to select one hypothesis $ h $ from our set of possible hypotheses $ \\mathcal{H} $\n",
    "that minimizes the loss (risk) we expect to achieve.\n",
    "\n",
    "Here we are taking the [expectation](https://en.wikipedia.org/wiki/Expected_value) ($ \\mathbb{E} $) over all possible values of the data.\n",
    "If you haven’t seen expectation before, we will discuss it in detail in a future module.\n",
    "But for now, you can think of expectation as the average value we would get if we randomly sampled infinite data points.\n",
    "For example, if we fairly picked random numbers between 1 and 99 (inclusive),\n",
    "then the expected value (expectation) would be 50.\n",
    "You can make a small Python program to try it out yourself.\n",
    "\n",
    "Using our training data $ Z = \\{z_1, z_2, z_3, ..., z_N \\} $, we can say that:\n",
    "$$\n",
    "\\mathbb{E}_{Z} \\Big[ L(Z, h) \\Big] \\approx \\frac{1}{N} \\sum_{i = 1}^N L(z_i, h)\n",
    "$$\n",
    "\n",
    "This may look intimidating,\n",
    "but remember that $ L(z_i, h) $ is just a function that produces a single number.\n",
    "So if we say that our loss for the ith data point is $ L(z_i, h) = l_i $,\n",
    "then our equation looks like:\n",
    "$$\n",
    "\\mathbb{E}_{Z} \\Big[ l \\Big] \\approx \\frac{1}{N} \\sum_{i = 1}^N l_i\n",
    "$$\n",
    "\n",
    "Which we can see is just an average.\n",
    "So the key takeaway here is that the expectation is just an average over possible outcomes\n",
    "(in this case each data point is one possible outcome)."
   ]
  },
  {
   "cell_type": "markdown",
   "id": "4896430e-0a5d-471c-9c1f-f03a345e8951",
   "metadata": {
    "tags": []
   },
   "source": [
    "### A Motivating Example using Synthetic Covid-19 Data\n",
    "\n",
    "As a motivating example, let's try to use the synthetic Covid-19 data used in HO1 to predict whether a patient has Covid-19.\n",
    "For this task, we are given previous examples of asymptomatic patients (and their Covid-19 infection status),\n",
    "and we are going to assume that these examples accurately represent patients that we may see in the future.\n",
    "This assumption we are making is called the [i.i.d. assumption](https://en.wikipedia.org/wiki/Independent_and_identically_distributed_random_variables),\n",
    "and it is one of the cornerstones of many machine learning algorithms.\n",
    "The independent and identically distributed (i.i.d.) assumption assumes that all random variables (each patient in this example),\n",
    "are *independent* (one patient being infected does not affect whether another patient is infected),\n",
    "and *identically distributed* (future patients will have similar features to the patients we have already seen).\n",
    "\n",
    "Let's load our data, included in this repository as `synthetic_covid_data.csv`,\n",
    "using Python and briefly look over its contents:"
   ]
  },
  {
   "cell_type": "code",
   "execution_count": 5,
   "id": "6f2e629c-407a-41ca-a7d0-45557c91238a",
   "metadata": {},
   "outputs": [
    {
     "name": "stdout",
     "output_type": "stream",
     "text": [
      "<class 'pandas.core.frame.DataFrame'>\n",
      "Index: 5000 entries, 0 to 4999\n",
      "Data columns (total 4 columns):\n",
      " #   Column                Non-Null Count  Dtype  \n",
      "---  ------                --------------  -----  \n",
      " 0   infected              5000 non-null   bool   \n",
      " 1   symptomatic           5000 non-null   bool   \n",
      " 2   days_before_symptoms  138 non-null    float64\n",
      " 3   titer                 5000 non-null   int64  \n",
      "dtypes: bool(2), float64(1), int64(1)\n",
      "memory usage: 127.0 KB\n"
     ]
    }
   ],
   "source": [
    "# Import all the libraries we will need.\n",
    "import re\n",
    "\n",
    "import matplotlib\n",
    "import matplotlib.pyplot\n",
    "import numpy\n",
    "import pandas\n",
    "\n",
    "# Read data from the given csv file to a Pandas DataFrame.\n",
    "covid_data = pandas.read_csv('synthetic_covid_data.csv', index_col = 0)\n",
    "\n",
    "# Show some basic column and type information.\n",
    "covid_data.info()"
   ]
  },
  {
   "cell_type": "markdown",
   "id": "399ca700-1100-4804-a0ff-8c563af61d91",
   "metadata": {},
   "source": [
    "Inspecting the DataFrame information, we see that this dataset contains the following columns:\n",
    " - `infected` (as a boolean) - whether a patient had Covid-19.\n",
    " - `symptomatic` (as a boolean) - whether a patient developed symptoms.\n",
    " - `days_before_symptoms` (as a float) - how many days after testing the patient developed symptoms, if they did.\n",
    " - `titer` (as an integer) - how many times bodily fluids could be diluted before antigen was no longer detectable.\n",
    "\n",
    "We also note that Pandas tells us that `days_before_symptoms` contains mostly null/undefined content (only 138 non-null values).\n",
    "\n",
    "We can get an impression of the ranges and statistics of numerical columns by calling `covid_data.describe()`:"
   ]
  },
  {
   "cell_type": "code",
   "execution_count": 6,
   "id": "f09b8d5f-cfed-421d-a2f2-46b51105c5e8",
   "metadata": {},
   "outputs": [
    {
     "data": {
      "text/html": [
       "<div>\n",
       "<style scoped>\n",
       "    .dataframe tbody tr th:only-of-type {\n",
       "        vertical-align: middle;\n",
       "    }\n",
       "\n",
       "    .dataframe tbody tr th {\n",
       "        vertical-align: top;\n",
       "    }\n",
       "\n",
       "    .dataframe thead th {\n",
       "        text-align: right;\n",
       "    }\n",
       "</style>\n",
       "<table border=\"1\" class=\"dataframe\">\n",
       "  <thead>\n",
       "    <tr style=\"text-align: right;\">\n",
       "      <th></th>\n",
       "      <th>days_before_symptoms</th>\n",
       "      <th>titer</th>\n",
       "    </tr>\n",
       "  </thead>\n",
       "  <tbody>\n",
       "    <tr>\n",
       "      <th>count</th>\n",
       "      <td>138.000000</td>\n",
       "      <td>5000.00000</td>\n",
       "    </tr>\n",
       "    <tr>\n",
       "      <th>mean</th>\n",
       "      <td>5.405797</td>\n",
       "      <td>3.21480</td>\n",
       "    </tr>\n",
       "    <tr>\n",
       "      <th>std</th>\n",
       "      <td>3.877010</td>\n",
       "      <td>8.30552</td>\n",
       "    </tr>\n",
       "    <tr>\n",
       "      <th>min</th>\n",
       "      <td>0.000000</td>\n",
       "      <td>0.00000</td>\n",
       "    </tr>\n",
       "    <tr>\n",
       "      <th>25%</th>\n",
       "      <td>2.000000</td>\n",
       "      <td>0.00000</td>\n",
       "    </tr>\n",
       "    <tr>\n",
       "      <th>50%</th>\n",
       "      <td>5.000000</td>\n",
       "      <td>0.00000</td>\n",
       "    </tr>\n",
       "    <tr>\n",
       "      <th>75%</th>\n",
       "      <td>9.000000</td>\n",
       "      <td>1.00000</td>\n",
       "    </tr>\n",
       "    <tr>\n",
       "      <th>max</th>\n",
       "      <td>13.000000</td>\n",
       "      <td>45.00000</td>\n",
       "    </tr>\n",
       "  </tbody>\n",
       "</table>\n",
       "</div>"
      ],
      "text/plain": [
       "       days_before_symptoms       titer\n",
       "count            138.000000  5000.00000\n",
       "mean               5.405797     3.21480\n",
       "std                3.877010     8.30552\n",
       "min                0.000000     0.00000\n",
       "25%                2.000000     0.00000\n",
       "50%                5.000000     0.00000\n",
       "75%                9.000000     1.00000\n",
       "max               13.000000    45.00000"
      ]
     },
     "execution_count": 6,
     "metadata": {},
     "output_type": "execute_result"
    }
   ],
   "source": [
    "# Describe numerical column statistics.\n",
    "covid_data.describe()"
   ]
  },
  {
   "cell_type": "markdown",
   "id": "d3d14598-3db5-4744-9569-0cb40f97faf2",
   "metadata": {},
   "source": [
    "### Defining Variables of Interest: Features and Labels\n",
    "\n",
    "The first step in empirical risk minimization is to define our features ($ X $) and labels ($ Y $).\n",
    "\n",
    "The features (as discussed in HO1) are the meaningful numbers that we associate with a data point.\n",
    "In our Covid-19 data, we have three columns that can be used as features: `symptomatic`, `days_before_symptoms`, and `titer`.\n",
    "To keep things simple, we will only use one feature in this assignment: the `titer` column.\n",
    "Although we will only use one feature column in this assignment, most machine learning models use tens, hundreds, thousands, or even more feature columns.\n",
    "\n",
    "For our label, we will use the `infected` column.\n",
    "A label assigns each data point to a specific class (in this case, *infected* or *not infected*).\n",
    "Labels can take a wide range of values, for example if you are trying to classify the subject of an image there can be many possible labels: dog, cat, person, etc.\n",
    "In this assignment we are focusing on [binary classification](https://en.wikipedia.org/wiki/Binary_classification),\n",
    "where the label can only be True (1) or False (0).\n",
    "\n",
    "Together, the features ($ X $) and labels ($ Y $) define our dataset $ Z $:\n",
    "$$\n",
    "Z = (X, Y)\n",
    "$$"
   ]
  },
  {
   "cell_type": "code",
   "execution_count": 7,
   "id": "0d817adb-c944-4fc6-a41e-9315d48c5cdd",
   "metadata": {},
   "outputs": [],
   "source": [
    "# Extract features and labels from the dataframe.\n",
    "\n",
    "# Labels.\n",
    "Y_values = covid_data['infected']\n",
    "\n",
    "# Features.\n",
    "X_values = covid_data['titer']"
   ]
  },
  {
   "cell_type": "markdown",
   "id": "9f5dfd3c-52f6-4cac-8107-f48956d98b60",
   "metadata": {
    "tags": []
   },
   "source": [
    "#### Briefly Interpreting the Data\n",
    "\n",
    "In this dataset, a \"titer\" value roughly measures the concentration of a specific antigen produced by a Covid-19 infection,\n",
    "so a higher value *generally* means a worse infection.\n",
    "Having run `covid_data.describe()`, we see that titer values in this dataset are integers ranging from `0` to `45`,\n",
    "with at least 75% of examples having titer values of `1` or less.\n",
    "We can visualize the relationship between titer and Covid-19 infections in our data by plotting the Covid-19 infection rate vs titer values\n",
    "(i.e., for each titer value, plot the percent of patients that have that titer value and are infected).\n",
    "\n",
    "Throughout this assignment, code snippets will be provided for you.\n",
    "It is strongly encouraged that you take some time and try to understand the general idea of that each snippet does.\n",
    "You don't need to exactly understand what every line does,\n",
    "but having a general idea will help you throughout this course."
   ]
  },
  {
   "cell_type": "code",
   "execution_count": 8,
   "id": "c0493335-155a-4208-8228-b5c5a5c36620",
   "metadata": {},
   "outputs": [
    {
     "data": {
      "image/png": "[encoded data removed]",
      "text/plain": [
       "<Figure size 640x480 with 1 Axes>"
      ]
     },
     "metadata": {},
     "output_type": "display_data"
    }
   ],
   "source": [
    "def plot_infection_probability_vs_titer(frame):\n",
    "    \"\"\"\n",
    "    Plot the infected rate of Covid-19 vs titer value.\n",
    "    \"\"\"\n",
    "\n",
    "    # Get all the possible titer values in a list.\n",
    "    titer_values = list(range(frame['titer'].min(), frame['titer'].max() + 1))\n",
    "    infected_rate = []\n",
    "\n",
    "    for titer_value in titer_values:\n",
    "        infected_count = len(frame[(frame['titer'] == titer_value) & frame['infected']])\n",
    "        count = len(frame[(frame['titer'] == titer_value)])\n",
    "\n",
    "        if (count == 0):\n",
    "            # Matplotlib will ignore None/NaN values.\n",
    "            infected_rate.append(None)\n",
    "        else:\n",
    "            infected_rate.append(infected_count / count)\n",
    "\n",
    "    matplotlib.pyplot.plot(infected_rate)\n",
    "    matplotlib.pyplot.title('Sample Frequency of Covid-19 Infection vs Titer Value')\n",
    "    matplotlib.pyplot.xlabel('Titer')\n",
    "    matplotlib.pyplot.ylabel('Precentage Infected')\n",
    "\n",
    "plot_infection_probability_vs_titer(covid_data)"
   ]
  },
  {
   "cell_type": "markdown",
   "id": "518940cb-a784-4ce6-8731-d8f8dbc2a9d0",
   "metadata": {},
   "source": [
    "In the above graph we can see, perhaps surprisingly,\n",
    "that many patients with low (but not zero) titer values are actually infected.\n",
    "The graph shows that at a titer value of 0, we don't see any infected individuals;\n",
    "at a titer value of 10, about 100% if patients are infected;\n",
    "at a titer value of 20, the infection rate drops to around 20%;\n",
    "and finally at a titer value of 40, the infection rate climbs back up to around 80%.\n",
    "Unfortunately, biological data is rarely simple and straightforward.\n",
    "\n",
    "To make more sense of our data, we can separate out the data into infected and uninfected individuals.\n",
    "Specifically, we can see what percentage of each population (infected/uninfected) exist at each titer value."
   ]
  },
  {
   "cell_type": "code",
   "execution_count": 9,
   "id": "76497a0a-3dc5-4453-aec3-58cdac8e8705",
   "metadata": {},
   "outputs": [
    {
     "data": {
      "image/png": "[encoded data removed]",
      "text/plain": [
       "<Figure size 640x480 with 1 Axes>"
      ]
     },
     "metadata": {},
     "output_type": "display_data"
    }
   ],
   "source": [
    "def plot_conditional_probability_density_functions(frame):\n",
    "    \"\"\"\n",
    "    Plot probability density of titer value conditioned on Covid-19 infection.\n",
    "    \"\"\"\n",
    "\n",
    "    titer_values = list(range(frame['titer'].min(), frame['titer'].max() + 1))\n",
    "    infected = frame[frame['infected']]['titer']\n",
    "    uninfected = frame[~frame['infected']]['titer']\n",
    "\n",
    "    matplotlib.pyplot.title('Probability Density of Titer Concentration')\n",
    "    matplotlib.pyplot.xlabel('Titer')\n",
    "    infected.plot(kind = 'density', label = 'Infected', ind = titer_values)\n",
    "    uninfected.plot(kind = 'density', label = 'Uninfected', ind = titer_values)\n",
    "    matplotlib.pyplot.legend()\n",
    "\n",
    "plot_conditional_probability_density_functions(covid_data)"
   ]
  },
  {
   "cell_type": "markdown",
   "id": "69c14905-01b9-44a0-a9b1-b6b9953e2593",
   "metadata": {},
   "source": [
    "Looking at this graph, we can discover some important details about our data.\n",
    "While most uninfected individuals have very low titer values (under 5),\n",
    "some small percentage of (isoantigenic) uninfected individuals have reasonable high titer values (widely distributed around 25).\n",
    "Meanwhile, infected individuals appear to belong to two groups:\n",
    "one with relatively small titer values (less than 10) and one with much higher titer values (centered around 30)."
   ]
  },
  {
   "cell_type": "markdown",
   "id": "736e1926-be12-443a-a692-d4cb14064dfc",
   "metadata": {
    "tags": []
   },
   "source": [
    "### Choosing a Hypothesis Class to Search\n",
    "\n",
    "Now that we have explored our data, it is time to try and make predictions.\n",
    "\n",
    "Recall that we wish to predict patients' labels $ Y = \\{ y_1, y_2, ..., y_N \\} $ from patients' features $ X = \\{ x_1, x_2, ..., x_N \\} $.\n",
    "That is, our task is to predict each $ y_i $ from each $ x_i $, approximating the true mapping $ f $ such that\n",
    "$$\n",
    "\\forall i, \\quad f(x_i) \\mapsto y_i\n",
    "$$\n",
    "\n",
    "Since we can never expect to find $ f $ in a real-life problem (since $ f $ is a theoretically perfect predictor),\n",
    "we will use different hypotheses to approximate it.\n",
    "A hypothesis is just a function that maps features to a label.\n",
    "We will denote a general hypothesis with the variable $ h $.\n",
    "Since we cannot guarantee our hypothesis, $ h $, is always correct,\n",
    "we denote its output with $ \\hat{Y} $ (pronounced \"Y-hat\").\n",
    "We say that $ Y $ is the \"true label\" and $ \\hat{Y} $ is the \"predicted label\".\n",
    "$$\n",
    "\\forall i, \\quad h(x_i) \\mapsto \\hat{y}_i\n",
    "$$\n",
    "\n",
    "Note that we will often relax our notation so that the input to a hypothesis function can either be a single data point ($ h(x_i) \\mapsto \\hat{y}_i $) or many data points ($ h(X) \\mapsto \\hat{Y} $)."
   ]
  },
  {
   "cell_type": "markdown",
   "id": "a7a2a109-311f-4419-8007-9633e8e3210b",
   "metadata": {},
   "source": [
    "#### An Example Hypothesis\n",
    "\n",
    "As a simple example of a hypothesis $ h $,\n",
    "we might predict $ \\hat{y}_i = 1 $ if and only if $ x_i $ is odd.\n",
    "It turns out that this hypothesis is correct more often than random guessing (which would yield 50% accuracy)!\n",
    "But, but this doesn't really seem like a principled hypothesis for the task at hand.\n",
    "We just got lucky, and could have easily picked even instead of odd."
   ]
  },
  {
   "cell_type": "code",
   "execution_count": 10,
   "id": "a1887792-d9d7-4169-bdde-f2d03004ab54",
   "metadata": {},
   "outputs": [
    {
     "name": "stdout",
     "output_type": "stream",
     "text": [
      "The accuracy of predicting Ŷ = 1 iff X is odd is 73.82%.\n"
     ]
    }
   ],
   "source": [
    "def is_odd(feature_value):\n",
    "    \"\"\"\n",
    "    An example hypothesis that guesses True (1) if the input is odd.\n",
    "    \"\"\"\n",
    "\n",
    "    return feature_value % 2\n",
    "\n",
    "# Note that Pandas understands how to do \"% 2\" on an entire series,\n",
    "# so our hypothesis function works for single values and Pandas series.\n",
    "Y_predicted = is_odd(X_values)\n",
    "\n",
    "accuracy = sum(Y_values == Y_predicted) / len(covid_data)\n",
    "print(f\"The accuracy of predicting Ŷ = 1 iff X is odd is {accuracy * 100}%.\")"
   ]
  },
  {
   "cell_type": "markdown",
   "id": "1cf6aa23-ca69-4745-82dd-9f58471b58b0",
   "metadata": {},
   "source": [
    "#### An Example Hypothesis Class\n",
    "\n",
    "Having only a single possible hypothesis is not very interesting or useful.\n",
    "Instead, we want to try out and evaluate multiple different hypotheses.\n",
    "When we group together multiple hypotheses, we call this a *hypothesis class*, denoted by $ \\mathcal{H} $.\n",
    "\n",
    "Let's consider a class of two different hypotheses:\n",
    "$ h_0 $ that predicts $ \\hat{Y} = 0 $ for all examples,\n",
    "and $ h_1 $ that always predicts $ \\hat{Y} = 1 $.\n",
    "$$\n",
    "\\mathcal{H} = \\Big\\{ h_0, h_1 \\Big\\}\n",
    "$$\n",
    "where\n",
    "$$\n",
    "\\forall X, \\quad h_0(X) = 0 \\quad h_1(X) = 1\n",
    "$$\n",
    "Note that both of these hypotheses are independent of $ X $ ($ X $ does not affect what value the hypotheses predicts).\n",
    "\n",
    "Now that we have two possible hypotheses,\n",
    "we can conduct experiments to compare them on our data and select the hypothesis that performs the best.\n",
    "Since only $ \\approx $ 5% of individuals in our dataset are Covid-19 positive,\n",
    "$ h_0 $ will match the true mapping $ f $ on 95% of examples (while $ h_1 $ is only correct 5% of the time).\n",
    "If we decide the best hypothesis using maximum accuracy,\n",
    "then $ h_0 $ will look like the best hypothesis and we will always predict that patients are not infected with Covid-19.\n",
    "\n",
    "Obviously, this class of hypotheses is too naïve and we need a richer hypothesis space to search."
   ]
  },
  {
   "cell_type": "markdown",
   "id": "748e0a9b-7415-4ffa-b076-f993a09db80a",
   "metadata": {},
   "source": [
    "#### A Parametric Hypothesis Class\n",
    "\n",
    "If we look back to our naïve hypothesis class $ \\mathcal{H} = \\{h_0, h_1\\} $,\n",
    "we can generalize these hypotheses a bit if recognize that both $ h_0 $ and $ h_1 $ are *threshold* classifiers.\n",
    "That is, the value of each function can be expressed in terms of a comparison of $ X $ to some *threshold* value:\n",
    "\\begin{align*}\n",
    "    h_0 = h(X) &= \\begin{cases} 1 & X > \\infty \\\\\n",
    "                            0 & X \\leq \\infty \\end{cases} \\\\\n",
    "    h_1 = h(X) &= \\begin{cases} 1 & X > -\\infty \\\\\n",
    "                            0 & X \\leq -\\infty \\end{cases}\n",
    "\\end{align*}\n",
    "In this case, our threshold values were the extreme ends of the spectrum: $ \\infty $ and $ -\\infty $.\n",
    "\n",
    "Now what if, instead of these extreme threshold values, we choose a more meaningful value like `20`?\n",
    "\\begin{align*}\n",
    "    h_{20} = h(X) &= \\begin{cases} 1 & X > 20 \\\\\n",
    "                          0 & X \\leq 20 \\end{cases}\n",
    "\\end{align*}\n",
    "\n",
    "Now, we can also abstract out the specific threshold value for a variable, $ \\theta $:\n",
    "\\begin{align*}\n",
    "    h(X, \\theta) &= \\begin{cases} 1 & X > \\theta \\\\\n",
    "                                  0 & X \\leq \\theta \\end{cases}\n",
    "\\end{align*}\n",
    "We can recover all of our previous hypothesis using this more general form:\n",
    "\\begin{align*}\n",
    "    h_0 & = h(X, \\infty) \\\\\n",
    "    h_1 & = h(X, -\\infty) \\\\\n",
    "    h_{20} & = h(X, 20)\n",
    "\\end{align*}\n",
    "\n",
    "We can even apply our new general hypothesis to our Covid-19 data.\n",
    "Let $h(X, \\theta)$ predict that a patient is infected with Covid-19 ($ \\hat{Y} = 1 $) if and only if `titer` $ X $ is above the threshold value $ \\theta $:\n",
    "$$\n",
    "    h(X, \\theta) = \\begin{cases}\n",
    "    1 & X > \\theta  \\\\\n",
    "    0 & X \\leq \\theta\n",
    "    \\end{cases}\n",
    "$$\n",
    "\n",
    "Since we now have a general and parameterized hypothesis function,\n",
    "we can use it to define *all possible hypotheses* our function can represent.\n",
    "This set of all possible hypotheses is called a \"hypothesis space\"\n",
    "(you can think of it as a more general form of a hypothesis class).\n",
    "Letting $ \\theta $ be all possible real numbers, $ \\mathbb{R} $, we can create our hypothesis space $ \\mathcal{H} $:\n",
    "$$\n",
    "    \\mathcal{H} = \\Big\\{h(\\cdot, \\theta) ~\\colon~ \\theta \\in \\mathbb{R} \\Big\\}\n",
    "$$\n",
    "Where the $ \\cdot $ (dot) represents any input value.\n",
    "\n",
    "Because each such threshold classifier is uniquely determined by its threshold value $\\theta$, we say that this hypothesis space is *parameterized* by $\\theta$.\n",
    "This means that the original optimization problem may be written as an optimization over $ \\theta $,\n",
    "where we slightly abuse notation to rewrite $ L $ as a function of $ \\theta $:\n",
    "$$\n",
    "\\min_{h\\in\\mathcal{H}} \\mathbb{E}_Z \\Big[ L(Z, h) \\Big] =  \\min_{\\theta} \\mathbb{E}_Z \\Big[ L(Z, \\theta) \\Big]\n",
    "$$\n",
    "\n",
    "It is very common in machine learning to choose hypothesis classes that are parameterized by numerical variables,\n",
    "this makes it easier to search over with a program."
   ]
  },
  {
   "cell_type": "markdown",
   "id": "7f9853a4-9ed8-4e73-acaa-178236df0ff0",
   "metadata": {},
   "source": [
    "<h3 style=\"color: darkorange; font-size: x-large\";>★ Task 1.A</h3>\n",
    "\n",
    "Complete the function below that implements the threshold hypothesis function $ h(x, \\theta) $ described above."
   ]
  },
  {
   "cell_type": "code",
   "execution_count": 11,
   "id": "0928c628-4212-447f-9c92-8b29479472d5",
   "metadata": {},
   "outputs": [
    {
     "name": "stdout",
     "output_type": "stream",
     "text": [
      "h(0, 1):  False\n",
      "h(1, 0):  True\n"
     ]
    }
   ],
   "source": [
    "def threshold_hypothesis(feature, theta):\n",
    "    \"\"\"\n",
    "    Our thresholding hypothesis function.\n",
    "    Predict True if x > theta, and False otherwise.\n",
    "\n",
    "    Args:\n",
    "      feature: A scalar \"titer\" value.\n",
    "\n",
    "    Returns:\n",
    "      ŷ: A boolean.\n",
    "    \"\"\"\n",
    "\n",
    "    if feature > theta:\n",
    "        return True\n",
    "    return False\n",
    "\n",
    "print(\"h(0, 1): \", threshold_hypothesis(0, 1))\n",
    "print(\"h(1, 0): \", threshold_hypothesis(1, 0))"
   ]
  },
  {
   "cell_type": "markdown",
   "id": "883144d4-f003-40a5-9fd6-b7f6ed671725",
   "metadata": {},
   "source": [
    "### Selecting a Loss Function to Minimize\n",
    "\n",
    "In general, it is not possible to learn the true mapping of data to labels, $ f $, exactly.\n",
    "In fact, there may be no $ \\theta $, or no $ h \\in \\mathcal{H} $, such that $ h = f $.\n",
    "It could even be possible that \n",
    "$ f $ is not even a true *function*!\n",
    "There could be two patients with the same features but different infection labels,\n",
    "making it impossible for $ f $ to actually exist.\n",
    "\n",
    "Instead, we want to choose an $ h \\in \\mathcal{H} $ that closely approximates the true mapping $ f $.\n",
    "Mathematically, we introduce a [\"loss\" function](https://en.wikipedia.org//wiki/Loss_function) that imposes some\n",
    "[divergence](https://en.wikipedia.org/wiki/Divergence_(statistics)) between $ h $ and $ f $ and seek to minimize this loss.\n",
    "Essentially, we want a function (a loss function) that can tell us how well a hypothesis performs\n",
    "(higher loss values are typically bad and a zero loss means our hypothesis matches the data exactly).\n",
    "Minimizing a loss function is the central task in [mathematical optimization](https://en.wikipedia.org/wiki/Mathematical_optimization),\n",
    "and is thus central to machine learning.\n",
    "\n",
    "Though the world of loss functions is vast and theoretically rich,\n",
    "one simple loss function for binary classifiers is \"Zero-One\" loss.\n",
    "Zero-One loss outputs a zero loss (score) when our hypothesis, $ h $, and the true label mapping, $ f $, agree on a given example $ (x_i, y_i) $,\n",
    "and a one loss (score) otherwise.\n",
    "(For each data points we get a 0 if we are right and a 1 if we are wrong.)\n",
    "$$\n",
    "    L(Z, \\theta) = \\begin{cases}\n",
    "    0 & h(X, \\theta) = Y \\\\\n",
    "    1 & \\text{otherwise}\n",
    "    \\end{cases}\n",
    "$$\n",
    "\n",
    "Minimizing Zero-One loss corresponds to maximizing the accuracy of a binary predictor, i.e.,\n",
    "minimizing the number of times our hypothesis disagrees with the true labels makes our predictor better."
   ]
  },
  {
   "cell_type": "markdown",
   "id": "052f5b77-6cb2-4ca4-bd9c-eae584f9c52c",
   "metadata": {},
   "source": [
    "<h3 style=\"color: darkorange; font-size: x-large\";>★ Task 1.B</h3>\n",
    "\n",
    "Complete the function below which computes the Zero-One loss for the given hypothesis and theta on the given example.\n",
    "\n",
    "Note here how we are passing a function (`hypothesis`) into the function we are creating (`zero_one_loss`).\n",
    "Python has no trouble passing around functions (methods are a little harder).\n",
    "We will be passing functions as arguments a lot in this assignment.\n",
    "At first it may seem strange to pass functions instead of just calling them directly,\n",
    "but this will give your code a lot more flexibility.\n",
    "For example, when grading we can use our own implementations of the passed in functions\n",
    "and grade you even if you skip a part (so messing up earlier on will not impact your grade for later parts).\n",
    "So, if you accidentally mess up `threshold_hypothesis`,\n",
    "that will not impact your grade for `zero_one_loss`."
   ]
  },
  {
   "cell_type": "code",
   "execution_count": 12,
   "id": "00da6dc0-2e54-44a8-a055-47439274df34",
   "metadata": {},
   "outputs": [
    {
     "name": "stdout",
     "output_type": "stream",
     "text": [
      "What's the loss for h(0, 1) with a positive label?:  1\n",
      "What's the loss for h(1, 0) with a positive label?:  0\n"
     ]
    }
   ],
   "source": [
    "def zero_one_loss(feature, label, hypothesis, theta):\n",
    "    \"\"\"\n",
    "    Zero-One Loss on a single example (feature, label), as a function of hypothesis and theta.\n",
    "\n",
    "    Args:\n",
    "      feature: A scalar \"titer\" value.\n",
    "      label: A boolean value corresponding to actual Covid-19 infection.\n",
    "      hypothesis: A function of (x, theta) that maps to predicted boolean label ŷ.\n",
    "      theta: A scalar titer threshold.\n",
    "\n",
    "    Returns:\n",
    "      0 or 1\n",
    "    \"\"\"\n",
    "\n",
    "    if hypothesis(feature, theta) == label:\n",
    "        return 0\n",
    "    return 1\n",
    "\n",
    "loss = zero_one_loss(0, True, threshold_hypothesis, 1)\n",
    "print(\"What's the loss for h(0, 1) with a positive label?: \", loss)\n",
    "\n",
    "loss = zero_one_loss(1, True, threshold_hypothesis, 0)\n",
    "print(\"What's the loss for h(1, 0) with a positive label?: \", loss)"
   ]
  },
  {
   "cell_type": "markdown",
   "id": "15c04522-4e1d-4e97-8cc3-d893911403bb",
   "metadata": {},
   "source": [
    "---\n",
    "\n",
    "## Part 2: Solving the Problem\n",
    "\n",
    "Now that we have formalisms for hypotheses and loss functions,\n",
    "we will work on finding the best hypothesis/parameters to solve our problem.\n",
    "The first step will be to evaluate how well a hypothesis and parameter are performing according to our loss function on our data.\n",
    "To do that, we can compute an expected loss (the mean loss over all data points):\n",
    "$$\n",
    "\\mathbb{E}_{Z} \\Big[ L(Z, h, \\theta) \\Big] = \\frac{1}{N} \\sum_{i = 1}^N L(z_i, h, \\theta)\n",
    "$$"
   ]
  },
  {
   "cell_type": "markdown",
   "id": "c3a3b677-4a7b-41b7-84ae-e7e3f8948293",
   "metadata": {},
   "source": [
    "<h3 style=\"color: darkorange; font-size: x-large\";>★ Task 2.A</h3>\n",
    "\n",
    "Complete the function below which calculates the expected (average) loss on the given examples (`features` and `labels`) as a function of the hypothesis and $ \\theta $."
   ]
  },
  {
   "cell_type": "code",
   "execution_count": 13,
   "id": "bef9fbee-999a-47db-b4d9-6b909e2a83d8",
   "metadata": {},
   "outputs": [
    {
     "name": "stdout",
     "output_type": "stream",
     "text": [
      "Expected Loss:  0.5\n"
     ]
    }
   ],
   "source": [
    "def expected_loss(features, labels, loss_function, hypothesis, theta):\n",
    "    \"\"\"\n",
    "    Evaluates the average loss of the given hypothesis/theta over all examples.\n",
    "\n",
    "    Args:\n",
    "      features: the column of X feature (titer) values from empirical data.\n",
    "      labels: the column of Y label (infection) values from empirical data.\n",
    "      loss_function: A loss function.\n",
    "      hypothesis: A function of (x, theta) that maps to the predicted label ŷ.\n",
    "      theta: A scalar titer threshold.\n",
    "\n",
    "    Returns:\n",
    "      A scalar.\n",
    "    \"\"\"\n",
    "    assert len(features) == len(labels)\n",
    "\n",
    "    num_labels = len(features)\n",
    "\n",
    "    iter = 0\n",
    "\n",
    "    total_loses = 0\n",
    "\n",
    "    while (iter < num_labels):\n",
    "        total_loses += loss_function(features[iter], labels[iter], hypothesis, theta)\n",
    "        iter += 1\n",
    "    return total_loses / num_labels\n",
    "\n",
    "features = [-1, -1, 1, 1]\n",
    "labels = [True, False, True, False]\n",
    "loss = expected_loss(features, labels, zero_one_loss, threshold_hypothesis, 0)\n",
    "print(\"Expected Loss: \", loss)"
   ]
  },
  {
   "cell_type": "markdown",
   "id": "9f2be223-c4ca-4134-b56f-94ad1ec85277",
   "metadata": {},
   "source": [
    "Since our example is simple, we can visualize the \"loss landscape\" (loss as a function of $ \\theta $) directly.\n",
    "\n",
    "**The following step depends on previous tasks.**"
   ]
  },
  {
   "cell_type": "code",
   "execution_count": 14,
   "id": "28f31be1-a275-4fc2-afe1-ce9d87b5219a",
   "metadata": {},
   "outputs": [
    {
     "data": {
      "image/png": "[encoded data removed]",
      "text/plain": [
       "<Figure size 640x480 with 1 Axes>"
      ]
     },
     "metadata": {},
     "output_type": "display_data"
    }
   ],
   "source": [
    "# Possible threshold values (e.g. possible titer values).\n",
    "possible_thetas = list(range(X_values.min() - 1, X_values.max()))\n",
    "\n",
    "def check_implemented_for_plotting(loss_function, expected_loss, hypothesis):\n",
    "    \"\"\"\n",
    "    Raise a special exception if the code has not been implemented yet.\n",
    "    Catching this exception allows us to\n",
    "    gracefully handle tasks that have not yet been implemented\n",
    "    (instead of just crashing).\n",
    "    \"\"\"\n",
    "    \n",
    "    if (hypothesis(0, 1) == NotImplemented):\n",
    "        raise NotImplementedError(\"Hypothesis (%s) not yet implemented.\" % (\n",
    "            hypothesis.__name__))\n",
    "\n",
    "    if (loss_function(0, True, hypothesis, 1) == NotImplemented):\n",
    "        raise NotImplementedError(\"Loss function (%s) not yet implemented.\" % (\n",
    "            loss_function.__name__))\n",
    "\n",
    "    if (expected_loss([0], [True], loss_function, hypothesis, 0) == NotImplemented):\n",
    "        raise NotImplementedError(\"Expected loss function (%s) not yet implemented.\" % (\n",
    "            expected_loss.__name__))\n",
    "\n",
    "def evaluate_losses(features, labels, loss_function, expected_loss, hypothesis):\n",
    "    \"\"\"\n",
    "    Return a list of expected losses mapped from a list of possible theta values.\n",
    "    \"\"\"\n",
    "\n",
    "    # Test if the provided code has been implemented yet.\n",
    "    check_implemented_for_plotting(loss_function, expected_loss, hypothesis)\n",
    "    \n",
    "    # Empirical loss for each threshold value.\n",
    "    losses = []\n",
    "    for theta in possible_thetas:\n",
    "        losses.append(expected_loss(features, labels, loss_function, hypothesis, theta))\n",
    "\n",
    "    return losses\n",
    "\n",
    "def plot_loss_landscape():\n",
    "    \"\"\"\n",
    "    Plot expected loss vs threshold value.\n",
    "    \"\"\"\n",
    "\n",
    "    matplotlib.pyplot.plot(possible_thetas, evaluate_losses(X_values, Y_values,\n",
    "                                                 zero_one_loss, expected_loss,\n",
    "                                                 threshold_hypothesis))\n",
    "    matplotlib.pyplot.title('Loss vs Threshold Value')\n",
    "    matplotlib.pyplot.xlabel('Threshold')\n",
    "    matplotlib.pyplot.ylabel('Average 0-1 Loss')\n",
    "\n",
    "try:\n",
    "    plot_loss_landscape()\n",
    "except NotImplementedError as ex:\n",
    "    print(\"Cannot run plotting function: \", ex)"
   ]
  },
  {
   "cell_type": "markdown",
   "id": "dd650311-6d76-4a5c-8cd4-1ea53221491e",
   "metadata": {},
   "source": [
    "Again, since our example is simple, we may find the loss-minimizing value of $\\theta$ by performing a direct search."
   ]
  },
  {
   "cell_type": "markdown",
   "id": "fff0bcad-8022-4f34-86dd-11cc374db492",
   "metadata": {},
   "source": [
    "### Brute-Force Search\n",
    "\n",
    "There are many optimization algorithms used in machine learning, each with countless tweaks and variations.\n",
    "One of the more famous methods, gradient descent, we will learn about later in this course.\n",
    "Nonetheless, **many** optimization algorithms are applicable to our current problem of empirical risk minimization;\n",
    "in some cases, more principled algorithms (such as convex optimization methods) will give better results, depending on the structure of the problem.\n",
    "To focus on the conceptual underpinnings of empirical risk minimization, here we will start with the simplest of algorithms: brute-force search.\n",
    "That is, we will compare all possible hypotheses (values of theta) and select the one that minimizes empirical loss.\n",
    "A brute force search is not always possible (like when there are infinite thetas), but in our specific case there are only so many possible integer titer values."
   ]
  },
  {
   "cell_type": "markdown",
   "id": "f25ab0c2-9bee-4e89-b814-37b3ee740e4e",
   "metadata": {},
   "source": [
    "<h3 style=\"color: darkorange; font-size: x-large\";>★ Task 2.B</h3>\n",
    "\n",
    "Complete the function below which calculates the index of the minimum of a given loss:"
   ]
  },
  {
   "cell_type": "code",
   "execution_count": 15,
   "id": "f3fb2413-d230-4e38-8d08-a8b6701b6443",
   "metadata": {},
   "outputs": [
    {
     "name": "stdout",
     "output_type": "stream",
     "text": [
      "Index of min of [1, 1, 1, 1, 1, 1, 1, 2, 3]: 0.\n",
      "Index of min of [3, 2, 1]: 2.\n"
     ]
    }
   ],
   "source": [
    "def index_of_minimum(list_of_values):\n",
    "    \"\"\"\n",
    "    Return the index of minimum value from a list of values.\n",
    "    If there are multiple items that share the same minimum value,\n",
    "    then return the lowest index.\n",
    "\n",
    "    Args:\n",
    "      list_of_values: A list or array.\n",
    "\n",
    "    Return:\n",
    "      An integer index or None if the list is empty.\n",
    "    \"\"\"\n",
    "\n",
    "    if len(list_of_values) == 0:\n",
    "        return None\n",
    "\n",
    "    index_lowest_value = 0\n",
    "    for i in range(0, len(list_of_values)):\n",
    "        if list_of_values[i] < list_of_values[index_lowest_value]:\n",
    "            index_lowest_value = i\n",
    "            \n",
    "    return index_lowest_value\n",
    "\n",
    "my_list = [1, 1, 1, 1, 1, 1, 1, 2, 3]\n",
    "print(\"Index of min of %s: %s.\" % (my_list, index_of_minimum(my_list)))\n",
    "\n",
    "my_list = [3, 2, 1]\n",
    "print(\"Index of min of %s: %s.\" % (my_list, index_of_minimum(my_list)))"
   ]
  },
  {
   "cell_type": "markdown",
   "id": "ac57df22-d5e0-4a72-8e23-671e19975a13",
   "metadata": {},
   "source": [
    "### Result: Learned Threshold Value\n",
    "\n",
    "According to the average Zero-One loss, what is the optimal threshold titer above which to predict an individual has Covid-19?\n",
    "The function bellow will finally answer this question.\n",
    "\n",
    "**This step depends on the previous tasks.**"
   ]
  },
  {
   "cell_type": "code",
   "execution_count": 16,
   "id": "25b7df30-5aea-4585-a699-6ccfca288286",
   "metadata": {},
   "outputs": [
    {
     "name": "stdout",
     "output_type": "stream",
     "text": [
      "Optimal threshold theta for raw accuracy:  33\n"
     ]
    }
   ],
   "source": [
    "def check_implemented_for_brute_force(hypothesis, loss_function, expected_loss, index_of_minimum):\n",
    "    \"\"\"\n",
    "    Raise a special exception if the code has not been implemented yet.\n",
    "    Catching this exception allows us to\n",
    "    gracefully handle tasks that have not yet been implemented\n",
    "    (instead of just crashing).\n",
    "    \"\"\"\n",
    "\n",
    "    check_implemented_for_plotting(loss_function, expected_loss, hypothesis)\n",
    "    \n",
    "    if (index_of_minimum([0]) == NotImplemented):\n",
    "        raise NotImplementedError(\"Index of minimum function (%s) not yet implemented.\" % (\n",
    "            index_of_minimum.__name__))\n",
    "\n",
    "def brute_force_minimize(possible_thetas, index_of_minimum, features, labels,\n",
    "                         loss_function, expected_loss, hypothesis):\n",
    "    check_implemented_for_brute_force(hypothesis, loss_function, expected_loss, index_of_minimum)\n",
    "                                 \n",
    "    best_index = index_of_minimum(evaluate_losses(features, labels, loss_function,\n",
    "                                                  expected_loss, hypothesis))\n",
    "    return possible_thetas[best_index]\n",
    "\n",
    "try:\n",
    "    min_value = brute_force_minimize(\n",
    "        possible_thetas, index_of_minimum,\n",
    "        X_values, Y_values, zero_one_loss, expected_loss, threshold_hypothesis\n",
    "    )\n",
    "    print(\"Optimal threshold theta for raw accuracy: \", min_value)\n",
    "except NotImplementedError as ex:\n",
    "    print(\"Cannot run brute force minimization: \", ex)"
   ]
  },
  {
   "cell_type": "markdown",
   "id": "3a4219ee-3cf1-4bf2-b9f9-08dbaf5f7d92",
   "metadata": {},
   "source": [
    "Go back and compare this value to our graph that plots loss against threshold.\n",
    "Does this value match up with the graph?"
   ]
  },
  {
   "cell_type": "markdown",
   "id": "862a6386-da57-4333-b049-7e6d288f0018",
   "metadata": {},
   "source": [
    "---\n",
    "\n",
    "## Part 3: Assessing Risk\n",
    "\n",
    "In this part, we will learn how to evaluate our solution and consider the associated risks of deployment.\n",
    "In general, each of the steps we went through in previous parts are non-trivial and raises questions that are the subject of active research.\n",
    "For example:\n",
    " - Is our selection of variables appropriate, or do they induce bias in our predictor?\n",
    " - What loss functions naturally encode our objectives? Which have mathematical advantages? Which introduce systematic risks?\n",
    " - What algorithms are effective in which settings, and what theoretical results can we prove regarding speed, efficiency, or safety?\n",
    " - How do we use existing data effectively, again without introducing bias or systemic errors in our solutions?\n",
    " - Can our algorithms scale to larger datasets?\n",
    " - Can we choose algorithms that can guarantee our results are good enough?\n",
    "\n",
    "While we have found the threshold titer value that minimizes Zero-One loss and therefore maximizes accuracy,\n",
    "accuracy (especially evaluated only on the data used for training) is not necessarily the best quantity to optimize.\n",
    "For example, our Covid-19 data only has about 5% of patients that are infected.\n",
    "Predicting False for all data points would give an accuracy of 95%.\n",
    "The accuracy may be high, but the predictor is useless.\n",
    "\n",
    "Additionally, sometimes we care about certain types of errors more than others.\n",
    "Consider the following use for our titer-threshold classifier: we wish to screen visitors for entry to a ward of immunocompromised patients.\n",
    "If our classifier makes a mistake, we would rather it error on the side of caution and predict that someone has Covid-19 when they actually do not.\n",
    "This way even if we made an error, we protected the immunocompromised patients.\n",
    "In this example, optimizing for accuracy alone is not the best measure of utility.\n",
    "\n",
    "### Binary Classification Errors\n",
    "\n",
    "For binary classifiers, there are several types of prediction outcomes that comprise a \"contingency table\" or [Confusion Matrix](https://en.wikipedia.org/wiki/Confusion_matrix) and which are worthy of dedicated names:\n",
    "\n",
    "<center><img src=\"confusion-matrix.png\"/></center>\n",
    "<center style='font-size: small'>Image courtesy of <a href='https://en.wikipedia.org/wiki/Confusion_matrix'>Wikipedia</a></center>\n",
    "\n",
    " - True Positives (TP) -- Also called a \"hit\". Represent instances that were correctly classified as positive/true.\n",
    " - True Negatives (TN) -- Also called a \"correct rejection\". Represent instances that were correctly classified as negative/false.\n",
    " - False Positives (FP) -- Also called a \"Type I Error\" or \"false alarm\". Represent instances that were incorrectly classified as positive/true.\n",
    " - False Negatives (FN) -- Also called a \"Type II Error\" or \"miss\". Represent instances that were incorrectly classified as negative/false.\n",
    "\n",
    "From a confusion matrix, there are many different metrics you can compute\n",
    "(all telling you different things about your classifier and the dataset):\n",
    "\n",
    "| Metric                     | Definition                   |\n",
    "| -------------------------- | ---------------------------- |\n",
    "| True Positive Fraction     | $$ \\Pr(\\hat{Y}=1, Y=1)   $$  |\n",
    "| False Positive Fraction    | $$ \\Pr(\\hat{Y}=1, Y=0)   $$  |\n",
    "| True Negative Fraction     | $$ \\Pr(\\hat{Y}=0, Y=0)   $$  |\n",
    "| False Negative Fraction    | $$ \\Pr(\\hat{Y}=0, Y=1)   $$  |\n",
    "| True Positive Rate         | $$ \\Pr(\\hat{Y}=1 \\mid Y=1) $$   |\n",
    "| False Positive Rate        | $$ \\Pr(\\hat{Y}=1 \\mid Y=0) $$   |\n",
    "| True Negative Rate         | $$ \\Pr(\\hat{Y}=0 \\mid Y=0) $$   |\n",
    "| False Negative Rate        | $$ \\Pr(\\hat{Y}=0 \\mid Y=1) $$   |\n",
    "\n",
    "Let's walk through some of these metrics.\n",
    "\n",
    "\"True Positive Fraction\" ($ \\Pr(\\hat{Y}=1, Y=1) $) is the probability that both our prediction, $ \\hat{Y} $, and true label, $ Y $, are positive/true/1.\n",
    "Therefore, it would be the number of true positives over the total number of samples:\n",
    "$$\n",
    "\\mathrm{True Positive Fraction} = TP / N\n",
    "$$\n",
    "\n",
    "\"True Positive Rate\" ($ \\Pr(\\hat{Y}=1 | Y=1) $) is the probability that the predicted label, $ \\hat{Y} $, is positive *given* (conditioned on) the true label being positive.\n",
    "Therefore, it would be the number of true positives over the total number actual positives:\n",
    "$$\n",
    "\\mathrm{True Positive Rate} = TP / (TP + FN)\n",
    "$$\n",
    "\n",
    "Be aware that most of these metrics have different names in different fields.\n",
    "For example, \"True Positive Rate\" is also called \"recall\", \"sensitivity\", and \"probability of detection\"."
   ]
  },
  {
   "cell_type": "markdown",
   "id": "cfe1f4fa-4745-4287-b146-80fbac17bc93",
   "metadata": {},
   "source": [
    "<h3 style=\"color: darkorange; font-size: x-large\";>★ Task 3.A</h3>\n",
    "\n",
    "Complete the following functions, which calculate the frequencies of certain outcomes for a titer-threshold classifier on our empirical data.\n",
    "Refer to the above table and descriptions.\n",
    "Feel free to create any supporting/helper functions you need."
   ]
  },
  {
   "cell_type": "code",
   "execution_count": 17,
   "id": "a553dc7b-d45a-4a37-98ce-f68ef248477b",
   "metadata": {},
   "outputs": [
    {
     "name": "stdout",
     "output_type": "stream",
     "text": [
      "Result of 'true_positive_fraction': 0.25.\n",
      "Result of 'false_positive_fraction': 0.25.\n",
      "Result of 'true_negative_fraction': 0.25.\n",
      "Result of 'false_negative_fraction': 0.25.\n"
     ]
    }
   ],
   "source": [
    "def true_positive_fraction(features, labels, hypothesis, theta):\n",
    "    \"\"\"\n",
    "    Returns Pr(Ŷ = 1, Y = 1) for the given hypothesis and theta.\n",
    "\n",
    "    Args:\n",
    "      features: the column of X feature (titer) values from empirical data.\n",
    "      labels: the column of Y label (infection) values from empirical data.\n",
    "      hypothesis: A function of (x, theta) that maps to the predicted label ŷ.\n",
    "      theta: A scalar titer threshold.\n",
    "\n",
    "    Return:\n",
    "      A float.\n",
    "    \"\"\"\n",
    "    assert len(features) == len(labels)\n",
    "\n",
    "    hyp_labels = []\n",
    "\n",
    "    for feature in features:\n",
    "        hyp_labels.append(hypothesis(feature, theta))\n",
    "\n",
    "    num_tp = 0\n",
    "    for label in range(len(labels)):\n",
    "        if hyp_labels[label] is True and labels[label] is True:\n",
    "            num_tp += 1\n",
    "\n",
    "    return num_tp / len(labels)\n",
    "        \n",
    "\n",
    "def false_positive_fraction(features, labels, hypothesis, theta):\n",
    "    \"\"\"\n",
    "    Returns Pr(Ŷ = 1, Y = 0) for the given hypothesis and theta.\n",
    "\n",
    "    Args:\n",
    "      features: the column of X feature (titer) values from empirical data.\n",
    "      labels: the column of Y label (infection) values from empirical data.\n",
    "      hypothesis: A function of (x, theta) that maps to the predicted label ŷ.\n",
    "      theta: A scalar titer threshold.\n",
    "\n",
    "    Return:\n",
    "      A float.\n",
    "    \"\"\"\n",
    "    assert len(features) == len(labels)\n",
    "\n",
    "    hyp_labels = []\n",
    "\n",
    "    for feature in features:\n",
    "        hyp_labels.append(hypothesis(feature, theta))\n",
    "\n",
    "    num_fp = 0\n",
    "    for label in range(len(labels)):\n",
    "        if hyp_labels[label] is True and labels[label] is False:\n",
    "            num_fp += 1\n",
    "\n",
    "    return num_fp / len(labels)\n",
    "    \n",
    "def true_negative_fraction(features, labels, hypothesis, theta):\n",
    "    \"\"\"\n",
    "    Returns Pr(Ŷ = 0, Y = 0) for the given hypothesis and theta.\n",
    "\n",
    "    Args:\n",
    "      features: the column of X feature (titer) values from empirical data.\n",
    "      labels: the column of Y label (infection) values from empirical data.\n",
    "      hypothesis: A function of (x, theta) that maps to the predicted label ŷ.\n",
    "      theta: A scalar titer threshold.\n",
    "\n",
    "    Return:\n",
    "      A float.\n",
    "    \"\"\"\n",
    "\n",
    "    assert len(features) == len(labels)\n",
    "\n",
    "    hyp_labels = []\n",
    "\n",
    "    for feature in features:\n",
    "        hyp_labels.append(hypothesis(feature, theta))\n",
    "\n",
    "    num_tn = 0\n",
    "    for label in range(len(labels)):\n",
    "        if hyp_labels[label] is False and labels[label] is False:\n",
    "            num_tn += 1\n",
    "\n",
    "    return num_tn / len(labels)\n",
    "\n",
    "def false_negative_fraction(features, labels, hypothesis, theta):\n",
    "    \"\"\"\n",
    "    Returns Pr(Ŷ = 0, Y = 1) for the given hypothesis and theta.\n",
    "\n",
    "    Args:\n",
    "      features: the column of X feature (titer) values from empirical data.\n",
    "      labels: the column of Y label (infection) values from empirical data.\n",
    "      hypothesis: A function of (x, theta) that maps to the predicted label ŷ.\n",
    "      theta: A scalar titer threshold.\n",
    "\n",
    "    Return:\n",
    "      A float.\n",
    "    \"\"\"\n",
    "\n",
    "    assert len(features) == len(labels)\n",
    "\n",
    "    hyp_labels = []\n",
    "\n",
    "    for feature in features:\n",
    "        hyp_labels.append(hypothesis(feature, theta))\n",
    "\n",
    "    num_fn = 0\n",
    "    for label in range(len(labels)):\n",
    "        if hyp_labels[label] is True and labels[label] is True:\n",
    "            num_fn += 1\n",
    "\n",
    "    return num_fn / len(labels)\n",
    "\n",
    "features = [-1, -1, 1, 1]\n",
    "labels = [True, False, True, False]\n",
    "functions = [\n",
    "    true_positive_fraction,\n",
    "    false_positive_fraction,\n",
    "    true_negative_fraction,\n",
    "    false_negative_fraction,\n",
    "]\n",
    "\n",
    "for function in functions:\n",
    "    value = function(features, labels, threshold_hypothesis, 0)\n",
    "    print(\"Result of '%s': %s.\" % (function.__name__, value))"
   ]
  },
  {
   "cell_type": "markdown",
   "id": "3cf094fe-7a19-4aea-b46b-f714fee018c5",
   "metadata": {
    "tags": []
   },
   "source": [
    "<h3 style=\"color: darkorange; font-size: x-large\";>★ Task 3.B</h3>\n",
    "\n",
    "Complete the following functions, which calculate the frequencies of certain outcome rates for a titer-threshold classifier on our empirical data.\n",
    "Return `numpy.nan` if the desired quantity is undefined.\n",
    "\n",
    "Feel free to use the function that you made in the previous task.\n",
    "(If you made any super sweet helper functions there, its also fine to use those instead of the task functions.)"
   ]
  },
  {
   "cell_type": "code",
   "execution_count": 112,
   "id": "204bd728-ca55-4063-8211-30e12172ade9",
   "metadata": {},
   "outputs": [
    {
     "name": "stdout",
     "output_type": "stream",
     "text": [
      "Result of 'true_positive_rate': 0.5.\n",
      "Result of 'false_positive_rate': 0.5.\n",
      "Result of 'true_negative_rate': 0.5.\n",
      "Result of 'false_negative_rate': 0.5.\n"
     ]
    }
   ],
   "source": [
    "def true_positive_rate(features, labels, hypothesis, theta):\n",
    "    \"\"\"\n",
    "    Returns Pr(Ŷ = 1 | Y = 1) or numpy.nan (if the result is undefined)\n",
    "    for the given hypothesis and theta.\n",
    "\n",
    "    Args:\n",
    "      features: the column of X feature (titer) values from empirical data.\n",
    "      labels: the column of Y label (infection) values from empirical data.\n",
    "      hypothesis: A function of (x, theta) that maps to the predicted label ŷ.\n",
    "      theta: A scalar titer threshold.\n",
    "\n",
    "    Return:\n",
    "      A float or numpy.nan.\n",
    "    \"\"\"\n",
    "\n",
    "    # True Postive / True Positive + False Negative\n",
    "\n",
    "    assert len(features) == len(labels)\n",
    "\n",
    "    hyp_labels = []\n",
    "\n",
    "    for feature in features:\n",
    "        hyp_labels.append(hypothesis(feature, theta))\n",
    "\n",
    "    num_tp = 0\n",
    "    num_fn = 0\n",
    "    for label in range(len(labels)):\n",
    "        if hyp_labels[label] is True and labels[label] is True:\n",
    "            num_tp += 1\n",
    "        if hyp_labels[label] is False and labels[label] is True:\n",
    "            num_fn += 1\n",
    "\n",
    "    if (num_tp + num_fn) == 0:\n",
    "        return numpy.nan\n",
    "\n",
    "    return num_tp / (num_tp + num_fn)\n",
    "\n",
    "def false_positive_rate(features, labels, hypothesis, theta):\n",
    "    \"\"\"\n",
    "        Returns Pr(Ŷ = 1 | Y = 0) or numpy.nan (if the result is undefined)\n",
    "        for the given hypothesis and theta.\n",
    "\n",
    "    Args:\n",
    "      features: the column of X feature (titer) values from empirical data.\n",
    "      labels: the column of Y label (infection) values from empirical data.\n",
    "      hypothesis: A function of (x, theta) that maps to the predicted label ŷ.\n",
    "      theta: A scalar titer threshold.\n",
    "\n",
    "    Return:\n",
    "      A float or numpy.nan.\n",
    "    \"\"\"\n",
    "    assert len(features) == len(labels)\n",
    "\n",
    "    hyp_labels = []\n",
    "\n",
    "    for feature in features:\n",
    "        hyp_labels.append(hypothesis(feature, theta))\n",
    "\n",
    "    num_fp = 0\n",
    "    num_tn = 0\n",
    "    for label in range(len(labels)):\n",
    "        if hyp_labels[label] is True and labels[label] is False:\n",
    "            num_fp += 1\n",
    "        if hyp_labels[label] is True and labels[label] is True:\n",
    "            num_tn += 1\n",
    "\n",
    "    if (num_fp + num_tn) == 0:\n",
    "        return numpy.nan\n",
    "\n",
    "    return num_fp / (num_fp + num_tn)\n",
    "\n",
    "def true_negative_rate(features, labels, hypothesis, theta):\n",
    "    \"\"\"\n",
    "    Returns Pr(Ŷ = 0 | Y = 0) or numpy.nan (if the result is undefined)\n",
    "    for the given hypothesis and theta.\n",
    "\n",
    "    Args:\n",
    "      features: the column of X feature (titer) values from empirical data.\n",
    "      labels: the column of Y label (infection) values from empirical data.\n",
    "      hypothesis: A function of (x, theta) that maps to the predicted label ŷ.\n",
    "      theta: A scalar titer threshold.\n",
    "\n",
    "    Return:\n",
    "      A float or numpy.nan.\n",
    "    \"\"\"\n",
    "\n",
    "    assert len(features) == len(labels)\n",
    "\n",
    "    hyp_labels = []\n",
    "\n",
    "    for feature in features:\n",
    "        hyp_labels.append(hypothesis(feature, theta))\n",
    "\n",
    "    num_tn = 0\n",
    "    num_fp = 0\n",
    "    for label in range(len(labels)):\n",
    "        if hyp_labels[label] is False and labels[label] is False:\n",
    "            num_tn += 1\n",
    "        if hyp_labels[label] is True and labels[label] is False:\n",
    "            num_fp += 1\n",
    "\n",
    "    if (num_tn + num_fp) == 0:\n",
    "        return numpy.nan\n",
    "\n",
    "    return num_tn / (num_fp + num_tn)\n",
    "    \n",
    "def false_negative_rate(features, labels, hypothesis, theta):\n",
    "    \"\"\"\n",
    "    Returns Pr(Ŷ = 0 | Y = 1) or numpy.nan (if the result is undefined)\n",
    "    for the given hypothesis and theta.\n",
    "\n",
    "    Args:\n",
    "      features: the column of X feature (titer) values from empirical data.\n",
    "      labels: the column of Y label (infection) values from empirical data.\n",
    "      hypothesis: A function of (x, theta) that maps to the predicted label ŷ.\n",
    "      theta: A scalar titer threshold.\n",
    "\n",
    "    Return:\n",
    "      A float or numpy.nan.\n",
    "    \"\"\"\n",
    "\n",
    "    assert len(features) == len(labels)\n",
    "\n",
    "    hyp_labels = []\n",
    "\n",
    "    for feature in features:\n",
    "        hyp_labels.append(hypothesis(feature, theta))\n",
    "\n",
    "    num_tp = 0\n",
    "    num_fn = 0\n",
    "    for label in range(len(labels)):\n",
    "        if hyp_labels[label] is False and labels[label] is True:\n",
    "            num_fn += 1\n",
    "        if hyp_labels[label] is True and labels[label] is True:\n",
    "            num_tp += 1\n",
    "\n",
    "    if (num_fn + num_tp) == 0:\n",
    "        return numpy.nan\n",
    "\n",
    "    return num_fn / (num_fn + num_tp)\n",
    "\n",
    "features = [-1, -1, 1, 1]\n",
    "labels = [True, False, True, False]\n",
    "functions = [\n",
    "    true_positive_rate,\n",
    "    false_positive_rate,\n",
    "    true_negative_rate,\n",
    "    false_negative_rate,\n",
    "]\n",
    "\n",
    "for function in functions:\n",
    "    value = function(features, labels, threshold_hypothesis, 0)\n",
    "    print(\"Result of '%s': %s.\" % (function.__name__, value))"
   ]
  },
  {
   "cell_type": "markdown",
   "id": "140d5db8-33b2-4a34-9818-b0fff0209ddd",
   "metadata": {},
   "source": [
    "### The ROC Curve\n",
    "\n",
    "One way to visualize the trade-offs between different types of binary classification errors is to plot the \"Receiver Operating Characteristics\" (ROC) (the name comes from using radar to classify incoming planes) of the classifier.\n",
    "ROC curves have true positive rate on the y-axis and false positive rate on the x-axis.\n",
    "<center><img src=\"roc-curve.png\"/></center>\n",
    "<center style='font-size: small'>Image courtesy of <a href='https://en.wikipedia.org/wiki/File:Roc_curve.svg'>Wikimedia Commons</a></center>\n",
    "\n",
    "Intuitively, you can look at an ROC curve as how well your classifier performs as you move a threshold vale.\n",
    "Starting at the origin of the x-axis, we have a zero false positive rate.\n",
    "This means that our classifier is very strict about predicting positive labels.\n",
    "But as we move along the x-axis, the false positive rate increases.\n",
    "Therefore, we get to see how our classifier performs as we become less and less strict about predicting positive labels.\n",
    "\n",
    "In general, the more area under the ROC curve, the better.\n",
    "In fact, there is a metric that just calculates the area under an ROC curve: [Area Under the ROC Curve](https://en.wikipedia.org/wiki/Receiver_operating_characteristic#Area_under_the_curve) (AUC or AuROC for short).\n",
    "\n",
    "**This step depends on most of the previous tasks.**"
   ]
  },
  {
   "cell_type": "code",
   "execution_count": 19,
   "id": "499f4952-10c2-465b-8079-74889bf1acfe",
   "metadata": {},
   "outputs": [
    {
     "data": {
      "image/png": "[encoded data removed]",
      "text/plain": [
       "<Figure size 640x480 with 2 Axes>"
      ]
     },
     "metadata": {},
     "output_type": "display_data"
    }
   ],
   "source": [
    "def check_implemented_for_auc(true_positive_rate, false_positive_rate, hypothesis):\n",
    "    \"\"\"\n",
    "    Raise a special exception if the code has not been implemented yet.\n",
    "    Catching this exception allows us to\n",
    "    gracefully handle tasks that have not yet been implemented\n",
    "    (instead of just crashing).\n",
    "    \"\"\"\n",
    "    \n",
    "    if (hypothesis(0, 1) == NotImplemented):\n",
    "        raise NotImplementedError(\"Hypothesis (%s) not yet implemented.\" % (\n",
    "            hypothesis.__name__))\n",
    "\n",
    "    if (true_positive_rate([0], [True], hypothesis, 0) == NotImplemented):\n",
    "        raise NotImplementedError(\"True positive rate function (%s) not yet implemented.\" % (\n",
    "            true_positive_rate.__name__))\n",
    "\n",
    "    if (false_positive_rate is not None):\n",
    "        if (false_positive_rate([0], [True], hypothesis, 0) == NotImplemented):\n",
    "            raise NotImplementedError(\"False positive rate function (%s) not yet implemented.\" % (\n",
    "                false_positive_rate.__name__))\n",
    "\n",
    "def plot_roc(true_positive_rate, false_positive_rate, features, labels, hypothesis):\n",
    "    \"\"\"\n",
    "    Plot the receiver operating characteristics (true positive rate vs false positive rate)\n",
    "    for a given parametric hypothesis class and dataset.\n",
    "    \"\"\"\n",
    "\n",
    "    check_implemented_for_auc(true_positive_rate, false_positive_rate, hypothesis)\n",
    "    \n",
    "    tpr = [\n",
    "        true_positive_rate(features, labels, hypothesis, theta)\n",
    "        for theta in possible_thetas\n",
    "    ]\n",
    "\n",
    "    fpr = [\n",
    "        false_positive_rate(features, labels, hypothesis, theta)\n",
    "        for theta in possible_thetas\n",
    "    ]\n",
    "\n",
    "    min_theta = numpy.min(possible_thetas)\n",
    "    max_theta = numpy.max(possible_thetas)\n",
    "\n",
    "    color = matplotlib.cm.gist_earth(\n",
    "        (possible_thetas - min_theta) / (max_theta - min_theta)\n",
    "    )\n",
    "\n",
    "    ax = matplotlib.pyplot.gca()\n",
    "    for i in numpy.arange(len(possible_thetas) - 1):\n",
    "        ax.plot([fpr[i], fpr[i + 1]], [tpr[i], tpr[i + 1]], c=color[i])\n",
    "\n",
    "    cbar = matplotlib.pyplot.colorbar(\n",
    "        matplotlib.cm.ScalarMappable(\n",
    "            norm=matplotlib.colors.Normalize(min_theta, max_theta), cmap=matplotlib.cm.gist_earth\n",
    "        ),\n",
    "        ax=ax,\n",
    "    )\n",
    "\n",
    "    cbar.set_label(\"Threshold (theta)\")\n",
    "    matplotlib.pyplot.title(\"Receiver Operating Characteristics of Threshold Classifier\")\n",
    "    matplotlib.pyplot.xlabel(\"False Positive Rate\")\n",
    "    matplotlib.pyplot.ylabel(\"True Positive Rate\")\n",
    "\n",
    "try:\n",
    "    plot_roc(true_positive_rate, false_positive_rate, X_values, Y_values, threshold_hypothesis)\n",
    "except NotImplementedError as ex:\n",
    "    print(\"Cannot run ROC plotting function: \", ex)"
   ]
  },
  {
   "cell_type": "markdown",
   "id": "79c9e95c-e4c5-40e9-b6b6-2575de4a6c66",
   "metadata": {},
   "source": [
    "### Precision-Recall Curve\n",
    "\n",
    "Another useful way to visualize the trade-offs between different types of binary classification errors is to plot the \"Precision-Recall Curve\",\n",
    "where \"recall\" is another name for true positive rate and \"precision\" is\n",
    "$$\n",
    "\\Pr(Y{=}1 \\mid \\hat{Y}{=}1)\n",
    "$$\n",
    "Precision-recall curves have precision on the y-axis and recall on the x-axis.\n",
    "Like ROC curves, they give us a way to visualize the trade-off between two different metrics.\n",
    "\n",
    "Also like ROC, more area under the curve is better and there is a metric for how much area is under the curve: Area Under the Precision-Recall Curve (AuPRC).\n",
    "\n",
    "**This step depends on most of the previous tasks.**"
   ]
  },
  {
   "cell_type": "code",
   "execution_count": 20,
   "id": "b76810a1-f07e-47f2-bcd4-6f89f4a34ec1",
   "metadata": {},
   "outputs": [
    {
     "data": {
      "image/png": "[encoded data removed]",
      "text/plain": [
       "<Figure size 640x480 with 2 Axes>"
      ]
     },
     "metadata": {},
     "output_type": "display_data"
    }
   ],
   "source": [
    "def precision(features, labels, hypothesis, theta):\n",
    "    \"\"\"\n",
    "    Returns Pr(Y = 1 | Ŷ = 1) or numpy.nan if undefined for given hypothesis and theta.\n",
    "    \"\"\"\n",
    "\n",
    "    tp = true_positive_fraction(features, labels, hypothesis, theta)\n",
    "    fp = false_positive_fraction(features, labels, hypothesis, theta)\n",
    "\n",
    "    pp = tp + fp\n",
    "\n",
    "    if (pp == 0):\n",
    "        return numpy.nan\n",
    "\n",
    "    return tp / pp\n",
    "\n",
    "def plot_precision_recall(true_positive_rate, precision, features, labels, hypothesis):\n",
    "    \"\"\"\n",
    "    Plot precision vs recall (positive predictive value vs true positive rate)\n",
    "    for a given parametric hypothesis class and dataset.\n",
    "    \"\"\"\n",
    "\n",
    "    check_implemented_for_auc(true_positive_rate, None, hypothesis)\n",
    "    \n",
    "    tpr = [\n",
    "        true_positive_rate(features, labels, hypothesis, theta)\n",
    "        for theta in possible_thetas\n",
    "    ]\n",
    "    pp = [precision(features, labels, hypothesis, theta) for theta in possible_thetas]\n",
    "\n",
    "    min_theta = numpy.min(possible_thetas)\n",
    "    max_theta = numpy.max(possible_thetas)\n",
    "\n",
    "    color = matplotlib.cm.gist_earth(\n",
    "        (possible_thetas - min_theta) / (max_theta - min_theta)\n",
    "    )\n",
    "\n",
    "    ax = matplotlib.pyplot.gca()\n",
    "    for i in numpy.arange(len(possible_thetas) - 1):\n",
    "        ax.plot([tpr[i], tpr[i + 1]], [pp[i], pp[i + 1]], c=color[i])\n",
    "\n",
    "    cbar = matplotlib.pyplot.colorbar(\n",
    "        matplotlib.cm.ScalarMappable(\n",
    "            norm=matplotlib.colors.Normalize(min_theta, max_theta), cmap=matplotlib.cm.gist_earth\n",
    "        ),\n",
    "        ax=ax,\n",
    "    )\n",
    "\n",
    "    cbar.set_label(\"Threshold (theta)\")\n",
    "    matplotlib.pyplot.title(\"Precision Recall Curve for Threshold Classifier\")\n",
    "    matplotlib.pyplot.xlabel(\"True Positive Rate\")\n",
    "    matplotlib.pyplot.ylabel(\"Positive Predictive Value\")\n",
    "\n",
    "try:\n",
    "    plot_precision_recall(true_positive_rate, precision, X_values, Y_values, threshold_hypothesis)\n",
    "except NotImplementedError as ex:\n",
    "    print(\"Cannot run ROC plotting function: \", ex)"
   ]
  },
  {
   "cell_type": "markdown",
   "id": "2ef094df-5a62-4a85-8cfc-1162246c03bf",
   "metadata": {},
   "source": [
    "In general, the use of plots such as the ROC or Precision vs Recall curve is highly contextual.\n",
    "For our purposes, these curves provide a useful demonstration of a truism in machine learning: there are always consequences and trade-offs.\n",
    "In particular, if we think of a high true positive rate as a \"good thing\" while a high false positive rate is a \"bad thing\",\n",
    "the ROC demonstrates that perfect classifiers (which would reside in the upper left corner of the ROC diagram and upper right corner of the PRC diagram) seldom exist,\n",
    "and that the space is characterized by an explicit trade-off between desirable classifier behaviors.\n",
    "\n",
    "Note that the optimal threshold value we found for accuracy is not the optimal threshold value as represented on the ROC or Precision vs Recall Curve!\n",
    "Even this basic binary classification example reveals a plethora of non-trivial trade-offs."
   ]
  },
  {
   "cell_type": "markdown",
   "id": "6f4c04db-2030-46b2-8c52-e9a41c077312",
   "metadata": {},
   "source": [
    "Welcome to machine learning!\n",
    "\n",
    "Now let's move on to something less dense ..."
   ]
  },
  {
   "cell_type": "markdown",
   "id": "f24bf10d-373b-46a7-9c84-820148d79cf9",
   "metadata": {},
   "source": [
    "---\n",
    "\n",
    "## Part 4: Regular Expressions\n",
    "\n",
    "[Regular expressions](https://en.wikipedia.org/wiki/Regular_expression) (also called \"regexp\" or \"regex\") are patterns that let you find matching text.\n",
    "Think of them like mathematical expressions for text (an equation can define a line (collection of points), and a regex can define a collection of strings).\n",
    "When starting off, regular expressions can be pretty confusing.\n",
    "But once you get comfortable using them, you start to see how they can be used in almost all of your everyday coding.\n",
    "\n",
    "<center><img src=\"xkcd-regular-expressions.png\"/ width=600px></center>\n",
    "<center style='font-size: small'>Comic courtesy of <a href='https://xkcd.com/208'>xkcd</a></center>\n",
    "\n",
    "Aside from this assignment, here are some resources on regular expressions that you may find helpful:\n",
    " - [Text Tutorial](https://www.sitepoint.com/learn-regex/)\n",
    " - [Video Tutorial](https://www.youtube.com/watch?v=sa-TUpSx1JA)\n",
    " - [Cheat Sheet](https://cheatography.com/davechild/cheat-sheets/regular-expressions/)\n",
    " - [Regex Playground](https://regex101.com/) (Interactively create, test, and visualize regular expressions.)\n",
    " - [Python Regex Tutorial](https://docs.python.org/3/howto/regex.html)\n",
    "\n",
    "When working with regular expressions, make sure to take your time.\n",
    "Treat a regular expression as a dense piece of code.\n",
    "You don't expect to look at a code file and understand everything right away,\n",
    "you take things piece by piece.\n",
    "Do the same thing with regular expressions,\n",
    "take it slow and look at them piece by piece."
   ]
  },
  {
   "cell_type": "markdown",
   "id": "661f5fb0-5daf-4135-83c1-b26ad9ffde3b",
   "metadata": {},
   "source": [
    "### Regular Expressions in Python\n",
    "\n",
    "We will be using Python for this exercise (hence the iPython notebook),\n",
    "so we will be using the `re` Python standard library.\n",
    "Almost every major programming language has regular expressions either built-in directly or supported in a standard library.\n",
    "There may be slight variations in the syntax and semantics from language to language,\n",
    "but the core functionality will all be the same.\n",
    "\n",
    "#### re.search()\n",
    "\n",
    "In this assignment (and probably most of your Python regex usage),\n",
    "we will be using the method `re.search()`.\n",
    "`re.search()` takes two required arguments,\n",
    "first the regex and then the string to search in (we will often call this the \"target\").\n",
    "\n",
    "There is another method `re.match()` that is subtly different,\n",
    "and you will probably want to avoid.\n",
    "`re.search()` looks for a match within a string (and it can be the entire string).\n",
    "`re.match()` tries to match **the beginning** of a string (and that can mean the entire string).\n",
    "Later in this assignment, we will discuss how to recreate the functionality of `re.match()`\n",
    "in a more explicit and less error-pone way.\n",
    "\n",
    "#### \"Normal\" Characters\n",
    "\n",
    "The most simple regular expressions can be used to match strings in the same way that you would use another string to match a string\n",
    "(like if you were using [`str.find()`](https://docs.python.org/3/library/stdtypes.html#str.find) or [`str.replace()`](https://docs.python.org/3/library/stdtypes.html#str.replace)).\n",
    "Just type the characters that you want to match.\n",
    "In fact, in Python strings are used to represent regular expressions.\n",
    "So most strings are already regular expressions\n",
    "(but arbitrary strings may contain special symbols which are not valid regular expressions).\n",
    "\n",
    "For example, the string `\"foo\"` can be used as a regular expression to match \"foo\", \"food\", \"foo bar\",\n",
    "and literally infinite other strings that have “foo” as a substring."
   ]
  },
  {
   "cell_type": "code",
   "execution_count": 21,
   "id": "0d8a6819-18cd-4e60-84bf-bc83cd9e45a4",
   "metadata": {},
   "outputs": [
    {
     "name": "stdout",
     "output_type": "stream",
     "text": [
      "<re.Match object; span=(9, 12), match='foo'>\n",
      "<re.Match object; span=(0, 3), match='dog'>\n",
      "<re.Match object; span=(4, 6), match='45'>\n",
      "<re.Match object; span=(0, 22), match='This string is a regex'>\n",
      "None\n"
     ]
    }
   ],
   "source": [
    "# The regex 'foo' matches the word 'foo' in the target.\n",
    "target = \"What is 'foo bar'?\"\n",
    "regex = 'foo'\n",
    "print(re.search(regex, target))\n",
    "\n",
    "# The regex 'dog' matches 'dogs'.\n",
    "target = \"dogs, cats, lizards\"\n",
    "regex = 'dog'\n",
    "print(re.search(regex, target))\n",
    "\n",
    "# Numbers are fine too.\n",
    "target = \"0123456789\"\n",
    "regex = '45'\n",
    "print(re.search(regex, target))\n",
    "\n",
    "# The entire target string can be matched.\n",
    "target = \"This string is a regex\"\n",
    "regex = \"This string is a regex\"\n",
    "print(re.search(regex, target))\n",
    "\n",
    "# Here we do not match, and None is returned from re.search().\n",
    "target = \"abc\"\n",
    "regex = \"123\"\n",
    "print(re.search(regex, target))"
   ]
  },
  {
   "cell_type": "markdown",
   "id": "c72668f3-affe-4e63-9250-35f635666707",
   "metadata": {},
   "source": [
    "#### Special Characters\n",
    "\n",
    "There are a few special characters that you will need to be aware of.\n",
    "Here is a list of them, each of which will be discussed somewhere in this assignment:\n",
    "\n",
    " - `.`\n",
    " - `^`\n",
    " - `$`\n",
    " - `*`\n",
    " - `+`\n",
    " - `?`\n",
    " - `{`\n",
    " - `}`\n",
    " - `[`\n",
    " - `]`\n",
    " - `\\`\n",
    " - `|`\n",
    " - `(`\n",
    " - `)`\n",
    "\n",
    "When you want to match one of these characters literally, you will need to escape it with a backslash (`\\`).\n",
    "\n",
    "#### Raw Strings\n",
    "\n",
    "When writing regular expressions in Python, you will probably want to use a [\"raw string\"](https://docs.python.org/3/reference/lexical_analysis.html#escape-sequences).\n",
    "Raw strings do not interpret escape characters, so you don't have to double escape backslashes or accidentally create escape characters."
   ]
  },
  {
   "cell_type": "code",
   "execution_count": 22,
   "id": "d8a09321-b84f-42b3-8757-461dbb7f7b3a",
   "metadata": {},
   "outputs": [
    {
     "name": "stdout",
     "output_type": "stream",
     "text": [
      "string:      A literal backslash: \"\\\"\n",
      "raw string:  A literal backslash: \"\\\"\n",
      "True\n"
     ]
    }
   ],
   "source": [
    "string = 'A literal backslash: \"\\\\\"'\n",
    "raw_string = r'A literal backslash: \"\\\"'\n",
    "\n",
    "print(\"string:     \", string)\n",
    "print(\"raw string: \", raw_string)\n",
    "print(string == raw_string)"
   ]
  },
  {
   "cell_type": "markdown",
   "id": "e0877679-ba98-4447-bfbc-9909f6518aee",
   "metadata": {},
   "source": [
    "To test your understanding of the concepts throughout this assignment,\n",
    "we will use a game called \"Regex Golf\".\n",
    "In Regex Golf, you have will have two sets of strings.\n",
    "You want to match all the strings in the first list, while not matching all the string in the second list."
   ]
  },
  {
   "cell_type": "code",
   "execution_count": 23,
   "id": "f463a220-bb3b-407e-be39-aa1a508459ae",
   "metadata": {},
   "outputs": [],
   "source": [
    "def regex_golf(regex, match_list = [], nomatch_list = []):\n",
    "    errors = []\n",
    "\n",
    "    if ((regex is None) or (regex == '')):\n",
    "        print(\"Error: No regex provided.\")\n",
    "        return False\n",
    "    \n",
    "    for match_value in match_list:\n",
    "        match = re.search(regex, match_value)\n",
    "        if (match is None):\n",
    "            errors.append(\"Error: Failed to match '%s'.\" % (match_value))\n",
    "    \n",
    "    for nomatch_value in nomatch_list:\n",
    "        match = re.search(regex, nomatch_value)\n",
    "        if (match is not None):\n",
    "            errors.append(\"Error: Incorrectly matched '%s'.\" % (nomatch_value))\n",
    "\n",
    "    if (len(errors) == 0):\n",
    "        print(\"Great job!\")\n",
    "        return True\n",
    "    else:\n",
    "        print(\"You have some golfing errors, try again.\")\n",
    "        for error in errors:\n",
    "            print(\"    \" + error)\n",
    "        return False"
   ]
  },
  {
   "cell_type": "code",
   "execution_count": 24,
   "id": "f734d4b5-d81b-4938-9241-0dc95fb78970",
   "metadata": {},
   "outputs": [
    {
     "name": "stdout",
     "output_type": "stream",
     "text": [
      "Great job!\n"
     ]
    },
    {
     "data": {
      "text/plain": [
       "True"
      ]
     },
     "execution_count": 24,
     "metadata": {},
     "output_type": "execute_result"
    }
   ],
   "source": [
    "matches = [\n",
    "    'foo',\n",
    "    'foorbar',\n",
    "    'football'\n",
    "]\n",
    "\n",
    "nomatches = [\n",
    "    'forty',\n",
    "    'FOO',\n",
    "    'bar',\n",
    "    '123',\n",
    "]\n",
    "\n",
    "regex = r'foo'\n",
    "regex_golf(regex, matches, nomatches)"
   ]
  },
  {
   "cell_type": "markdown",
   "id": "5b36bde2-f378-4dfb-820b-f3acddcf4c2e",
   "metadata": {},
   "source": [
    "<h4 style=\"color: darkorange; font-size: x-large\">★ Task 4.A: My First Match</h4>\n",
    "\n",
    "Write a regular expression (assigned in the `TASK4A_REGEX` variable) that matches the sequence \"cat\" (all lowercase).\n",
    "Note that you don't have to match the entire string, just a part of it.\n",
    "\n",
    "A small golfing instance is provided to get you started, but the autograder will check more cases."
   ]
  },
  {
   "cell_type": "code",
   "execution_count": 25,
   "id": "cea6b943-1adb-4be1-80d3-cf5747a983cf",
   "metadata": {},
   "outputs": [
    {
     "name": "stdout",
     "output_type": "stream",
     "text": [
      "Great job!\n"
     ]
    },
    {
     "data": {
      "text/plain": [
       "True"
      ]
     },
     "execution_count": 25,
     "metadata": {},
     "output_type": "execute_result"
    }
   ],
   "source": [
    "# Put your Task 4.A regular expression here.\n",
    "TASK4A_REGEX = r'cat'\n",
    "\n",
    "cats = ['cat', 'cats', 'some cat', 'categories']\n",
    "non_cats = ['dog', 'cta']\n",
    "regex_golf(TASK4A_REGEX, match_list = cats, nomatch_list = non_cats)"
   ]
  },
  {
   "cell_type": "markdown",
   "id": "4f0317e9-e9a5-4c35-88e7-aecd27d62366",
   "metadata": {},
   "source": [
    "### Character Classes\n",
    "\n",
    "Character classes allow us to refer to any **single** character inside of a set of characters.\n",
    "Most regex language/engines will have built-in character classes,\n",
    "and also the ability to define custom character classes.\n",
    "\n",
    "#### Digits\n",
    "\n",
    "The built-in digit character class is `\\d`, and will match any single digit (0-9).\n",
    "The inverse class (not a digit) is also available using `\\D`.\n",
    "`\\d` and `\\D` do not overlap and together match everything,\n",
    "this will be true for most of the character classes we will cover."
   ]
  },
  {
   "cell_type": "code",
   "execution_count": 49,
   "id": "9ef2ee6c-0489-466a-abac-24ceeaf2808a",
   "metadata": {},
   "outputs": [
    {
     "name": "stdout",
     "output_type": "stream",
     "text": [
      "Great job!\n",
      "You have some golfing errors, try again.\n",
      "    Error: Incorrectly matched '00d'.\n"
     ]
    },
    {
     "data": {
      "text/plain": [
       "False"
      ]
     },
     "execution_count": 49,
     "metadata": {},
     "output_type": "execute_result"
    }
   ],
   "source": [
    "digits = ['0', '1', '2', '9']\n",
    "non_digits = ['a', 'Z', '-', '!', ' ']\n",
    "\n",
    "# Try out the digit character class.\n",
    "regex = r'\\d'\n",
    "regex_golf(regex, match_list = digits, nomatch_list = non_digits)\n",
    "\n",
    "# Now switch up the lists, and use the \"non-digit\" character class.\n",
    "regex = r'\\D'\n",
    "regex_golf(regex, match_list = non_digits, nomatch_list = digits)"
   ]
  },
  {
   "cell_type": "markdown",
   "id": "931df13e-4317-4efb-a9ba-05ee6422dc80",
   "metadata": {},
   "source": [
    "#### \"Word\" Characters\n",
    "\n",
    "\"Word\" characters are `a-z`, `A-Z`, `0-9`, and `_` (underscore),\n",
    "and are all included in the \"word\" character class: `\\w`.\n",
    "So this includes all ASCII letters, digits, and underscore.\n",
    "Like the digit character class, you can get the inverse class (not a word) using `\\W`."
   ]
  },
  {
   "cell_type": "code",
   "execution_count": 27,
   "id": "3ba36746-ffbf-4f9e-932d-93a365b91cba",
   "metadata": {},
   "outputs": [
    {
     "name": "stdout",
     "output_type": "stream",
     "text": [
      "Great job!\n",
      "Great job!\n"
     ]
    },
    {
     "data": {
      "text/plain": [
       "True"
      ]
     },
     "execution_count": 27,
     "metadata": {},
     "output_type": "execute_result"
    }
   ],
   "source": [
    "words = ['a', 'Z', '1', '0', '_']\n",
    "non_words = ['-', '!', ' ']\n",
    "\n",
    "# Try out the word character class.\n",
    "regex = r'\\w'\n",
    "regex_golf(regex, match_list = words, nomatch_list = non_words)\n",
    "\n",
    "# Now switch up the lists, and use the \"non-word\" character class.\n",
    "regex = r'\\W'\n",
    "regex_golf(regex, match_list = non_words, nomatch_list = words)"
   ]
  },
  {
   "cell_type": "markdown",
   "id": "bf05f5f2-68ac-4e5b-ad6c-39df26a22daf",
   "metadata": {},
   "source": [
    "<h4 style=\"color: darkorange; font-size: x-large\";>★ Task 4.B: License Plates</h4>\n",
    "\n",
    "Write a regular expression (assigned in the `TASK4B_REGEX` variable) that matches standard (non-custom) California license plates within some string.\n",
    "A CA license plate has the pattern:\n",
    "a number, three word characters, and three numbers (seven characters in total).\n",
    "\n",
    "You may assume that:\n",
    " - All digits/letters are used in license plates, **including** underscores '_' and upper/lower case letters.\n",
    " - Numbers and underscores count as word characters (even though the DMV does not agree).\n",
    "\n",
    "A small golfing instance is provided to get you started, but the autograder will check more cases."
   ]
  },
  {
   "cell_type": "code",
   "execution_count": 53,
   "id": "14a85575-0d62-4df3-9998-fce79de7ac72",
   "metadata": {},
   "outputs": [
    {
     "name": "stdout",
     "output_type": "stream",
     "text": [
      "Great job!\n"
     ]
    },
    {
     "data": {
      "text/plain": [
       "True"
      ]
     },
     "execution_count": 53,
     "metadata": {},
     "output_type": "execute_result"
    }
   ],
   "source": [
    "# Put your Task 4.B regular expression here.\n",
    "TASK4B_REGEX = r'([0-9]{1})([0-9A-Za-z_]{3})([0-9]{3})'\n",
    "\n",
    "plates = ['1ABC123', '0xyz987', '1234567']\n",
    "non_plates = ['123', 'abcdefg']\n",
    "regex_golf(TASK4B_REGEX, match_list = plates, nomatch_list = non_plates)"
   ]
  },
  {
   "cell_type": "markdown",
   "id": "390ed7f8-1b3f-4170-8171-5a49c9e2b8d4",
   "metadata": {},
   "source": [
    "#### Whitespace\n",
    "\n",
    "There is also a character class to match whitespace: `\\s`.\n",
    "Whitespace in this context includes characters like spaces, tabs, newlines, carriage returns, etc.\n",
    "The inverse class (not whitespace) is available as `\\S`."
   ]
  },
  {
   "cell_type": "code",
   "execution_count": 54,
   "id": "8738bfe8-90bf-4801-b6af-f9d4026af2b9",
   "metadata": {},
   "outputs": [
    {
     "name": "stdout",
     "output_type": "stream",
     "text": [
      "Great job!\n",
      "Great job!\n"
     ]
    },
    {
     "data": {
      "text/plain": [
       "True"
      ]
     },
     "execution_count": 54,
     "metadata": {},
     "output_type": "execute_result"
    }
   ],
   "source": [
    "# You may not be familiar with all of these whitespace character\n",
    "# (since we don't typically use half of them).\n",
    "# These are: [space, tab, newline, carriage return, line feed, vertical tab].\n",
    "whitespace = [' ', '\\t', '\\n', '\\r', '\\f', '\\v']\n",
    "non_whitespace = ['a', 'Z', '1', '0', '_', '-', '!']\n",
    "\n",
    "# Try out the whitespace character class.\n",
    "regex = r'\\s'\n",
    "regex_golf(regex, match_list = whitespace, nomatch_list = non_whitespace)\n",
    "\n",
    "# Now switch up the lists, and use the \"non-whitespace\" character class.\n",
    "regex = r'\\S'\n",
    "regex_golf(regex, match_list = non_whitespace, nomatch_list = whitespace)"
   ]
  },
  {
   "cell_type": "markdown",
   "id": "ec966329-604e-49f8-95ef-310a466bdfeb",
   "metadata": {},
   "source": [
    "#### Any Character\n",
    "\n",
    "You can represent (almost) any character using the `.` (dot) character class.\n",
    "This will match anything except newlines (you have to enable a [special option](https://docs.python.org/3/library/re.html#re.DOTALL) for that behavior).\n",
    "For this assignment, we will assume that all matches are always on one line.\n",
    "To make a literal period, you would need to escape it `\\.`."
   ]
  },
  {
   "cell_type": "code",
   "execution_count": 55,
   "id": "16e12e2d-8989-44cd-84b5-f1e84e6a5c5c",
   "metadata": {},
   "outputs": [
    {
     "name": "stdout",
     "output_type": "stream",
     "text": [
      "Great job!\n"
     ]
    },
    {
     "data": {
      "text/plain": [
       "True"
      ]
     },
     "execution_count": 55,
     "metadata": {},
     "output_type": "execute_result"
    }
   ],
   "source": [
    "anything = ['1', '0', 'a', 'Z', '_', ' ', '\\t', '-', '!', '.']\n",
    "non_anything = ['\\n']\n",
    "\n",
    "# Try out the anything character class.\n",
    "regex = r'.'\n",
    "regex_golf(regex, match_list = anything, nomatch_list = non_anything)"
   ]
  },
  {
   "cell_type": "markdown",
   "id": "52de5d12-0766-4a16-b682-e45122dd8b3d",
   "metadata": {},
   "source": [
    "<h4 style=\"color: darkorange; font-size: x-large\";>★ Task 4.C: Mysterious Code</h4>\n",
    "\n",
    "Imagine that you are writing a Python program that uses specific \"codes\".\n",
    "These codes are four characters long, start with any character, and then end with three digits.\n",
    "\n",
    "You need to write a regex to find all the places in your program that you defined these codes.\n",
    "Thankfully, you started every code variable with the string 'code_', and followed that with a single digit, letter, or underscore.\n",
    "\n",
    "Write a regular expression (assigned in the `TASK4C_REGEX` variable) that matches the definition of a code variable.\n",
    "\n",
    "You may assume:\n",
    " - All strings you are trying to match are on one line (they will not have a newline in them), this assumption will apply for this entire assignment.\n",
    " - Code strings will always use double quotes `\"<code>\"`.\n",
    " - A single space character will always be on either side of the assignment operator (equals sign).\n",
    "\n",
    "A small golfing instance is provided to get you started, but the autograder will check more cases."
   ]
  },
  {
   "cell_type": "code",
   "execution_count": 122,
   "id": "3f6eaa96-2159-4bee-a328-2c07c790646b",
   "metadata": {},
   "outputs": [
    {
     "name": "stdout",
     "output_type": "stream",
     "text": [
      "You have some golfing errors, try again.\n",
      "    Error: Incorrectly matched 'code__ = \"0098\"'.\n"
     ]
    },
    {
     "data": {
      "text/plain": [
       "False"
      ]
     },
     "execution_count": 122,
     "metadata": {},
     "output_type": "execute_result"
    }
   ],
   "source": [
    "# Put your Task 4.C regular expression here.\n",
    "TASK4C_REGEX = r'code_. = \".\\w\\w\\w\"'\n",
    "\n",
    "code_assignments = [\n",
    "    'code_a = \"a123\"',\n",
    "    'code__ = \"!098\"',\n",
    "    'code_b = \"1098\"',\n",
    "]\n",
    "\n",
    "non_code_assignments = [\n",
    "    'a = \"a123\"',\n",
    "    'code__ = \"098\"',\n",
    "    'code_ = \"1098\"',\n",
    "]\n",
    "\n",
    "regex_golf(TASK4C_REGEX, match_list = code_assignments, nomatch_list = non_code_assignments)"
   ]
  },
  {
   "cell_type": "markdown",
   "id": "2f4e87e9-7043-4f1e-8f36-75cc8a455b71",
   "metadata": {},
   "source": [
    "#### Custom Character Classes\n",
    "\n",
    "You can also create your own custom character class using square brackets: `[]`.\n",
    "Any characters inside the square brackets are now inside the character class.\n",
    "So `[abc]` will match any character that is an 'a', 'b', or 'c'.\n",
    "\n",
    "You can invert a custom character class by having a carrot/hat character directly after the opening square bracket.\n",
    "So `[^abc]` will match any character that is **not** an 'a', 'b', or 'c'.\n",
    "To match a literal carrot/hat, you can escape it: `[abc\\^]`.\n",
    "\n",
    "You can also use a dash `-` to represent a range of characters.\n",
    "You can make a range between lowercase characters `[a-z]`, uppercase characters `[A-Z]`, and digits `[0-9]`.\n",
    "Note that you cannot range between lowercase and uppercase characters.\n",
    "To match a literal dash, you can escape it.\n",
    "For example, `[a-z]` matches 'a' *through* 'z', but `[a\\-z]` matches 'a', 'z', or '-'.\n",
    "\n",
    "We can recreate some of our built-in character classes using the custom character class:\n",
    " - `\\d` == `[0-9]`\n",
    " - `\\D` == `[^0-9]`\n",
    " - `\\w` == `[a-zA-Z0-9_]`\n",
    " - `\\W` == `[^a-zA-Z0-9_]`\n",
    " - `\\s` == `[ \\t\\n\\r\\f\\v]`\n",
    " - `\\S` == `[^ \\t\\n\\r\\f\\v]`"
   ]
  },
  {
   "cell_type": "code",
   "execution_count": 58,
   "id": "6412d0bb-521a-4938-a10f-b7dbf6b398c3",
   "metadata": {},
   "outputs": [
    {
     "name": "stdout",
     "output_type": "stream",
     "text": [
      "Great job!\n",
      "Great job!\n",
      "Great job!\n",
      "Great job!\n",
      "Great job!\n"
     ]
    },
    {
     "data": {
      "text/plain": [
       "True"
      ]
     },
     "execution_count": 58,
     "metadata": {},
     "output_type": "execute_result"
    }
   ],
   "source": [
    "abc = ['a', 'b', 'c']\n",
    "non_abc = ['A', '1', ' ', '-', '!']\n",
    "\n",
    "# Try out a custom character class.\n",
    "regex = r'[abc]'\n",
    "regex_golf(regex, match_list = abc, nomatch_list = non_abc)\n",
    "\n",
    "# Now switch up the lists, and invert out custom character class.\n",
    "regex = r'[^abc]'\n",
    "regex_golf(regex, match_list = non_abc, nomatch_list = abc)\n",
    "\n",
    "# We can also match some of the character classes we have seen in the past.\n",
    "\n",
    "regex = r'[0-9]'\n",
    "regex_golf(regex, match_list = digits, nomatch_list = non_digits)\n",
    "\n",
    "regex = r'[a-zA-Z_0-9]'\n",
    "regex_golf(regex, match_list = words, nomatch_list = non_words)\n",
    "\n",
    "regex = r'[ \\t\\n\\r\\f\\v]'\n",
    "regex_golf(regex, match_list = whitespace, nomatch_list = non_whitespace)"
   ]
  },
  {
   "cell_type": "markdown",
   "id": "98f291f0-ebba-4a8d-b2a1-442fa8331eb4",
   "metadata": {},
   "source": [
    "<h4 style=\"color: darkorange; font-size: x-large\";>★ Task 4.D: Mysterious Code - Better</h4>\n",
    "\n",
    "Let's improve upon Task 4.C to make it more realistic.\n",
    "\n",
    " - Instead of the character after \"code_\" being a digit, letter, or underscore, force this character to be a lowercase letter.\n",
    " - Allow either a single tab or space to be used on either side side of the assignment operator (equals sign).\n",
    " - Force the first letter of the code to be a letter (lowercase or uppercase) or a digit.\n",
    "\n",
    "Write a regular expression (assigned in the `TASK4D_REGEX` variable) that matches the definition of a code variable as modified above.\n",
    "\n",
    "A small golfing instance is provided to get you started, but the autograder will check more cases."
   ]
  },
  {
   "cell_type": "code",
   "execution_count": 113,
   "id": "1e3da562-577a-4e38-a48d-99cb4f2babab",
   "metadata": {},
   "outputs": [
    {
     "name": "stdout",
     "output_type": "stream",
     "text": [
      "Great job!\n"
     ]
    },
    {
     "data": {
      "text/plain": [
       "True"
      ]
     },
     "execution_count": 113,
     "metadata": {},
     "output_type": "execute_result"
    }
   ],
   "source": [
    "# Put your Task 4.D regular expression here.\n",
    "TASK4D_REGEX = r'code_([a-z]{1})([\\t ]{1})=([\\t ]{1})\"[a-z0-9A-Z]{1}[0-9]{3}\"'\n",
    "\n",
    "code_assignments = [\n",
    "    'code_a = \"a123\"',\n",
    "    'code_b = \"1098\"',\n",
    "    'code_c\\t=\\t\"z395\"',\n",
    "]\n",
    "\n",
    "non_code_assignments = [\n",
    "    'a = \"a123\"',\n",
    "    'code__ = \"098\"',\n",
    "    'code_ = \"1098\"',\n",
    "    'code_33 = \"Z456\"',\n",
    "    'code__ = \"!098\"',\n",
    "    'code_3 = \"Z456\"',\n",
    "]\n",
    "\n",
    "regex_golf(TASK4D_REGEX, match_list = code_assignments, nomatch_list = non_code_assignments)"
   ]
  },
  {
   "cell_type": "markdown",
   "id": "c25a7c02-1efb-4f4b-a29b-71f7ccdffc50",
   "metadata": {},
   "source": [
    "### Anchors\n",
    "\n",
    "When using regular expressions sometimes you will not just want to match something inside of a string/line,\n",
    "but you may want to match the **entire** string/line.\n",
    "To do this, you can use **anchors**.\n",
    "Anchors do not match an actual character (they **do not consume** a character in your string),\n",
    "but instead match the beginning or end of a string/line.\n",
    "\n",
    "`^` (carrot/hat) is the beginning anchor, and matches right before the first character in a string or right after a newline (the beginning of a line).\n",
    "Remember `^` does not consume an actual character, but matches right before the first character.\n",
    "\n",
    "`$` (dollar sign) is the end anchor, and matches right after the last character in a string or right before a newline (the end of a line).\n",
    "Remember `$` does not consume an actual character, but matches right after the last character.\n",
    "\n",
    "In many regular expression engines, you can enable [\"multiline\" matching](https://docs.python.org/3/library/re.html#re.MULTILINE)\n",
    "which allows you to make matches across newlines.\n",
    "This option changes the semantics of anchors and depends on the specific engine you are using.\n",
    "Multiline matching is outside the scope of this assignment.\n",
    "\n",
    "With the beginning anchor you can recreate the functionality of `re.match()` using `re.search()`,\n",
    "just always start your regex with a carrot."
   ]
  },
  {
   "cell_type": "code",
   "execution_count": 64,
   "id": "7cbddfa2-9b6e-43f8-82f0-a6746047cd88",
   "metadata": {},
   "outputs": [
    {
     "name": "stdout",
     "output_type": "stream",
     "text": [
      "Great job!\n",
      "Great job!\n",
      "Great job!\n",
      "Great job!\n"
     ]
    },
    {
     "data": {
      "text/plain": [
       "True"
      ]
     },
     "execution_count": 64,
     "metadata": {},
     "output_type": "execute_result"
    }
   ],
   "source": [
    "# With no anchors, we match a lot of things that are dog-related.\n",
    "regex = r'dog'\n",
    "dog = ['dog', 'dogs', 'doggy', 'doge', 'hot dog']\n",
    "non_dog = ['dg', 'do', 'dawg']\n",
    "regex_golf(regex, match_list = dog, nomatch_list = non_dog)\n",
    "\n",
    "# With both anchors, we only match exactly dog.\n",
    "regex = r'^dog$'\n",
    "dog = ['dog']\n",
    "non_dog = ['dg', 'do', 'dawg', 'dogs', 'doggy', 'doge', 'hot dog']\n",
    "regex_golf(regex, match_list = dog, nomatch_list = non_dog)\n",
    "\n",
    "# We can also decide to only include one of the anchors for more flexibility.\n",
    "\n",
    "regex = r'^dog'\n",
    "dog = ['dog', 'dogs', 'doggy', 'doge']\n",
    "non_dog = ['dg', 'do', 'dawg', 'hot dog']\n",
    "regex_golf(regex, match_list = dog, nomatch_list = non_dog)\n",
    "\n",
    "regex = r'dog$'\n",
    "dog = ['dog', 'hot dog']\n",
    "non_dog = ['dg', 'do', 'dawg', 'dogs', 'doggy', 'doge']\n",
    "regex_golf(regex, match_list = dog, nomatch_list = non_dog)"
   ]
  },
  {
   "cell_type": "markdown",
   "id": "84078d79-a6a7-4cb7-ac2f-4a38eebeb236",
   "metadata": {},
   "source": [
    "#### Word Boundaries\n",
    "\n",
    "Sometimes, you will want to match the beginning or end of word, instead of an entire string.\n",
    "To do this, you can use \"word boundaries\".\n",
    "A word boundary is a special character that matches the beginning or end of a \"word\".\n",
    "Technically, it matches the empty space between a `\\w` and `\\W` (or vice versa).\n",
    "\n",
    "Think of word boundaries like anchors for words.\n",
    "And like anchors, word boundaries do no consume any actual characters in your string.\n",
    "In Python, a word boundary is represented by a `\\b`.\n",
    "\n",
    "For example, `\\bdog\\b` matches \"dog\", \"(dog)\", and \"dog, cat, lemur\"\n",
    "but does not match \"doggy\" or \"hotdog\"."
   ]
  },
  {
   "cell_type": "code",
   "execution_count": 35,
   "id": "c8800614-be26-4740-8776-3d6ee6570bd5",
   "metadata": {},
   "outputs": [
    {
     "name": "stdout",
     "output_type": "stream",
     "text": [
      "Great job!\n"
     ]
    },
    {
     "data": {
      "text/plain": [
       "True"
      ]
     },
     "execution_count": 35,
     "metadata": {},
     "output_type": "execute_result"
    }
   ],
   "source": [
    "regex = r'\\bdog\\b'\n",
    "dog = ['dog', '(dog)', 'dog, cat, lemur', 'hot dog']\n",
    "non_dog = ['dg', 'do', 'dawg', 'dogs', 'doggy', 'doge', 'hotdog']\n",
    "regex_golf(regex, match_list = dog, nomatch_list = non_dog)"
   ]
  },
  {
   "cell_type": "markdown",
   "id": "f94bb517-4db7-466e-9718-91b7b641089d",
   "metadata": {},
   "source": [
    "<h4 style=\"color: darkorange; font-size: x-large\";>★ Task 4.E: Finding Bad Data</h4>\n",
    "\n",
    "Imagine that you are working with some chemists and they give you a big dump of data from some fancy chemical machines.\n",
    "But, some of the machines are broken and sometimes give out bad numbers that are floating point hexadecimal numbers.\n",
    "The chemists have told you that the bad numbers have these attributes:\n",
    " - They are hexadecimal and always start with a `0x`.\n",
    " - They are always floating point with two places after the point.\n",
    " - They are always between `0x10.00` and `0xff.ff` (inclusive).\n",
    " - They appear on a line all by themselves.\n",
    " - The data uses only lowercase letters for hexadecimal.\n",
    "\n",
    "[Hexadecimal numbers](https://en.wikipedia.org/wiki/Hexadecimal) are base 16 numbers and are represented with the numbers 0 - 9 (like normal numbers) and a - f.\n",
    "In code, they are typically prefixed with `0x` to differentiate them from decimal numbers.\n",
    "So `0x5 == 5`, `0xa == 10`, `0xf == 15`, and `0x10 == 16`.\n",
    "\n",
    "Your task is to write a regular expression (assigned in the `TASK4E_REGEX` variable) that finds these bad data points.\n",
    "\n",
    "A small golfing instance is provided to get you started, but the autograder will check more cases."
   ]
  },
  {
   "cell_type": "code",
   "execution_count": 123,
   "id": "862affdb-53b5-4e51-a557-5adf3f702424",
   "metadata": {},
   "outputs": [
    {
     "name": "stdout",
     "output_type": "stream",
     "text": [
      "Great job!\n"
     ]
    },
    {
     "data": {
      "text/plain": [
       "True"
      ]
     },
     "execution_count": 123,
     "metadata": {},
     "output_type": "execute_result"
    }
   ],
   "source": [
    "# Put your Task 4.E regular expression here.\n",
    "TASK4E_REGEX = r'^0x[1-9a-f]{1}[0-9a-f]{1}\\.[0-9a-f]{2}$'\n",
    "\n",
    "bad_data = ['0x12.34', '0xfe.dc']\n",
    "non_bad_data = ['12.34', 'fedc', 'other 0x12.34 junk']\n",
    "regex_golf(TASK4E_REGEX, match_list = bad_data, nomatch_list = non_bad_data)"
   ]
  },
  {
   "cell_type": "markdown",
   "id": "dfc2915f-fde0-45bd-ad44-03c7abd5f076",
   "metadata": {},
   "source": [
    "### Repetitions\n",
    "\n",
    "Another core feature of regular expressions is the ability to handle repetition.\n",
    "There are several different ways to handle repetition in regular expressions\n",
    "(and then a generic way that can cover all cases).\n",
    "We call symbols that signal repetition operations \"quantifiers\".\n",
    "In this section we will be dealing with repeating character (or character classes),\n",
    "but quantifiers can be applied to groups of characters (which we will discuss later).\n",
    "\n",
    "#### None or One\n",
    "\n",
    "The simplest form of repetition is declaring that a character can appear once or not at all,\n",
    "i.e. an optional character.\n",
    "To do this, simple follow a character with a `?` (question mark).\n",
    "For example, `too?` will match both \"to\" and \"too\".\n",
    "You can apply repetition to character classes in the same way:\n",
    "`to[onp]?` will match \"to\", \"too\", \"ton\" and \"top\", but not \"toon\"."
   ]
  },
  {
   "cell_type": "code",
   "execution_count": 66,
   "id": "a50ccb10-4155-4eef-b9cd-f13828e3eda2",
   "metadata": {},
   "outputs": [
    {
     "name": "stdout",
     "output_type": "stream",
     "text": [
      "Great job!\n",
      "Great job!\n",
      "Great job!\n"
     ]
    },
    {
     "data": {
      "text/plain": [
       "True"
      ]
     },
     "execution_count": 66,
     "metadata": {},
     "output_type": "execute_result"
    }
   ],
   "source": [
    "# We can attach a quantifier to a character.\n",
    "regex = r'^too?$'\n",
    "match = ['to', 'too']\n",
    "non_match = ['t', 'tooo', 'ta', 'tooooooooooooooooooooooooooooooooooooo']\n",
    "regex_golf(regex, match_list = match, nomatch_list = non_match)\n",
    "\n",
    "# We can also attach a quantifier to a character class.\n",
    "regex = r'^\\d\\d?$'\n",
    "match = ['0', '9', '00', '99']\n",
    "non_match = ['', '-1', '100']\n",
    "regex_golf(regex, match_list = match, nomatch_list = non_match)\n",
    "\n",
    "# This includes custom character class.\n",
    "# This one matches a hexadecimal nibble (half a byte) or byte.\n",
    "regex = r'^[0-9a-f][0-9a-f]?$'\n",
    "match = ['0', 'f', '00', '5a', 'ff']\n",
    "non_match = ['', 'z', 'zz', '000', 'ffff']\n",
    "regex_golf(regex, match_list = match, nomatch_list = non_match)"
   ]
  },
  {
   "cell_type": "markdown",
   "id": "38456a65-17d7-44da-8d56-cb50c2f452f0",
   "metadata": {},
   "source": [
    "#### None or Many\n",
    "\n",
    "You can use a `*` (asterisk/star) to declare that a character can appear any number of times or not at all.\n",
    "This is also called a [\"Kleene Star\"](https://en.wikipedia.org/wiki/Kleene_star)."
   ]
  },
  {
   "cell_type": "code",
   "execution_count": 67,
   "id": "5dde4be6-c5ce-41dc-ad20-d0d580182774",
   "metadata": {},
   "outputs": [
    {
     "name": "stdout",
     "output_type": "stream",
     "text": [
      "Great job!\n"
     ]
    },
    {
     "data": {
      "text/plain": [
       "True"
      ]
     },
     "execution_count": 67,
     "metadata": {},
     "output_type": "execute_result"
    }
   ],
   "source": [
    "regex = r'^too*$'\n",
    "match = ['to', 'too', 'tooo', 'tooooooooooooooooooooooooooooooooooooo']\n",
    "non_match = ['t', 'ta']\n",
    "regex_golf(regex, match_list = match, nomatch_list = non_match)"
   ]
  },
  {
   "cell_type": "markdown",
   "id": "6795543f-7973-44a1-bc26-b3560c8b7f51",
   "metadata": {},
   "source": [
    "#### One or Many\n",
    "\n",
    "To match a character at least once and at most unlimited times,\n",
    "you can use a `+` (plus)."
   ]
  },
  {
   "cell_type": "code",
   "execution_count": 68,
   "id": "ac735dd5-a510-4126-b61b-df878443e577",
   "metadata": {},
   "outputs": [
    {
     "name": "stdout",
     "output_type": "stream",
     "text": [
      "Great job!\n"
     ]
    },
    {
     "data": {
      "text/plain": [
       "True"
      ]
     },
     "execution_count": 68,
     "metadata": {},
     "output_type": "execute_result"
    }
   ],
   "source": [
    "regex = r'^too+$'\n",
    "match = ['too', 'tooo', 'tooooooooooooooooooooooooooooooooooooo']\n",
    "non_match = ['to', 't', 'ta']\n",
    "regex_golf(regex, match_list = match, nomatch_list = non_match)"
   ]
  },
  {
   "cell_type": "markdown",
   "id": "37be1bf1-a5db-4bf7-b87c-684116cd70c3",
   "metadata": {},
   "source": [
    "#### General Repetition\n",
    "\n",
    "Curly braces (`{}`) can be used to for generalized repetition,\n",
    "and they can cover all the cases we previously discussed and more.\n",
    "The basic syntax is `{m,n}`,\n",
    "where `m` is the *minimum* number or repetitions and `n` is the *maximum* number of repetitions.\n",
    "`m` can be omitted if you want zero minimum repetition,\n",
    "and `n` can be omitted if you want infinite maximum repetitions.\n",
    "Some regex engines like Python allow you to just do `{n}` \n",
    "when you want exactly `n` matches (so when `m == n`).\n",
    "\n",
    "Therefore, you can use `to{1,2}` to match \"to\" and \"too\".\n",
    "\n",
    "With this we can recreate all our other quantifiers:\n",
    " - `?` == `{0,1}`\n",
    " - `*` == `{0,}`\n",
    " - `+` == `{1,}`"
   ]
  },
  {
   "cell_type": "code",
   "execution_count": 69,
   "id": "eb0c6ed1-c1be-45bf-bcff-ac8ce9d05c19",
   "metadata": {},
   "outputs": [
    {
     "name": "stdout",
     "output_type": "stream",
     "text": [
      "Great job!\n"
     ]
    },
    {
     "data": {
      "text/plain": [
       "True"
      ]
     },
     "execution_count": 69,
     "metadata": {},
     "output_type": "execute_result"
    }
   ],
   "source": [
    "regex = r'^to{1,2}$'\n",
    "match = ['to', 'too']\n",
    "non_match = ['t', 'ta', 'tooo', 'tooooooooooooooooooooooooooooooooooooo']\n",
    "regex_golf(regex, match_list = match, nomatch_list = non_match)"
   ]
  },
  {
   "cell_type": "markdown",
   "id": "9c924962-51a5-4bf1-87fc-c0dfe8768755",
   "metadata": {},
   "source": [
    "<h4 style=\"color: darkorange; font-size: x-large\";>★ Task 4.F: Finding Bad Data - Better</h4>\n",
    "\n",
    "Let's improve our regex from Task 4.E and make it more general.\n",
    "\n",
    "For this task, we will make the following modifications from Task 4.E:\n",
    " - Instead of assuming that the bad numbers are all floating point,\n",
    "     assume that they can be ints or floats (so there may be no point).\n",
    " - Instead of assuming that the bad numbers are in \\[`0x10.00`, `0xff.ff`\\],\n",
    "     assume they are just non-negative.\n",
    " - Instead of assuming that there are exactly two hexadecimal digits after the point,\n",
    "     assume that there can be any number (in cases where there is a point at all).\n",
    " - Assume that each number will have at least one hexadecimal digit whether or not there is a point.\n",
    " - Bad numbers with a trailing point may appear and should be matched.\n",
    "     For example, `0x12.` should be matched, but **not** `0x12.34.`.\n",
    "\n",
    "Your task is to write a regular expression (assigned in the `TASK4F_REGEX` variable) that finds these bad data points.\n",
    "\n",
    "A small golfing instance is provided to get you started, but the autograder will check more cases."
   ]
  },
  {
   "cell_type": "code",
   "execution_count": 126,
   "id": "f662c3aa-0fa7-4656-a906-a2a3c8d72821",
   "metadata": {},
   "outputs": [
    {
     "name": "stdout",
     "output_type": "stream",
     "text": [
      "Great job!\n"
     ]
    },
    {
     "data": {
      "text/plain": [
       "True"
      ]
     },
     "execution_count": 126,
     "metadata": {},
     "output_type": "execute_result"
    }
   ],
   "source": [
    "# Put your Task 4.F regular expression here.\n",
    "TASK4F_REGEX = r'^0x[0-9a-f]*[\\.]*[0-9a-f]*$'\n",
    "\n",
    "bad_data = ['0x12.34', '0xfe.dc', '0x123456789.abcdef', '0xf', '0x0001.0', '0x12.']\n",
    "non_bad_data = ['12.34', 'fedc', 'other 0x12.34 junk', '0x12.34.']\n",
    "regex_golf(TASK4F_REGEX, match_list = bad_data, nomatch_list = non_bad_data)"
   ]
  },
  {
   "cell_type": "markdown",
   "id": "bd7be96d-8d11-43cd-8900-fae29adb7058",
   "metadata": {},
   "source": [
    "Notice that (hopefully) you regex has gotten simpler (or at least shorter) between Task 4.E and Task 4.F even though we allow many more cases."
   ]
  },
  {
   "cell_type": "markdown",
   "id": "d35eb8eb-6387-4770-8e6b-1fd48701b985",
   "metadata": {},
   "source": [
    "### Grouping\n",
    "\n",
    "The next core concept in regular expressions is \"grouping\" (also sometimes called \"capture groups\").\n",
    "Grouping allows you to refer to more than one character at a time.\n",
    "Whereas previously we were using quantifiers to repeat one character (or class) at a time,\n",
    "we can instead repeat an entire group (which can be many characters (or classes) and even subgroups!).\n",
    "\n",
    "To make a group in a regex, just surround your group with parenthesis `()`, just like in math.\n",
    "You can nest groups within groups.\n",
    "\n",
    "For example, `\\$1(,000)*` can match \"\\\\$1\", \"\\\\$1,000\", \"\\\\$1,000,000\", etc.\n",
    "(Remember that we have to escape the dollar sign.)"
   ]
  },
  {
   "cell_type": "code",
   "execution_count": 127,
   "id": "6ad8ca65-f62a-4a87-bbfe-4db3b55b05d3",
   "metadata": {},
   "outputs": [
    {
     "name": "stdout",
     "output_type": "stream",
     "text": [
      "Great job!\n",
      "Great job!\n"
     ]
    },
    {
     "data": {
      "text/plain": [
       "True"
      ]
     },
     "execution_count": 127,
     "metadata": {},
     "output_type": "execute_result"
    }
   ],
   "source": [
    "regex = r'^\\$1(,000)*$'\n",
    "match = ['$1', '$1,000', '$1,000,000', '$1,000,000,000']\n",
    "non_match = ['$,000', '$10', '$100', '$1000']\n",
    "regex_golf(regex, match_list = match, nomatch_list = non_match)\n",
    "\n",
    "# We can use nested groups.\n",
    "regex = r'Look at that (really (super (duper )*)*)?cute dog.'\n",
    "match = [\n",
    "    'Look at that cute dog.',\n",
    "    'Look at that really cute dog.',\n",
    "    'Look at that really super cute dog.',\n",
    "    'Look at that really super super cute dog.',\n",
    "    'Look at that really super duper cute dog.',\n",
    "    'Look at that really super duper duper cute dog.',\n",
    "    'Look at that really super duper super duper cute dog.',\n",
    "    'Look at that really super super duper super duper cute dog.',\n",
    "]\n",
    "non_match = ['Look at that ugly dog.']\n",
    "regex_golf(regex, match_list = match, nomatch_list = non_match)"
   ]
  },
  {
   "cell_type": "markdown",
   "id": "2158ff3e-d804-4825-8789-06e21d9cdf9b",
   "metadata": {},
   "source": [
    "#### Disjunctions\n",
    "\n",
    "Disjunctions (also called \"alternations\" or just \"or\") lets you choose between two different options in a regular expressions.\n",
    "They act just like your normal logical disjunction/or.\n",
    "To use a disjunction, you use the pipe (`|`) character.\n",
    "\n",
    "For example, `either|or` will match \"either\" or \"or\".\n",
    "Note that the disjunction operator has a very low precedence,\n",
    "so the disjunction applies to everything on either side and not just the characters to the immediate left and right.\n",
    "\n",
    "Technically you do not need grouping to use disjunctions,\n",
    "but it is easily to accidentally make subtle mistakes if you don't use the two together.\n",
    "Like in math, extra parenthesis may not be necessary but can be helpful for readability.\n",
    "So in the above example, we can instead use `(either)|(or)` to hopefully create a more readable regex."
   ]
  },
  {
   "cell_type": "code",
   "execution_count": 77,
   "id": "344c81d2-28b4-4d31-ad75-e870ceabf3b9",
   "metadata": {},
   "outputs": [
    {
     "name": "stdout",
     "output_type": "stream",
     "text": [
      "Great job!\n",
      "Great job!\n",
      "Great job!\n",
      "Great job!\n",
      "Great job!\n"
     ]
    },
    {
     "data": {
      "text/plain": [
       "True"
      ]
     },
     "execution_count": 77,
     "metadata": {},
     "output_type": "execute_result"
    }
   ],
   "source": [
    "# Look very closely at this patter and what it does and does not match.\n",
    "# Because we didn't do any grouping, the anchors are actually part of the disjunction!\n",
    "# So what we actually have here is r'^ab' OR r'c$'\n",
    "regex = r'^ab|c$'\n",
    "match = ['ab', 'c', 'ac', 'abc']\n",
    "non_match = ['b']\n",
    "regex_golf(regex, match_list = match, nomatch_list = non_match)\n",
    "\n",
    "# This is probably what we intended in the above example.\n",
    "regex = r'^(ab|c)$'\n",
    "match = ['ab', 'c']\n",
    "non_match = ['b', 'ac', 'abc']\n",
    "regex_golf(regex, match_list = match, nomatch_list = non_match)\n",
    "\n",
    "# You can chain together multiple disjunctions.\n",
    "regex = r'^(a|b|c)$'\n",
    "match = ['a', 'b', 'c']\n",
    "non_match = ['ab', 'ac', 'abc']\n",
    "regex_golf(regex, match_list = match, nomatch_list = non_match)\n",
    "\n",
    "# Note that we don't need the extra parenthesis,\n",
    "# but they can help make things clear.\n",
    "\n",
    "match = ['either', 'or']\n",
    "non_match = ['eitheor', 'rr']\n",
    "\n",
    "regex = r'^((either)|(or))$'\n",
    "regex_golf(regex, match_list = match, nomatch_list = non_match)\n",
    "\n",
    "regex = r'^(either|or)$'\n",
    "regex_golf(regex, match_list = match, nomatch_list = non_match)"
   ]
  },
  {
   "cell_type": "markdown",
   "id": "dbd1e1a6-7625-4440-af06-5ef9b7b401d8",
   "metadata": {},
   "source": [
    "<h4 style=\"color: darkorange; font-size: x-large\";>★ Task 4.G: Finding Bad Data - Best</h4>\n",
    "\n",
    "Let's improve upon Task 4.F one more time.\n",
    "\n",
    "We have found out that the situation is worse than we thought!\n",
    "It turns out that all numbers that are on a single line are bad!\n",
    "This includes both hexadecimal **and** decimal numbers!\n",
    "\n",
    "You may assume:\n",
    " - Bad numbers will no longer appear with a trailing point, e.g., `0x12.` should no longer be matched.\n",
    " - Scientific notation is not used.\n",
    " - Any number (hexadecimal or decimal) alone on a line is a bad number.\n",
    " - There may be any amount of whitespace before or after a number.\n",
    " - Bad numbers may be positive, zero, or negative (this includes both the hexadecimal and decimal numbers).\n",
    " - Positive numbers will not appear with a plus sign.\n",
    " - Hexadecimal numbers will still only include lowercase letters.\n",
    "\n",
    "Your task is to write a regular expression (assigned in the `TASK4G_REGEX` variable) that finds these bad data points.\n",
    "\n",
    "A small golfing instance is provided to get you started, but the autograder will check more cases."
   ]
  },
  {
   "cell_type": "code",
   "execution_count": 189,
   "id": "ab05437d-4736-4640-8949-8409b69ce08e",
   "metadata": {},
   "outputs": [
    {
     "name": "stdout",
     "output_type": "stream",
     "text": [
      "Great job!\n"
     ]
    },
    {
     "data": {
      "text/plain": [
       "True"
      ]
     },
     "execution_count": 189,
     "metadata": {},
     "output_type": "execute_result"
    }
   ],
   "source": [
    "# Put your Task 4.G regular expression here.\n",
    "TASK4G_REGEX = r'^([ ]*[-]*[0x]+[ ]*[-a-f0-9]+[ ]*[.]{1}[a-f0-9]+[ ]*$)|^([ ]*[-0-9]+[ ]*[.]*[ ]*[0-9]*[ ]*$)|^(0x[ ]*[-a-f0-9]*[ ]*)$'\n",
    "\n",
    "bad_data = [\n",
    "    ' 0x 12 .34 ', '0xfe.dc', '0x123456789.abcdef', '0xf', '0x0001.0',\n",
    "    '0', '1', '2.3', \" -45.67  \", \" 0 \", \" -45 . 67\", ' 0x12.34 '\n",
    "]\n",
    "non_bad_data = ['12.27.', '+3', 'fedc', 'other 0x12.34 junk', '0x12.', '0x12.34.', \"\",\n",
    "                \"0x1234.abcd junk at the end\", \"0x junk\"]\n",
    "regex_golf(TASK4G_REGEX, match_list = bad_data, nomatch_list = non_bad_data)"
   ]
  },
  {
   "cell_type": "markdown",
   "id": "20f171a1-21db-406b-a8af-fb9b34ae3e43",
   "metadata": {},
   "source": [
    "#### Back Reference\n",
    "\n",
    "When you use a grouping in your regex, you can actually refer back to this reference (called a \"backreference\")\n",
    "in other parts of your regex.\n",
    "In Python, a backreference is `\\n` where `n` is the number of the grouping.\n",
    "A group's number is determined by the order of its open parenthesis (starting with 1).\n",
    "\n",
    "For example, `(\"|')foo\\1` will match `\"foo\"` and `'foo'` (note the order of quotes),\n",
    "but not `\"foo'`.\n",
    "So only correctly quoted strings get matched."
   ]
  },
  {
   "cell_type": "code",
   "execution_count": 97,
   "id": "d35eef59-5a15-495e-892f-8c57eb674125",
   "metadata": {},
   "outputs": [
    {
     "name": "stdout",
     "output_type": "stream",
     "text": [
      "Great job!\n",
      "Great job!\n"
     ]
    },
    {
     "data": {
      "text/plain": [
       "True"
      ]
     },
     "execution_count": 97,
     "metadata": {},
     "output_type": "execute_result"
    }
   ],
   "source": [
    "# Note that we had to escape the single quote,\n",
    "# not for regex reasons but because we used a single quote for our Python string.\n",
    "regex = r'^(\"|\\')foo\\1$'\n",
    "match = ['\"foo\"', \"'foo'\"]\n",
    "non_match = ['\"foo\\'', '\\'foo\"']\n",
    "regex_golf(regex, match_list = match, nomatch_list = non_match)\n",
    "\n",
    "# We can match an HTML tag.\n",
    "regex = r'^<(\\w+)>.*</\\1>$'\n",
    "match = ['<a>link</a>', '<span>Some text!</span>', '<html><body><div>Yay!</div></body></html>']\n",
    "non_match = ['<p></a>']\n",
    "regex_golf(regex, match_list = match, nomatch_list = non_match)"
   ]
  },
  {
   "cell_type": "markdown",
   "id": "e2d51cf5-3d0a-4317-ada0-cf4640892edd",
   "metadata": {},
   "source": [
    "Using a backreference during matching is useful,\n",
    "but the true strength of backreferences are using them with replacements.\n",
    "Up until now we have only been focused on matching,\n",
    "but you will probably use regex more in your daily life in find-replace operations.\n",
    "\n",
    "There are several replace functions available in Python's re library,\n",
    "with the most common being [`re.sub`](https://docs.python.org/3/library/re.html#re.sub).\n",
    "`re.sub()` takes three required arguments: the regex, the replacement string, and the target string.\n",
    "The function then returns the replaced string (or the original target string if no replacements were made).\n",
    "\n",
    "Backreferences can be used in the replacement string (the second parameter) to represent the exact text that was matched by a group."
   ]
  },
  {
   "cell_type": "code",
   "execution_count": 98,
   "id": "b358fb21-86ea-40d9-bf3c-dbd4c4734279",
   "metadata": {},
   "outputs": [
    {
     "name": "stdout",
     "output_type": "stream",
     "text": [
      "Hello, Sammy Slug!\n",
      "5551234567\n",
      "3 - dog\n"
     ]
    }
   ],
   "source": [
    "regex = r'My name is (.+)\\.'\n",
    "replacement = r'Hello, \\1!'\n",
    "target = \"My name is Sammy Slug.\"\n",
    "print(re.sub(regex, replacement, target))\n",
    "\n",
    "# Sometimes you will not want anything in the target string aside from your group.\n",
    "# In this case, you can use anchors and .* to consume anything before and after your match.\n",
    "regex = r'^.*(\\d{3})\\D*(\\d{3})\\D*(\\d{4}).*$'\n",
    "replacement = r'\\1\\2\\3'\n",
    "target = \"Call me back at (555) 123-4567, thanks.\"\n",
    "print(re.sub(regex, replacement, target))\n",
    "\n",
    "# Remember, that a group's number is determined by the location of the open parenthesis.\n",
    "regex = r'^.*(\\d+)\\s+((dog)|(cat)|(spotted lizard))s?.*$'\n",
    "replacement = r'\\1 - \\2'\n",
    "target = \"Sammy has 1 parrot and 3 dogs.\"\n",
    "print(re.sub(regex, replacement, target))"
   ]
  },
  {
   "cell_type": "markdown",
   "id": "4a4aa6f2-e4ad-47d9-b74c-dbf956e328a7",
   "metadata": {},
   "source": [
    "<h4 style=\"color: darkorange; font-size: x-large\";>★ Task 4.H: Mysterious Code - Best</h4>\n",
    "\n",
    "Let's improve upon Task 4.D one more time.\n",
    "Now we don't just want to find these code, but we want to modify them!\n",
    "\n",
    "We want to replace the name of each code variable so that it has the actual code in the name.\n",
    "Instead of:\n",
    "```\n",
    "code_a = \"a123\"\n",
    "```\n",
    "We want:\n",
    "```\n",
    "code_a123 = \"a123\"\n",
    "```\n",
    "\n",
    "To do this, you will need to complete two parts:\n",
    " - `TASK4H_REGEX` -- A regular expression that matches the code assignment statement (like in Tasks 4).\n",
    " - `TASK4H_REPLACEMENT` -- A replacement string that will be used together with your regex to modify our code.\n",
    "\n",
    "Specifics:\n",
    " - Make no assumptions about the amount and type of whitespace on either side of the assignment operator (except that it will not be a newline) in the target string.\n",
    " - The replacement string should have exactly one space character on either side of the assignment operator.\n",
    " - The replacement string should use double quotes around the code (as the existing code already does).\n",
    " - You may assume that the entire assignment statement will be on one line.\n",
    "\n",
    "A small test is provided to get you started, but the autograder will check more cases."
   ]
  },
  {
   "cell_type": "code",
   "execution_count": 103,
   "id": "292a70d7-c887-45e9-82fa-98021eeb70b1",
   "metadata": {},
   "outputs": [
    {
     "name": "stdout",
     "output_type": "stream",
     "text": [
      "Good job, string 0 is correct!\n",
      "Good job, string 1 is correct!\n",
      "Good job, string 2 is correct!\n"
     ]
    }
   ],
   "source": [
    "# Put your Task 4.H regular expression and replacement string here.\n",
    "TASK4H_REGEX = r'code_([a-z]{1})([\\t ]+)=([\\t ]+)\"([A-Za-z0-9]{1}[0-9]{3})\"'\n",
    "TASK4H_REPLACEMENT = r'code_\\4 = \"\\4\"'\n",
    "\n",
    "old_strings = [\n",
    "    'code_a = \"a123\"',\n",
    "    'code_b     =     \"1098\"',\n",
    "    'code_c\\t=\\t\"z395\"',\n",
    "]\n",
    "\n",
    "new_strings = [\n",
    "    'code_a123 = \"a123\"',\n",
    "    'code_1098 = \"1098\"',\n",
    "    'code_z395 = \"z395\"',\n",
    "]\n",
    "\n",
    "for i in range(len(old_strings)):\n",
    "    actual = re.sub(TASK4H_REGEX, TASK4H_REPLACEMENT, old_strings[i])\n",
    "\n",
    "    expected = new_strings[i]\n",
    "    if (actual == expected):\n",
    "        print(\"Good job, string %d is correct!\" % (i))\n",
    "    else:\n",
    "        print(\"Missed string %d. Expected '%s', found '%s'.\" % (i, expected, actual))"
   ]
  },
  {
   "cell_type": "markdown",
   "id": "eda6d5b0-fa49-4a60-bcb5-d617313613f4",
   "metadata": {},
   "source": [
    "### Congratulations!\n",
    "\n",
    "Congratulations, you now know about regular expressions!\n",
    "Of course there are more features you can learn,\n",
    "but you know enough of the basics to cover most situations,\n",
    "and you have the knowledge, resources, and vocabulary to learn about any other situations that you may encounter."
   ]
  }
 ],
 "metadata": {
  "kernelspec": {
   "display_name": "Python 3 (ipykernel)",
   "language": "python",
   "name": "python3"
  },
  "language_info": {
   "codemirror_mode": {
    "name": "ipython",
    "version": 3
   },
   "file_extension": ".py",
   "mimetype": "text/x-python",
   "name": "python",
   "nbconvert_exporter": "python",
   "pygments_lexer": "ipython3",
   "version": "3.11.4"
  }
 },
 "nbformat": 4,
 "nbformat_minor": 5
}
