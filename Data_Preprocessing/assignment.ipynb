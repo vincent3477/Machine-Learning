{
 "cells": [
  {
   "cell_type": "markdown",
   "id": "7804a632-bfe4-4edc-8db2-86f1295a101b",
   "metadata": {
    "tags": []
   },
   "source": [
    "# Hands-On Assignment 1\n",
    "\n",
    "In this assignment, you will pre-process and analyze synthetic data (i.e., data produced by an algorithm rather than collected from the real world).\n",
    "\n",
    "The objective of this assignment is for you to learn about:\n",
    " - Data manipulation (selecting, adding, and removing rows and columns).\n",
    " - Data exploration (understanding the structure and contents of a dataset).\n",
    " - Data selection (filtering rows and columns).\n",
    " - Iteration over various data types.\n",
    " - Feature engineering (pre-processing data for use with machine learning).\n",
    " - Basic data visualization (e.g., plotting data to explore functional relationships between variables).\n",
    " - Working with mathematical equations and turning them into code.\n",
    "\n",
    "Throughout this course, we will be using the [Pandas library](https://pandas.pydata.org/) to manipulate data.\n",
    "This library is very large and can be quite complex,\n",
    "but we will cover the basics of Pandas in this lesson.\n",
    "If you want additional information or practice,\n",
    "we recommend the official [Pandas Tutorial](https://pandas.pydata.org/docs/getting_started/intro_tutorials/index.html).\n",
    "\n",
    "The data we will use in this lesson is located in this repository in a file called `synthetic_covid_data.csv`."
   ]
  },
  {
   "cell_type": "markdown",
   "id": "14f0a8f0-45fa-4d24-82a2-8cc0b47b6be3",
   "metadata": {
    "tags": []
   },
   "source": [
    "## Synthetic Covid-19 Data\n",
    "\n",
    "*The data/scenario used for the following exercise is entirely fictional and intended for instructional purposes only.*\n",
    "\n",
    "Sainte Croix University has developed a new, cheap, rapid antigen test for SARS-CoV-2 with potentially high sensitivity\n",
    "(it can detect even trace amounts of a certain protein of the SARS-CoV-2 virion).\n",
    "However, the protein that the test detects is also a human **isoantigen**:\n",
    "it is already present in some subset of humans.\n",
    "We will call those individuals who have the isoantigen without Covid infection \"isoantigenic\".\n",
    "\n",
    "The antigen test yields a **titer** value:\n",
    "the number of times a serum extracted from a person can be diluted before the antigen is no longer detectable by the test.\n",
    "The higher the value of the titer, the more prevalent the antigen must be in the serum.\n",
    "Note that titer values are recorded as integers.\n",
    "\n",
    "Synthetic data, representing an unbiased sample of the population in Sainte Croix County\n",
    "who *do not* have current symptoms and were not previously infected with Covid-19 at the time of testing,\n",
    "has been included in this repository as `synthetic_covid_data.csv`.\n",
    "This data includes titer values and, if the patient became symptomatic within 14 days of the test, the number of days after the test that symptoms appeared."
   ]
  },
  {
   "cell_type": "markdown",
   "id": "90eb74c7-3376-4e63-b767-6fc33a8d73a9",
   "metadata": {
    "tags": []
   },
   "source": [
    "The following cell imports Pandas and loads the data into a Pandas DataFrame."
   ]
  },
  {
   "cell_type": "code",
   "execution_count": 2,
   "id": "dacf1776-364f-41d8-921f-16b6829751e1",
   "metadata": {},
   "outputs": [
    {
     "data": {
      "text/html": [
       "<div>\n",
       "<style scoped>\n",
       "    .dataframe tbody tr th:only-of-type {\n",
       "        vertical-align: middle;\n",
       "    }\n",
       "\n",
       "    .dataframe tbody tr th {\n",
       "        vertical-align: top;\n",
       "    }\n",
       "\n",
       "    .dataframe thead th {\n",
       "        text-align: right;\n",
       "    }\n",
       "</style>\n",
       "<table border=\"1\" class=\"dataframe\">\n",
       "  <thead>\n",
       "    <tr style=\"text-align: right;\">\n",
       "      <th></th>\n",
       "      <th>infected</th>\n",
       "      <th>symptomatic</th>\n",
       "      <th>days_before_symptoms</th>\n",
       "      <th>titer</th>\n",
       "    </tr>\n",
       "    <tr>\n",
       "      <th>id</th>\n",
       "      <th></th>\n",
       "      <th></th>\n",
       "      <th></th>\n",
       "      <th></th>\n",
       "    </tr>\n",
       "  </thead>\n",
       "  <tbody>\n",
       "    <tr>\n",
       "      <th>0</th>\n",
       "      <td>False</td>\n",
       "      <td>False</td>\n",
       "      <td>NaN</td>\n",
       "      <td>0</td>\n",
       "    </tr>\n",
       "    <tr>\n",
       "      <th>1</th>\n",
       "      <td>False</td>\n",
       "      <td>False</td>\n",
       "      <td>NaN</td>\n",
       "      <td>0</td>\n",
       "    </tr>\n",
       "    <tr>\n",
       "      <th>2</th>\n",
       "      <td>False</td>\n",
       "      <td>False</td>\n",
       "      <td>NaN</td>\n",
       "      <td>26</td>\n",
       "    </tr>\n",
       "    <tr>\n",
       "      <th>3</th>\n",
       "      <td>False</td>\n",
       "      <td>False</td>\n",
       "      <td>NaN</td>\n",
       "      <td>0</td>\n",
       "    </tr>\n",
       "    <tr>\n",
       "      <th>4</th>\n",
       "      <td>False</td>\n",
       "      <td>False</td>\n",
       "      <td>NaN</td>\n",
       "      <td>0</td>\n",
       "    </tr>\n",
       "    <tr>\n",
       "      <th>...</th>\n",
       "      <td>...</td>\n",
       "      <td>...</td>\n",
       "      <td>...</td>\n",
       "      <td>...</td>\n",
       "    </tr>\n",
       "    <tr>\n",
       "      <th>4995</th>\n",
       "      <td>False</td>\n",
       "      <td>False</td>\n",
       "      <td>NaN</td>\n",
       "      <td>0</td>\n",
       "    </tr>\n",
       "    <tr>\n",
       "      <th>4996</th>\n",
       "      <td>False</td>\n",
       "      <td>False</td>\n",
       "      <td>NaN</td>\n",
       "      <td>1</td>\n",
       "    </tr>\n",
       "    <tr>\n",
       "      <th>4997</th>\n",
       "      <td>False</td>\n",
       "      <td>False</td>\n",
       "      <td>NaN</td>\n",
       "      <td>0</td>\n",
       "    </tr>\n",
       "    <tr>\n",
       "      <th>4998</th>\n",
       "      <td>False</td>\n",
       "      <td>False</td>\n",
       "      <td>NaN</td>\n",
       "      <td>23</td>\n",
       "    </tr>\n",
       "    <tr>\n",
       "      <th>4999</th>\n",
       "      <td>False</td>\n",
       "      <td>False</td>\n",
       "      <td>NaN</td>\n",
       "      <td>1</td>\n",
       "    </tr>\n",
       "  </tbody>\n",
       "</table>\n",
       "<p>5000 rows × 4 columns</p>\n",
       "</div>"
      ],
      "text/plain": [
       "      infected  symptomatic  days_before_symptoms  titer\n",
       "id                                                      \n",
       "0        False        False                   NaN      0\n",
       "1        False        False                   NaN      0\n",
       "2        False        False                   NaN     26\n",
       "3        False        False                   NaN      0\n",
       "4        False        False                   NaN      0\n",
       "...        ...          ...                   ...    ...\n",
       "4995     False        False                   NaN      0\n",
       "4996     False        False                   NaN      1\n",
       "4997     False        False                   NaN      0\n",
       "4998     False        False                   NaN     23\n",
       "4999     False        False                   NaN      1\n",
       "\n",
       "[5000 rows x 4 columns]"
      ]
     },
     "execution_count": 2,
     "metadata": {},
     "output_type": "execute_result"
    }
   ],
   "source": [
    "import random\n",
    "import math\n",
    "import numpy\n",
    "import pandas\n",
    "\n",
    "# Load the file \"synthetic_covid_data.csv\" into a pandas DataFrame.\n",
    "# index_col refers to the column name in the csv (comma separated values)\n",
    "# file that we will treat as an index (identifier for each example/row).\n",
    "covid_data = pandas.read_csv('synthetic_covid_data.csv', index_col = 'id')\n",
    "\n",
    "# Print out the DataFrame.\n",
    "# Note that it only prints a summary if there are too many rows.\n",
    "covid_data"
   ]
  },
  {
   "cell_type": "markdown",
   "id": "68dc682c-3c49-4862-8668-cf0ec77726cb",
   "metadata": {
    "tags": []
   },
   "source": [
    "## Part 0: Dataframe Manipulation\n",
    "\n",
    "Throughout this course, you will be heavily using [Pandas DataFrames](https://pandas.pydata.org/pandas-docs/stable/reference/api/pandas.DataFrame.html)\n",
    "(a dataframe is also frequently just called a \"frame\").\n",
    "Running the cell above will print out a summary of the frame we created,\n",
    "note that we can also look at it as a [table](https://en.wikipedia.org/wiki/Table_(information)),\n",
    "with rows of values organized into columns, where each column shares a specific data type and interpretation.\n",
    "\n",
    "This section provides a small overview of some of the common operations you will be using with Pandas DataFrames."
   ]
  },
  {
   "cell_type": "markdown",
   "id": "557577e3-dcb0-4733-869d-047bf7c2a2f7",
   "metadata": {
    "tags": []
   },
   "source": [
    "### Column Selection\n",
    "\n",
    "To select a single column from a frame, you can just index it like you would a normal Python dict/map.\n",
    "For example, to select only the `infected` column we would do the following:"
   ]
  },
  {
   "cell_type": "code",
   "execution_count": 3,
   "id": "e115e975-1b7e-4ebc-8b6a-536f5292bedd",
   "metadata": {},
   "outputs": [
    {
     "data": {
      "text/plain": [
       "id\n",
       "0       False\n",
       "1       False\n",
       "2       False\n",
       "3       False\n",
       "4       False\n",
       "        ...  \n",
       "4995    False\n",
       "4996    False\n",
       "4997    False\n",
       "4998    False\n",
       "4999    False\n",
       "Name: infected, Length: 5000, dtype: bool"
      ]
     },
     "execution_count": 3,
     "metadata": {},
     "output_type": "execute_result"
    }
   ],
   "source": [
    "covid_data['infected']"
   ]
  },
  {
   "cell_type": "markdown",
   "id": "a0b73609",
   "metadata": {},
   "source": [
    "When a single column selected from a DataFrame,\n",
    "Pandas will return the result as a [Series](https://pandas.pydata.org/pandas-docs/stable/reference/api/pandas.Series.html) instead of a DataFrame.\n",
    "\n",
    "You can also select multiple columns at the same time by using a list of column names instead of just a single column name:"
   ]
  },
  {
   "cell_type": "code",
   "execution_count": 4,
   "id": "c1a24388",
   "metadata": {},
   "outputs": [
    {
     "data": {
      "text/html": [
       "<div>\n",
       "<style scoped>\n",
       "    .dataframe tbody tr th:only-of-type {\n",
       "        vertical-align: middle;\n",
       "    }\n",
       "\n",
       "    .dataframe tbody tr th {\n",
       "        vertical-align: top;\n",
       "    }\n",
       "\n",
       "    .dataframe thead th {\n",
       "        text-align: right;\n",
       "    }\n",
       "</style>\n",
       "<table border=\"1\" class=\"dataframe\">\n",
       "  <thead>\n",
       "    <tr style=\"text-align: right;\">\n",
       "      <th></th>\n",
       "      <th>infected</th>\n",
       "      <th>symptomatic</th>\n",
       "    </tr>\n",
       "    <tr>\n",
       "      <th>id</th>\n",
       "      <th></th>\n",
       "      <th></th>\n",
       "    </tr>\n",
       "  </thead>\n",
       "  <tbody>\n",
       "    <tr>\n",
       "      <th>0</th>\n",
       "      <td>False</td>\n",
       "      <td>False</td>\n",
       "    </tr>\n",
       "    <tr>\n",
       "      <th>1</th>\n",
       "      <td>False</td>\n",
       "      <td>False</td>\n",
       "    </tr>\n",
       "    <tr>\n",
       "      <th>2</th>\n",
       "      <td>False</td>\n",
       "      <td>False</td>\n",
       "    </tr>\n",
       "    <tr>\n",
       "      <th>3</th>\n",
       "      <td>False</td>\n",
       "      <td>False</td>\n",
       "    </tr>\n",
       "    <tr>\n",
       "      <th>4</th>\n",
       "      <td>False</td>\n",
       "      <td>False</td>\n",
       "    </tr>\n",
       "    <tr>\n",
       "      <th>...</th>\n",
       "      <td>...</td>\n",
       "      <td>...</td>\n",
       "    </tr>\n",
       "    <tr>\n",
       "      <th>4995</th>\n",
       "      <td>False</td>\n",
       "      <td>False</td>\n",
       "    </tr>\n",
       "    <tr>\n",
       "      <th>4996</th>\n",
       "      <td>False</td>\n",
       "      <td>False</td>\n",
       "    </tr>\n",
       "    <tr>\n",
       "      <th>4997</th>\n",
       "      <td>False</td>\n",
       "      <td>False</td>\n",
       "    </tr>\n",
       "    <tr>\n",
       "      <th>4998</th>\n",
       "      <td>False</td>\n",
       "      <td>False</td>\n",
       "    </tr>\n",
       "    <tr>\n",
       "      <th>4999</th>\n",
       "      <td>False</td>\n",
       "      <td>False</td>\n",
       "    </tr>\n",
       "  </tbody>\n",
       "</table>\n",
       "<p>5000 rows × 2 columns</p>\n",
       "</div>"
      ],
      "text/plain": [
       "      infected  symptomatic\n",
       "id                         \n",
       "0        False        False\n",
       "1        False        False\n",
       "2        False        False\n",
       "3        False        False\n",
       "4        False        False\n",
       "...        ...          ...\n",
       "4995     False        False\n",
       "4996     False        False\n",
       "4997     False        False\n",
       "4998     False        False\n",
       "4999     False        False\n",
       "\n",
       "[5000 rows x 2 columns]"
      ]
     },
     "execution_count": 4,
     "metadata": {},
     "output_type": "execute_result"
    }
   ],
   "source": [
    "covid_data[['infected', 'symptomatic']]"
   ]
  },
  {
   "cell_type": "markdown",
   "id": "969a05c3-a74f-4111-ba56-ad2b8e940e38",
   "metadata": {},
   "source": [
    "When multiple columns are selected, a DataFrame will be returned."
   ]
  },
  {
   "cell_type": "markdown",
   "id": "6e03fa4b",
   "metadata": {
    "tags": []
   },
   "source": [
    "<h4 style=\"color: darkorange; font-size: x-large\";>★ Task 0.A</h4>\n",
    "\n",
    "Your task now is to complete the function below.\n",
    "This function takes two arguments: a frame and a column name;\n",
    "and returns the column from the frame with the given name."
   ]
  },
  {
   "cell_type": "code",
   "execution_count": 5,
   "id": "dafebd45-2a1d-4216-b323-2943abb0a000",
   "metadata": {},
   "outputs": [
    {
     "name": "stdout",
     "output_type": "stream",
     "text": [
      "Selected column 'symptomatic':\n"
     ]
    },
    {
     "data": {
      "text/plain": [
       "id\n",
       "0       False\n",
       "1       False\n",
       "2       False\n",
       "3       False\n",
       "4       False\n",
       "        ...  \n",
       "4995    False\n",
       "4996    False\n",
       "4997    False\n",
       "4998    False\n",
       "4999    False\n",
       "Name: symptomatic, Length: 5000, dtype: bool"
      ]
     },
     "execution_count": 5,
     "metadata": {},
     "output_type": "execute_result"
    }
   ],
   "source": [
    "def select_column(frame, column_name):\n",
    "    return frame[column_name]\n",
    "\n",
    "print(\"Selected column 'symptomatic':\")\n",
    "select_column(covid_data, 'symptomatic')"
   ]
  },
  {
   "cell_type": "markdown",
   "id": "8ab54a59-c3ce-40ae-b9bb-3797960eaf13",
   "metadata": {
    "tags": []
   },
   "source": [
    "### Row Selection\n",
    "\n",
    "To select rows from a DataFrame, we will generally use the \"indexing\" syntax.\n",
    "You first select a column, and then you make an expression using that column.\n",
    "Rows where the expression is true are returned.\n",
    "Most simple Python expression can be used.\n",
    "\n",
    "(Note that the [DataFrame.loc()](https://pandas.pydata.org/pandas-docs/stable/reference/api/pandas.DataFrame.loc.html) method allows for much more complex selection, but it is outside the scope of this assignment.)\n",
    "\n",
    "For example, the following cell will select all the rows where individuals have a `titer` value of 32.\n",
    "Note that we referenced `covid_data` twice: once to select the column (`covid_data['titer']`) and again to reference the frame that we want to select data from (the outer use of `covid_data`)."
   ]
  },
  {
   "cell_type": "code",
   "execution_count": 6,
   "id": "21ad8039-b0d3-40ff-981d-5985201bbe6f",
   "metadata": {},
   "outputs": [
    {
     "data": {
      "text/html": [
       "<div>\n",
       "<style scoped>\n",
       "    .dataframe tbody tr th:only-of-type {\n",
       "        vertical-align: middle;\n",
       "    }\n",
       "\n",
       "    .dataframe tbody tr th {\n",
       "        vertical-align: top;\n",
       "    }\n",
       "\n",
       "    .dataframe thead th {\n",
       "        text-align: right;\n",
       "    }\n",
       "</style>\n",
       "<table border=\"1\" class=\"dataframe\">\n",
       "  <thead>\n",
       "    <tr style=\"text-align: right;\">\n",
       "      <th></th>\n",
       "      <th>infected</th>\n",
       "      <th>symptomatic</th>\n",
       "      <th>days_before_symptoms</th>\n",
       "      <th>titer</th>\n",
       "    </tr>\n",
       "    <tr>\n",
       "      <th>id</th>\n",
       "      <th></th>\n",
       "      <th></th>\n",
       "      <th></th>\n",
       "      <th></th>\n",
       "    </tr>\n",
       "  </thead>\n",
       "  <tbody>\n",
       "    <tr>\n",
       "      <th>704</th>\n",
       "      <td>False</td>\n",
       "      <td>False</td>\n",
       "      <td>NaN</td>\n",
       "      <td>32</td>\n",
       "    </tr>\n",
       "    <tr>\n",
       "      <th>725</th>\n",
       "      <td>False</td>\n",
       "      <td>False</td>\n",
       "      <td>NaN</td>\n",
       "      <td>32</td>\n",
       "    </tr>\n",
       "    <tr>\n",
       "      <th>800</th>\n",
       "      <td>True</td>\n",
       "      <td>True</td>\n",
       "      <td>1.0</td>\n",
       "      <td>32</td>\n",
       "    </tr>\n",
       "    <tr>\n",
       "      <th>990</th>\n",
       "      <td>True</td>\n",
       "      <td>True</td>\n",
       "      <td>1.0</td>\n",
       "      <td>32</td>\n",
       "    </tr>\n",
       "    <tr>\n",
       "      <th>1096</th>\n",
       "      <td>True</td>\n",
       "      <td>True</td>\n",
       "      <td>0.0</td>\n",
       "      <td>32</td>\n",
       "    </tr>\n",
       "    <tr>\n",
       "      <th>2415</th>\n",
       "      <td>True</td>\n",
       "      <td>True</td>\n",
       "      <td>3.0</td>\n",
       "      <td>32</td>\n",
       "    </tr>\n",
       "    <tr>\n",
       "      <th>2428</th>\n",
       "      <td>True</td>\n",
       "      <td>False</td>\n",
       "      <td>NaN</td>\n",
       "      <td>32</td>\n",
       "    </tr>\n",
       "    <tr>\n",
       "      <th>2435</th>\n",
       "      <td>False</td>\n",
       "      <td>False</td>\n",
       "      <td>NaN</td>\n",
       "      <td>32</td>\n",
       "    </tr>\n",
       "    <tr>\n",
       "      <th>2893</th>\n",
       "      <td>False</td>\n",
       "      <td>False</td>\n",
       "      <td>NaN</td>\n",
       "      <td>32</td>\n",
       "    </tr>\n",
       "    <tr>\n",
       "      <th>3333</th>\n",
       "      <td>False</td>\n",
       "      <td>False</td>\n",
       "      <td>NaN</td>\n",
       "      <td>32</td>\n",
       "    </tr>\n",
       "    <tr>\n",
       "      <th>3701</th>\n",
       "      <td>True</td>\n",
       "      <td>False</td>\n",
       "      <td>NaN</td>\n",
       "      <td>32</td>\n",
       "    </tr>\n",
       "    <tr>\n",
       "      <th>3856</th>\n",
       "      <td>True</td>\n",
       "      <td>True</td>\n",
       "      <td>2.0</td>\n",
       "      <td>32</td>\n",
       "    </tr>\n",
       "    <tr>\n",
       "      <th>3924</th>\n",
       "      <td>True</td>\n",
       "      <td>False</td>\n",
       "      <td>NaN</td>\n",
       "      <td>32</td>\n",
       "    </tr>\n",
       "    <tr>\n",
       "      <th>4674</th>\n",
       "      <td>False</td>\n",
       "      <td>False</td>\n",
       "      <td>NaN</td>\n",
       "      <td>32</td>\n",
       "    </tr>\n",
       "    <tr>\n",
       "      <th>4676</th>\n",
       "      <td>True</td>\n",
       "      <td>True</td>\n",
       "      <td>1.0</td>\n",
       "      <td>32</td>\n",
       "    </tr>\n",
       "    <tr>\n",
       "      <th>4810</th>\n",
       "      <td>False</td>\n",
       "      <td>False</td>\n",
       "      <td>NaN</td>\n",
       "      <td>32</td>\n",
       "    </tr>\n",
       "    <tr>\n",
       "      <th>4860</th>\n",
       "      <td>False</td>\n",
       "      <td>False</td>\n",
       "      <td>NaN</td>\n",
       "      <td>32</td>\n",
       "    </tr>\n",
       "  </tbody>\n",
       "</table>\n",
       "</div>"
      ],
      "text/plain": [
       "      infected  symptomatic  days_before_symptoms  titer\n",
       "id                                                      \n",
       "704      False        False                   NaN     32\n",
       "725      False        False                   NaN     32\n",
       "800       True         True                   1.0     32\n",
       "990       True         True                   1.0     32\n",
       "1096      True         True                   0.0     32\n",
       "2415      True         True                   3.0     32\n",
       "2428      True        False                   NaN     32\n",
       "2435     False        False                   NaN     32\n",
       "2893     False        False                   NaN     32\n",
       "3333     False        False                   NaN     32\n",
       "3701      True        False                   NaN     32\n",
       "3856      True         True                   2.0     32\n",
       "3924      True        False                   NaN     32\n",
       "4674     False        False                   NaN     32\n",
       "4676      True         True                   1.0     32\n",
       "4810     False        False                   NaN     32\n",
       "4860     False        False                   NaN     32"
      ]
     },
     "execution_count": 6,
     "metadata": {},
     "output_type": "execute_result"
    }
   ],
   "source": [
    "covid_data[covid_data['titer'] == 32]"
   ]
  },
  {
   "cell_type": "markdown",
   "id": "aa44667e-c23d-4916-a417-88b3626555d7",
   "metadata": {},
   "source": [
    "We can also use more expressions than just equals (`==`):"
   ]
  },
  {
   "cell_type": "code",
   "execution_count": 7,
   "id": "9f2efc14-4e3e-4225-8ca4-499e6a0de027",
   "metadata": {},
   "outputs": [
    {
     "name": "stdout",
     "output_type": "stream",
     "text": [
      "titer > 32\n",
      "      infected  symptomatic  days_before_symptoms  titer\n",
      "id                                                      \n",
      "34        True         True                   0.0     35\n",
      "75        True         True                   1.0     35\n",
      "146      False        False                   NaN     33\n",
      "148      False        False                   NaN     36\n",
      "262       True         True                   2.0     41\n",
      "...        ...          ...                   ...    ...\n",
      "4743      True        False                   NaN     33\n",
      "4770      True         True                   0.0     33\n",
      "4778      True         True                   1.0     36\n",
      "4815     False        False                   NaN     33\n",
      "4818     False        False                   NaN     36\n",
      "\n",
      "[71 rows x 4 columns]\n",
      "---\n",
      "asymptomatic and (titer > 40)\n",
      "Empty DataFrame\n",
      "Columns: [infected, symptomatic, days_before_symptoms, titer]\n",
      "Index: []\n",
      "---\n",
      "not (titer > 32)\n",
      "      infected  symptomatic  days_before_symptoms  titer\n",
      "id                                                      \n",
      "0        False        False                   NaN      0\n",
      "1        False        False                   NaN      0\n",
      "2        False        False                   NaN     26\n",
      "3        False        False                   NaN      0\n",
      "4        False        False                   NaN      0\n",
      "...        ...          ...                   ...    ...\n",
      "4995     False        False                   NaN      0\n",
      "4996     False        False                   NaN      1\n",
      "4997     False        False                   NaN      0\n",
      "4998     False        False                   NaN     23\n",
      "4999     False        False                   NaN      1\n",
      "\n",
      "[4929 rows x 4 columns]\n"
     ]
    }
   ],
   "source": [
    "# You can use inequalities.\n",
    "print(\"titer > 32\")\n",
    "print(covid_data[covid_data['titer'] > 32])\n",
    "\n",
    "print('---')\n",
    "\n",
    "# You can use more complex expression with different columns.\n",
    "# `&` is used for \"and\", and `|` is used for \"or\".\n",
    "print(\"asymptomatic and (titer > 40)\")\n",
    "print(covid_data[(covid_data['symptomatic'] is False) & (covid_data['titer'] > 40)])\n",
    "\n",
    "print('---')\n",
    "\n",
    "# You can also use `~` to negate a condition (note the parens).\n",
    "print(\"not (titer > 32)\")\n",
    "print(covid_data[~(covid_data['titer'] > 32)])"
   ]
  },
  {
   "cell_type": "markdown",
   "id": "7b61d040-138c-482d-8f56-b69da54951d5",
   "metadata": {},
   "source": [
    "As you create more complex expressions to select data,\n",
    "you may find some cases or operators that Pandas does not support (which normal Python does support).\n",
    "This is because Pandas overrides the normal Python operators (`==`, `<`, `~`, etc) when a Pandas object (frame/series) is on the left hand side of the operator.\n",
    "You should always test your selection expression and may have to play around with it a bit."
   ]
  },
  {
   "cell_type": "markdown",
   "id": "b5fd7f7e-a7fc-4081-91ef-1c139416827d",
   "metadata": {
    "tags": []
   },
   "source": [
    "<h4 style=\"color: darkorange; font-size: x-large\";>★ Task 0.B</h4>\n",
    "\n",
    "Your task is to complete the function below.\n",
    "This function takes three arguments: a frame, a column name, and a value;\n",
    "and returns the rows of the frame where the value in the supplied column matches the given value."
   ]
  },
  {
   "cell_type": "code",
   "execution_count": 8,
   "id": "44995863-6eac-45ec-9cae-19b458211fa2",
   "metadata": {},
   "outputs": [
    {
     "name": "stdout",
     "output_type": "stream",
     "text": [
      "Filtered rows where 'titer' = 5:\n"
     ]
    },
    {
     "data": {
      "text/html": [
       "<div>\n",
       "<style scoped>\n",
       "    .dataframe tbody tr th:only-of-type {\n",
       "        vertical-align: middle;\n",
       "    }\n",
       "\n",
       "    .dataframe tbody tr th {\n",
       "        vertical-align: top;\n",
       "    }\n",
       "\n",
       "    .dataframe thead th {\n",
       "        text-align: right;\n",
       "    }\n",
       "</style>\n",
       "<table border=\"1\" class=\"dataframe\">\n",
       "  <thead>\n",
       "    <tr style=\"text-align: right;\">\n",
       "      <th></th>\n",
       "      <th>infected</th>\n",
       "      <th>symptomatic</th>\n",
       "      <th>days_before_symptoms</th>\n",
       "      <th>titer</th>\n",
       "    </tr>\n",
       "    <tr>\n",
       "      <th>id</th>\n",
       "      <th></th>\n",
       "      <th></th>\n",
       "      <th></th>\n",
       "      <th></th>\n",
       "    </tr>\n",
       "  </thead>\n",
       "  <tbody>\n",
       "    <tr>\n",
       "      <th>309</th>\n",
       "      <td>True</td>\n",
       "      <td>False</td>\n",
       "      <td>NaN</td>\n",
       "      <td>5</td>\n",
       "    </tr>\n",
       "    <tr>\n",
       "      <th>1070</th>\n",
       "      <td>True</td>\n",
       "      <td>True</td>\n",
       "      <td>7.0</td>\n",
       "      <td>5</td>\n",
       "    </tr>\n",
       "    <tr>\n",
       "      <th>3267</th>\n",
       "      <td>True</td>\n",
       "      <td>False</td>\n",
       "      <td>NaN</td>\n",
       "      <td>5</td>\n",
       "    </tr>\n",
       "    <tr>\n",
       "      <th>3534</th>\n",
       "      <td>True</td>\n",
       "      <td>False</td>\n",
       "      <td>NaN</td>\n",
       "      <td>5</td>\n",
       "    </tr>\n",
       "  </tbody>\n",
       "</table>\n",
       "</div>"
      ],
      "text/plain": [
       "      infected  symptomatic  days_before_symptoms  titer\n",
       "id                                                      \n",
       "309       True        False                   NaN      5\n",
       "1070      True         True                   7.0      5\n",
       "3267      True        False                   NaN      5\n",
       "3534      True        False                   NaN      5"
      ]
     },
     "execution_count": 8,
     "metadata": {},
     "output_type": "execute_result"
    }
   ],
   "source": [
    "def filter_rows(frame, column_name, value):\n",
    "    return frame[frame['titer'] == value]\n",
    "\n",
    "print(\"Filtered rows where 'titer' = 5:\")\n",
    "filter_rows(covid_data, 'titer', 5)"
   ]
  },
  {
   "cell_type": "markdown",
   "id": "32bd8839-73c2-42a4-b42c-9cc35deb5e86",
   "metadata": {
    "tags": []
   },
   "source": [
    "### Creating a new DataFrame\n",
    "\n",
    "Empty frames can be created simply using the default constructor: `new_frame = pandas.DataFrame()`.\n",
    "\n",
    "However to create a populated frame, the easiest way is to construct the frame using a dictionary that already has your data in it.\n",
    "The keys should be the column names, and the values should be lists of values you want in each of the frame's columns.\n",
    "\n",
    "For the remaining exercises in this section, we will be creating a new frame (`test_frame`) with some test data."
   ]
  },
  {
   "cell_type": "code",
   "execution_count": 9,
   "id": "1803b642-9338-425b-8afd-ea4b8e398d4c",
   "metadata": {},
   "outputs": [
    {
     "data": {
      "text/html": [
       "<div>\n",
       "<style scoped>\n",
       "    .dataframe tbody tr th:only-of-type {\n",
       "        vertical-align: middle;\n",
       "    }\n",
       "\n",
       "    .dataframe tbody tr th {\n",
       "        vertical-align: top;\n",
       "    }\n",
       "\n",
       "    .dataframe thead th {\n",
       "        text-align: right;\n",
       "    }\n",
       "</style>\n",
       "<table border=\"1\" class=\"dataframe\">\n",
       "  <thead>\n",
       "    <tr style=\"text-align: right;\">\n",
       "      <th></th>\n",
       "      <th>Name</th>\n",
       "      <th>Surfing Score</th>\n",
       "      <th>Qualification</th>\n",
       "    </tr>\n",
       "  </thead>\n",
       "  <tbody>\n",
       "    <tr>\n",
       "      <th>0</th>\n",
       "      <td>Andrew</td>\n",
       "      <td>5.3</td>\n",
       "      <td>MS</td>\n",
       "    </tr>\n",
       "    <tr>\n",
       "      <th>1</th>\n",
       "      <td>Eriq</td>\n",
       "      <td>5.9</td>\n",
       "      <td>PhD</td>\n",
       "    </tr>\n",
       "    <tr>\n",
       "      <th>2</th>\n",
       "      <td>Reilly</td>\n",
       "      <td>5.1</td>\n",
       "      <td>PhD</td>\n",
       "    </tr>\n",
       "    <tr>\n",
       "      <th>3</th>\n",
       "      <td>Michael</td>\n",
       "      <td>5.2</td>\n",
       "      <td>PhD</td>\n",
       "    </tr>\n",
       "  </tbody>\n",
       "</table>\n",
       "</div>"
      ],
      "text/plain": [
       "      Name  Surfing Score Qualification\n",
       "0   Andrew            5.3            MS\n",
       "1     Eriq            5.9           PhD\n",
       "2   Reilly            5.1           PhD\n",
       "3  Michael            5.2           PhD"
      ]
     },
     "execution_count": 9,
     "metadata": {},
     "output_type": "execute_result"
    }
   ],
   "source": [
    "# Define a dictionary containing the data we want to add.\n",
    "test_data = {\n",
    "    'Name': ['Andrew', 'Eriq', 'Reilly', 'Michael'],\n",
    "    'Surfing Score': [5.3, 5.9, 5.1, 5.2],\n",
    "    'Qualification': ['MS', 'PhD', 'PhD', 'PhD'],\n",
    "}\n",
    "\n",
    "# Create the DataFrame from the test data.\n",
    "test_frame = pandas.DataFrame(test_data)\n",
    "\n",
    "# Observe the result.\n",
    "test_frame"
   ]
  },
  {
   "cell_type": "markdown",
   "id": "6bc6b5d1",
   "metadata": {
    "tags": []
   },
   "source": [
    "### Adding Columns\n",
    "\n",
    "To add a column to an existing frame, you can just select the column (even if it does not exist) and assign a list values into to.\n",
    "For example:\n",
    "```\n",
    "some_frame['column_name'] = [1, 2, 3]\n",
    "```\n",
    "This also works for replacing an entire existing column.\n",
    "\n",
    "Suppose we wanted to add a new column (\"State\") to our new test frame.\n",
    "We can use the following code to add the new column."
   ]
  },
  {
   "cell_type": "code",
   "execution_count": 10,
   "id": "088c91e6",
   "metadata": {},
   "outputs": [
    {
     "data": {
      "text/html": [
       "<div>\n",
       "<style scoped>\n",
       "    .dataframe tbody tr th:only-of-type {\n",
       "        vertical-align: middle;\n",
       "    }\n",
       "\n",
       "    .dataframe tbody tr th {\n",
       "        vertical-align: top;\n",
       "    }\n",
       "\n",
       "    .dataframe thead th {\n",
       "        text-align: right;\n",
       "    }\n",
       "</style>\n",
       "<table border=\"1\" class=\"dataframe\">\n",
       "  <thead>\n",
       "    <tr style=\"text-align: right;\">\n",
       "      <th></th>\n",
       "      <th>Name</th>\n",
       "      <th>Surfing Score</th>\n",
       "      <th>Qualification</th>\n",
       "      <th>State</th>\n",
       "    </tr>\n",
       "  </thead>\n",
       "  <tbody>\n",
       "    <tr>\n",
       "      <th>0</th>\n",
       "      <td>Andrew</td>\n",
       "      <td>5.3</td>\n",
       "      <td>MS</td>\n",
       "      <td>California</td>\n",
       "    </tr>\n",
       "    <tr>\n",
       "      <th>1</th>\n",
       "      <td>Eriq</td>\n",
       "      <td>5.9</td>\n",
       "      <td>PhD</td>\n",
       "      <td>California</td>\n",
       "    </tr>\n",
       "    <tr>\n",
       "      <th>2</th>\n",
       "      <td>Reilly</td>\n",
       "      <td>5.1</td>\n",
       "      <td>PhD</td>\n",
       "      <td>Arizona</td>\n",
       "    </tr>\n",
       "    <tr>\n",
       "      <th>3</th>\n",
       "      <td>Michael</td>\n",
       "      <td>5.2</td>\n",
       "      <td>PhD</td>\n",
       "      <td>Oregon</td>\n",
       "    </tr>\n",
       "  </tbody>\n",
       "</table>\n",
       "</div>"
      ],
      "text/plain": [
       "      Name  Surfing Score Qualification       State\n",
       "0   Andrew            5.3            MS  California\n",
       "1     Eriq            5.9           PhD  California\n",
       "2   Reilly            5.1           PhD     Arizona\n",
       "3  Michael            5.2           PhD      Oregon"
      ]
     },
     "execution_count": 10,
     "metadata": {},
     "output_type": "execute_result"
    }
   ],
   "source": [
    "# Declare a list of the values we want to put in the column (in order).\n",
    "states = ['California', 'California', 'Arizona', 'Oregon']\n",
    "\n",
    "# Assign the values into the frame using the new column name ('State').\n",
    "test_frame['State'] = states\n",
    "\n",
    "# Observe the result.\n",
    "test_frame"
   ]
  },
  {
   "cell_type": "markdown",
   "id": "bb9ab066-a3a9-4aa7-b1a3-9d7f0048bbc9",
   "metadata": {
    "tags": []
   },
   "source": [
    "<h4 style=\"color: darkorange; font-size: x-large\";>★ Task 0.C</h4>\n",
    "\n",
    "Your task is to now complete the function below.\n",
    "This function takes three arguments: a frame, a column name, and a list of values;\n",
    "and returns the modified frame with the new column."
   ]
  },
  {
   "cell_type": "code",
   "execution_count": 12,
   "id": "a3210db8-9293-41ab-9d8e-512fbd4b95fc",
   "metadata": {},
   "outputs": [
    {
     "name": "stdout",
     "output_type": "stream",
     "text": [
      "Added a column 'Patient ID' that is filled with ints:\n"
     ]
    },
    {
     "data": {
      "text/html": [
       "<div>\n",
       "<style scoped>\n",
       "    .dataframe tbody tr th:only-of-type {\n",
       "        vertical-align: middle;\n",
       "    }\n",
       "\n",
       "    .dataframe tbody tr th {\n",
       "        vertical-align: top;\n",
       "    }\n",
       "\n",
       "    .dataframe thead th {\n",
       "        text-align: right;\n",
       "    }\n",
       "</style>\n",
       "<table border=\"1\" class=\"dataframe\">\n",
       "  <thead>\n",
       "    <tr style=\"text-align: right;\">\n",
       "      <th></th>\n",
       "      <th>infected</th>\n",
       "      <th>symptomatic</th>\n",
       "      <th>days_before_symptoms</th>\n",
       "      <th>titer</th>\n",
       "      <th>Patient ID</th>\n",
       "    </tr>\n",
       "    <tr>\n",
       "      <th>id</th>\n",
       "      <th></th>\n",
       "      <th></th>\n",
       "      <th></th>\n",
       "      <th></th>\n",
       "      <th></th>\n",
       "    </tr>\n",
       "  </thead>\n",
       "  <tbody>\n",
       "    <tr>\n",
       "      <th>0</th>\n",
       "      <td>False</td>\n",
       "      <td>False</td>\n",
       "      <td>NaN</td>\n",
       "      <td>0</td>\n",
       "      <td>0</td>\n",
       "    </tr>\n",
       "    <tr>\n",
       "      <th>1</th>\n",
       "      <td>False</td>\n",
       "      <td>False</td>\n",
       "      <td>NaN</td>\n",
       "      <td>0</td>\n",
       "      <td>1</td>\n",
       "    </tr>\n",
       "    <tr>\n",
       "      <th>2</th>\n",
       "      <td>False</td>\n",
       "      <td>False</td>\n",
       "      <td>NaN</td>\n",
       "      <td>26</td>\n",
       "      <td>2</td>\n",
       "    </tr>\n",
       "    <tr>\n",
       "      <th>3</th>\n",
       "      <td>False</td>\n",
       "      <td>False</td>\n",
       "      <td>NaN</td>\n",
       "      <td>0</td>\n",
       "      <td>3</td>\n",
       "    </tr>\n",
       "    <tr>\n",
       "      <th>4</th>\n",
       "      <td>False</td>\n",
       "      <td>False</td>\n",
       "      <td>NaN</td>\n",
       "      <td>0</td>\n",
       "      <td>4</td>\n",
       "    </tr>\n",
       "    <tr>\n",
       "      <th>...</th>\n",
       "      <td>...</td>\n",
       "      <td>...</td>\n",
       "      <td>...</td>\n",
       "      <td>...</td>\n",
       "      <td>...</td>\n",
       "    </tr>\n",
       "    <tr>\n",
       "      <th>4995</th>\n",
       "      <td>False</td>\n",
       "      <td>False</td>\n",
       "      <td>NaN</td>\n",
       "      <td>0</td>\n",
       "      <td>4995</td>\n",
       "    </tr>\n",
       "    <tr>\n",
       "      <th>4996</th>\n",
       "      <td>False</td>\n",
       "      <td>False</td>\n",
       "      <td>NaN</td>\n",
       "      <td>1</td>\n",
       "      <td>4996</td>\n",
       "    </tr>\n",
       "    <tr>\n",
       "      <th>4997</th>\n",
       "      <td>False</td>\n",
       "      <td>False</td>\n",
       "      <td>NaN</td>\n",
       "      <td>0</td>\n",
       "      <td>4997</td>\n",
       "    </tr>\n",
       "    <tr>\n",
       "      <th>4998</th>\n",
       "      <td>False</td>\n",
       "      <td>False</td>\n",
       "      <td>NaN</td>\n",
       "      <td>23</td>\n",
       "      <td>4998</td>\n",
       "    </tr>\n",
       "    <tr>\n",
       "      <th>4999</th>\n",
       "      <td>False</td>\n",
       "      <td>False</td>\n",
       "      <td>NaN</td>\n",
       "      <td>1</td>\n",
       "      <td>4999</td>\n",
       "    </tr>\n",
       "  </tbody>\n",
       "</table>\n",
       "<p>5000 rows × 5 columns</p>\n",
       "</div>"
      ],
      "text/plain": [
       "      infected  symptomatic  days_before_symptoms  titer  Patient ID\n",
       "id                                                                  \n",
       "0        False        False                   NaN      0           0\n",
       "1        False        False                   NaN      0           1\n",
       "2        False        False                   NaN     26           2\n",
       "3        False        False                   NaN      0           3\n",
       "4        False        False                   NaN      0           4\n",
       "...        ...          ...                   ...    ...         ...\n",
       "4995     False        False                   NaN      0        4995\n",
       "4996     False        False                   NaN      1        4996\n",
       "4997     False        False                   NaN      0        4997\n",
       "4998     False        False                   NaN     23        4998\n",
       "4999     False        False                   NaN      1        4999\n",
       "\n",
       "[5000 rows x 5 columns]"
      ]
     },
     "execution_count": 12,
     "metadata": {},
     "output_type": "execute_result"
    }
   ],
   "source": [
    "def add_column(frame, column_name, new_list):\n",
    "    frame[column_name] = new_list\n",
    "    #  adds a new column.\n",
    "    return frame\n",
    "\n",
    "print(\"Added a column 'Patient ID' that is filled with ints:\")\n",
    "if ('Patient ID' not in covid_data.columns):\n",
    "    add_column(covid_data, 'Patient ID', list(range(len(covid_data))))\n",
    "covid_data"
   ]
  },
  {
   "cell_type": "markdown",
   "id": "65bfa9d7-6a1c-4f17-b35f-a7239db37964",
   "metadata": {
    "tags": []
   },
   "source": [
    "### Removing Columns\n",
    "\n",
    "You can remove a column from a frame using the [DataFrame.pop()](https://pandas.pydata.org/pandas-docs/stable/reference/api/pandas.DataFrame.pop.html) method.\n",
    "Just specify the column that you want to remove, and the column will be removed from the frame and returned to you.\n",
    "\n",
    "For example, if we wanted to remove the \"Surfing Score\" column from our test frame, we could do the following:"
   ]
  },
  {
   "cell_type": "code",
   "execution_count": 14,
   "id": "b06409c3-e32f-45e3-ae43-7c20c37b6589",
   "metadata": {},
   "outputs": [
    {
     "data": {
      "text/html": [
       "<div>\n",
       "<style scoped>\n",
       "    .dataframe tbody tr th:only-of-type {\n",
       "        vertical-align: middle;\n",
       "    }\n",
       "\n",
       "    .dataframe tbody tr th {\n",
       "        vertical-align: top;\n",
       "    }\n",
       "\n",
       "    .dataframe thead th {\n",
       "        text-align: right;\n",
       "    }\n",
       "</style>\n",
       "<table border=\"1\" class=\"dataframe\">\n",
       "  <thead>\n",
       "    <tr style=\"text-align: right;\">\n",
       "      <th></th>\n",
       "      <th>Name</th>\n",
       "      <th>Qualification</th>\n",
       "      <th>State</th>\n",
       "    </tr>\n",
       "  </thead>\n",
       "  <tbody>\n",
       "    <tr>\n",
       "      <th>0</th>\n",
       "      <td>Andrew</td>\n",
       "      <td>MS</td>\n",
       "      <td>California</td>\n",
       "    </tr>\n",
       "    <tr>\n",
       "      <th>1</th>\n",
       "      <td>Eriq</td>\n",
       "      <td>PhD</td>\n",
       "      <td>California</td>\n",
       "    </tr>\n",
       "    <tr>\n",
       "      <th>2</th>\n",
       "      <td>Reilly</td>\n",
       "      <td>PhD</td>\n",
       "      <td>Arizona</td>\n",
       "    </tr>\n",
       "    <tr>\n",
       "      <th>3</th>\n",
       "      <td>Michael</td>\n",
       "      <td>PhD</td>\n",
       "      <td>Oregon</td>\n",
       "    </tr>\n",
       "  </tbody>\n",
       "</table>\n",
       "</div>"
      ],
      "text/plain": [
       "      Name Qualification       State\n",
       "0   Andrew            MS  California\n",
       "1     Eriq           PhD  California\n",
       "2   Reilly           PhD     Arizona\n",
       "3  Michael           PhD      Oregon"
      ]
     },
     "execution_count": 14,
     "metadata": {},
     "output_type": "execute_result"
    }
   ],
   "source": [
    "# Drop the surfing score column.\n",
    "old_column = test_frame.pop(\"Surfing Score\")\n",
    "\n",
    "# Observe the result.\n",
    "test_frame"
   ]
  },
  {
   "cell_type": "markdown",
   "id": "61ba8b9b-5818-4250-9161-63f733a4a383",
   "metadata": {},
   "source": [
    "<h4 style=\"color: darkorange; font-size: x-large\";>★ Task 0.D</h4>\n",
    "\n",
    "Your task is to now complete the function below.\n",
    "This function takes two arguments: a frame and a column name;\n",
    "and returns the modified frame which no longer has the specified column."
   ]
  },
  {
   "cell_type": "code",
   "execution_count": 13,
   "id": "d131fd9d-fdfa-4fa4-ab3a-5cb70a438b13",
   "metadata": {},
   "outputs": [
    {
     "name": "stdout",
     "output_type": "stream",
     "text": [
      "Removed the 'Patient ID' column added in the previous cell (if it exists):\n"
     ]
    },
    {
     "data": {
      "text/html": [
       "<div>\n",
       "<style scoped>\n",
       "    .dataframe tbody tr th:only-of-type {\n",
       "        vertical-align: middle;\n",
       "    }\n",
       "\n",
       "    .dataframe tbody tr th {\n",
       "        vertical-align: top;\n",
       "    }\n",
       "\n",
       "    .dataframe thead th {\n",
       "        text-align: right;\n",
       "    }\n",
       "</style>\n",
       "<table border=\"1\" class=\"dataframe\">\n",
       "  <thead>\n",
       "    <tr style=\"text-align: right;\">\n",
       "      <th></th>\n",
       "      <th>infected</th>\n",
       "      <th>symptomatic</th>\n",
       "      <th>days_before_symptoms</th>\n",
       "      <th>titer</th>\n",
       "    </tr>\n",
       "    <tr>\n",
       "      <th>id</th>\n",
       "      <th></th>\n",
       "      <th></th>\n",
       "      <th></th>\n",
       "      <th></th>\n",
       "    </tr>\n",
       "  </thead>\n",
       "  <tbody>\n",
       "    <tr>\n",
       "      <th>0</th>\n",
       "      <td>False</td>\n",
       "      <td>False</td>\n",
       "      <td>NaN</td>\n",
       "      <td>0</td>\n",
       "    </tr>\n",
       "    <tr>\n",
       "      <th>1</th>\n",
       "      <td>False</td>\n",
       "      <td>False</td>\n",
       "      <td>NaN</td>\n",
       "      <td>0</td>\n",
       "    </tr>\n",
       "    <tr>\n",
       "      <th>2</th>\n",
       "      <td>False</td>\n",
       "      <td>False</td>\n",
       "      <td>NaN</td>\n",
       "      <td>26</td>\n",
       "    </tr>\n",
       "    <tr>\n",
       "      <th>3</th>\n",
       "      <td>False</td>\n",
       "      <td>False</td>\n",
       "      <td>NaN</td>\n",
       "      <td>0</td>\n",
       "    </tr>\n",
       "    <tr>\n",
       "      <th>4</th>\n",
       "      <td>False</td>\n",
       "      <td>False</td>\n",
       "      <td>NaN</td>\n",
       "      <td>0</td>\n",
       "    </tr>\n",
       "    <tr>\n",
       "      <th>...</th>\n",
       "      <td>...</td>\n",
       "      <td>...</td>\n",
       "      <td>...</td>\n",
       "      <td>...</td>\n",
       "    </tr>\n",
       "    <tr>\n",
       "      <th>4995</th>\n",
       "      <td>False</td>\n",
       "      <td>False</td>\n",
       "      <td>NaN</td>\n",
       "      <td>0</td>\n",
       "    </tr>\n",
       "    <tr>\n",
       "      <th>4996</th>\n",
       "      <td>False</td>\n",
       "      <td>False</td>\n",
       "      <td>NaN</td>\n",
       "      <td>1</td>\n",
       "    </tr>\n",
       "    <tr>\n",
       "      <th>4997</th>\n",
       "      <td>False</td>\n",
       "      <td>False</td>\n",
       "      <td>NaN</td>\n",
       "      <td>0</td>\n",
       "    </tr>\n",
       "    <tr>\n",
       "      <th>4998</th>\n",
       "      <td>False</td>\n",
       "      <td>False</td>\n",
       "      <td>NaN</td>\n",
       "      <td>23</td>\n",
       "    </tr>\n",
       "    <tr>\n",
       "      <th>4999</th>\n",
       "      <td>False</td>\n",
       "      <td>False</td>\n",
       "      <td>NaN</td>\n",
       "      <td>1</td>\n",
       "    </tr>\n",
       "  </tbody>\n",
       "</table>\n",
       "<p>5000 rows × 4 columns</p>\n",
       "</div>"
      ],
      "text/plain": [
       "      infected  symptomatic  days_before_symptoms  titer\n",
       "id                                                      \n",
       "0        False        False                   NaN      0\n",
       "1        False        False                   NaN      0\n",
       "2        False        False                   NaN     26\n",
       "3        False        False                   NaN      0\n",
       "4        False        False                   NaN      0\n",
       "...        ...          ...                   ...    ...\n",
       "4995     False        False                   NaN      0\n",
       "4996     False        False                   NaN      1\n",
       "4997     False        False                   NaN      0\n",
       "4998     False        False                   NaN     23\n",
       "4999     False        False                   NaN      1\n",
       "\n",
       "[5000 rows x 4 columns]"
      ]
     },
     "execution_count": 13,
     "metadata": {},
     "output_type": "execute_result"
    }
   ],
   "source": [
    "def drop_column(frame, column_name):\n",
    "    frame.pop(column_name)\n",
    "    return frame\n",
    "\n",
    "print(\"Removed the 'Patient ID' column added in the previous cell (if it exists):\")\n",
    "if ('Patient ID' in covid_data.columns):\n",
    "    drop_column(covid_data, 'Patient ID')\n",
    "covid_data"
   ]
  },
  {
   "cell_type": "markdown",
   "id": "20cac82c-ad9a-4d2d-8572-a21f28e009cf",
   "metadata": {
    "tags": []
   },
   "source": [
    "### Concatenating Frames\n",
    "\n",
    "Putting together two data frames is a pretty complex task, and there are a lot of things to consider, like:\n",
    " - What if there are some columns in one frame and not the other?\n",
    " - What if there are duplicate rows?\n",
    " - What if there are missing values?\n",
    " \n",
    "As this class progresses, you will become more equipped to handle these different situations.\n",
    "But for now, we will discuss the most simple case: adding all the rows from two or more frames into a single frame.\n",
    "To do this, we can use the [pandas.concat()](https://pandas.pydata.org/pandas-docs/stable/reference/api/pandas.concat.html) function.\n",
    "Just specify a list of the frames you want to combine as arguments.\n",
    "\n",
    "For example, the below cell creates a new frame with more test data and add it to our test frame."
   ]
  },
  {
   "cell_type": "code",
   "execution_count": 13,
   "id": "0303934d-ee5f-478c-91aa-62808ee0b14c",
   "metadata": {},
   "outputs": [
    {
     "data": {
      "text/html": [
       "<div>\n",
       "<style scoped>\n",
       "    .dataframe tbody tr th:only-of-type {\n",
       "        vertical-align: middle;\n",
       "    }\n",
       "\n",
       "    .dataframe tbody tr th {\n",
       "        vertical-align: top;\n",
       "    }\n",
       "\n",
       "    .dataframe thead th {\n",
       "        text-align: right;\n",
       "    }\n",
       "</style>\n",
       "<table border=\"1\" class=\"dataframe\">\n",
       "  <thead>\n",
       "    <tr style=\"text-align: right;\">\n",
       "      <th></th>\n",
       "      <th>Name</th>\n",
       "      <th>Qualification</th>\n",
       "      <th>State</th>\n",
       "    </tr>\n",
       "  </thead>\n",
       "  <tbody>\n",
       "    <tr>\n",
       "      <th>0</th>\n",
       "      <td>Andrew</td>\n",
       "      <td>MS</td>\n",
       "      <td>California</td>\n",
       "    </tr>\n",
       "    <tr>\n",
       "      <th>1</th>\n",
       "      <td>Eriq</td>\n",
       "      <td>PhD</td>\n",
       "      <td>California</td>\n",
       "    </tr>\n",
       "    <tr>\n",
       "      <th>2</th>\n",
       "      <td>Reilly</td>\n",
       "      <td>PhD</td>\n",
       "      <td>Arizona</td>\n",
       "    </tr>\n",
       "    <tr>\n",
       "      <th>3</th>\n",
       "      <td>Michael</td>\n",
       "      <td>PhD</td>\n",
       "      <td>Oregon</td>\n",
       "    </tr>\n",
       "    <tr>\n",
       "      <th>4</th>\n",
       "      <td>Alice</td>\n",
       "      <td>BS</td>\n",
       "      <td>Georgia</td>\n",
       "    </tr>\n",
       "    <tr>\n",
       "      <th>5</th>\n",
       "      <td>Zack</td>\n",
       "      <td>BS</td>\n",
       "      <td>Hawaii</td>\n",
       "    </tr>\n",
       "  </tbody>\n",
       "</table>\n",
       "</div>"
      ],
      "text/plain": [
       "      Name Qualification       State\n",
       "0   Andrew            MS  California\n",
       "1     Eriq           PhD  California\n",
       "2   Reilly           PhD     Arizona\n",
       "3  Michael           PhD      Oregon\n",
       "4    Alice            BS     Georgia\n",
       "5     Zack            BS      Hawaii"
      ]
     },
     "execution_count": 13,
     "metadata": {},
     "output_type": "execute_result"
    }
   ],
   "source": [
    "# Additional data that we want to add.\n",
    "additional_data = {\n",
    "    'Name': ['Alice', 'Zack'],\n",
    "    'Qualification': ['BS', 'BS'],\n",
    "    'State': [\"Georgia\", \"Hawaii\"],\n",
    "}\n",
    "additional_frame = pandas.DataFrame(additional_data)\n",
    "\n",
    "# Combine the two frames together.\n",
    "# Note that our original frame is unchanged.\n",
    "# The `ignore_index` parameter is used to keep the internal row numbers consistent\n",
    "# (try without this parameter and see how the result changes).\n",
    "new_frame = pandas.concat([test_frame, additional_frame], ignore_index = True)\n",
    "\n",
    "# Observe the result.\n",
    "new_frame"
   ]
  },
  {
   "cell_type": "markdown",
   "id": "c21bdbca-b4b1-42fc-85e1-6ac0a3e35443",
   "metadata": {
    "tags": []
   },
   "source": [
    "<h4 style=\"color: darkorange; font-size: x-large\";>★ Task 0.E</h4>\n",
    "\n",
    "Your task is to now complete the function below.\n",
    "This function takes two arguments: a frame and another frame;\n",
    "and returns a new frame that combines the two passed in frames."
   ]
  },
  {
   "cell_type": "code",
   "execution_count": 14,
   "id": "23f15b74-bf6a-464c-b3ef-cb4c72e8d48c",
   "metadata": {},
   "outputs": [
    {
     "name": "stdout",
     "output_type": "stream",
     "text": [
      "Combined one frame with only uninfected individuals and one with only infected individuals:\n"
     ]
    },
    {
     "data": {
      "text/html": [
       "<div>\n",
       "<style scoped>\n",
       "    .dataframe tbody tr th:only-of-type {\n",
       "        vertical-align: middle;\n",
       "    }\n",
       "\n",
       "    .dataframe tbody tr th {\n",
       "        vertical-align: top;\n",
       "    }\n",
       "\n",
       "    .dataframe thead th {\n",
       "        text-align: right;\n",
       "    }\n",
       "</style>\n",
       "<table border=\"1\" class=\"dataframe\">\n",
       "  <thead>\n",
       "    <tr style=\"text-align: right;\">\n",
       "      <th></th>\n",
       "      <th>infected</th>\n",
       "      <th>symptomatic</th>\n",
       "      <th>days_before_symptoms</th>\n",
       "      <th>titer</th>\n",
       "    </tr>\n",
       "  </thead>\n",
       "  <tbody>\n",
       "    <tr>\n",
       "      <th>0</th>\n",
       "      <td>False</td>\n",
       "      <td>False</td>\n",
       "      <td>NaN</td>\n",
       "      <td>0</td>\n",
       "    </tr>\n",
       "    <tr>\n",
       "      <th>1</th>\n",
       "      <td>False</td>\n",
       "      <td>False</td>\n",
       "      <td>NaN</td>\n",
       "      <td>0</td>\n",
       "    </tr>\n",
       "    <tr>\n",
       "      <th>2</th>\n",
       "      <td>False</td>\n",
       "      <td>False</td>\n",
       "      <td>NaN</td>\n",
       "      <td>26</td>\n",
       "    </tr>\n",
       "    <tr>\n",
       "      <th>3</th>\n",
       "      <td>False</td>\n",
       "      <td>False</td>\n",
       "      <td>NaN</td>\n",
       "      <td>0</td>\n",
       "    </tr>\n",
       "    <tr>\n",
       "      <th>4</th>\n",
       "      <td>False</td>\n",
       "      <td>False</td>\n",
       "      <td>NaN</td>\n",
       "      <td>0</td>\n",
       "    </tr>\n",
       "    <tr>\n",
       "      <th>...</th>\n",
       "      <td>...</td>\n",
       "      <td>...</td>\n",
       "      <td>...</td>\n",
       "      <td>...</td>\n",
       "    </tr>\n",
       "    <tr>\n",
       "      <th>4995</th>\n",
       "      <td>True</td>\n",
       "      <td>False</td>\n",
       "      <td>NaN</td>\n",
       "      <td>11</td>\n",
       "    </tr>\n",
       "    <tr>\n",
       "      <th>4996</th>\n",
       "      <td>True</td>\n",
       "      <td>False</td>\n",
       "      <td>NaN</td>\n",
       "      <td>31</td>\n",
       "    </tr>\n",
       "    <tr>\n",
       "      <th>4997</th>\n",
       "      <td>True</td>\n",
       "      <td>False</td>\n",
       "      <td>NaN</td>\n",
       "      <td>1</td>\n",
       "    </tr>\n",
       "    <tr>\n",
       "      <th>4998</th>\n",
       "      <td>True</td>\n",
       "      <td>False</td>\n",
       "      <td>NaN</td>\n",
       "      <td>9</td>\n",
       "    </tr>\n",
       "    <tr>\n",
       "      <th>4999</th>\n",
       "      <td>True</td>\n",
       "      <td>True</td>\n",
       "      <td>6.0</td>\n",
       "      <td>23</td>\n",
       "    </tr>\n",
       "  </tbody>\n",
       "</table>\n",
       "<p>5000 rows × 4 columns</p>\n",
       "</div>"
      ],
      "text/plain": [
       "      infected  symptomatic  days_before_symptoms  titer\n",
       "0        False        False                   NaN      0\n",
       "1        False        False                   NaN      0\n",
       "2        False        False                   NaN     26\n",
       "3        False        False                   NaN      0\n",
       "4        False        False                   NaN      0\n",
       "...        ...          ...                   ...    ...\n",
       "4995      True        False                   NaN     11\n",
       "4996      True        False                   NaN     31\n",
       "4997      True        False                   NaN      1\n",
       "4998      True        False                   NaN      9\n",
       "4999      True         True                   6.0     23\n",
       "\n",
       "[5000 rows x 4 columns]"
      ]
     },
     "execution_count": 14,
     "metadata": {},
     "output_type": "execute_result"
    }
   ],
   "source": [
    "def concat_frames(frame1, frame2):\n",
    "    return pandas.concat([frame1, frame2], ignore_index = True)\n",
    "\n",
    "print(\"Combined one frame with only uninfected individuals and one with only infected individuals:\")\n",
    "new_frame = concat_frames(covid_data[~covid_data['infected']], covid_data[covid_data['infected']])\n",
    "new_frame"
   ]
  },
  {
   "cell_type": "markdown",
   "id": "a7976340-acfd-4ec4-820c-0edd66ff018d",
   "metadata": {},
   "source": [
    "### Iterating Over Rows\n",
    "\n",
    "You can do a lot in Pandas just by using their builtin functions.\n",
    "But sometimes, you just need to get the raw data and work with it yourself.\n",
    "In these cases, it can be useful to iterate over each row in a frame.\n",
    "\n",
    "Like with many things in Pandas, there are many different ways to iterate over rows.\n",
    "We recommend either using [DataFrame.index](https://pandas.pydata.org/pandas-docs/stable/reference/api/pandas.DataFrame.index.html) to get the index for each row,\n",
    "or [DataFrame.iterrows](https://pandas.pydata.org/pandas-docs/stable/reference/api/pandas.DataFrame.iterrows.html) to get each row."
   ]
  },
  {
   "cell_type": "code",
   "execution_count": 15,
   "id": "a79d1ec8-74fc-4286-a651-325e8aaa557e",
   "metadata": {},
   "outputs": [
    {
     "name": "stdout",
     "output_type": "stream",
     "text": [
      "Special Row Index:  852\n",
      "Special Row Index:  1420\n",
      "---\n",
      "Special Row Index:  852\n",
      "Full Row:\n",
      "infected                 True\n",
      "symptomatic             False\n",
      "days_before_symptoms      NaN\n",
      "titer                      45\n",
      "Name: 852, dtype: object\n",
      "###\n",
      "Special Row Index:  1420\n",
      "Full Row:\n",
      "infected                 True\n",
      "symptomatic             False\n",
      "days_before_symptoms      NaN\n",
      "titer                      45\n",
      "Name: 1420, dtype: object\n",
      "###\n"
     ]
    }
   ],
   "source": [
    "# Get each index and use that to index into each row.\n",
    "# Note that the column, not row is indexed first.\n",
    "for index in covid_data.index:\n",
    "    if ((not covid_data['symptomatic'][index]) and (covid_data['titer'][index] > 44)):\n",
    "        print(\"Special Row Index: \", index)\n",
    "\n",
    "print('---')\n",
    "\n",
    "# Get each index and each row.\n",
    "for (index, row) in covid_data.iterrows():\n",
    "    if ((not row['symptomatic']) and (row['titer'] > 44)):\n",
    "        print(\"Special Row Index: \", index)\n",
    "        print(\"Full Row:\")\n",
    "        print(row)\n",
    "        print('###')"
   ]
  },
  {
   "cell_type": "markdown",
   "id": "48c5c4b7-7574-4995-9d27-71670af2e4d9",
   "metadata": {},
   "source": [
    "### Useful Functions\n",
    "\n",
    "The DataFrame class has **MANY** [methods associated with it](https://pandas.pydata.org/pandas-docs/stable/reference/api/pandas.DataFrame.html).\n",
    "Throughout this course, make sure to consult the documentation before implementing new functionality.\n",
    "\n",
    "Below are a few methods that you may find useful in this and future assignments:\n",
    " - Number of Rows -- You can use the builtin function `len()` on a frame the same way that you can use it on a list or dict.\n",
    "     You can also use [DataFrame.count()](https://pandas.pydata.org/pandas-docs/stable/reference/api/pandas.DataFrame.count.html).\n",
    " - Column Names -- You can get the available column names using [DataFrame.columns](https://pandas.pydata.org/docs/reference/api/pandas.DataFrame.columns.html).\n",
    " - Basic Frame Info -- [DataFrame.info()](https://pandas.pydata.org/pandas-docs/stable/reference/api/pandas.DataFrame.info.html) can be used to output basic information about the structure of the frame.\n",
    " - Numeric Aggregates -- The DataFrame class has\n",
    "     [sum()](https://pandas.pydata.org/pandas-docs/stable/reference/api/pandas.DataFrame.sum.html),\n",
    "     [min()](https://pandas.pydata.org/pandas-docs/stable/reference/api/pandas.DataFrame.min.html),\n",
    "     [max()](https://pandas.pydata.org/pandas-docs/stable/reference/api/pandas.DataFrame.max.html),\n",
    "     [median()](https://pandas.pydata.org/pandas-docs/stable/reference/api/pandas.DataFrame.median.html),\n",
    "     and [mean()](https://pandas.pydata.org/pandas-docs/stable/reference/api/pandas.DataFrame.mean.html) methods.\n",
    "     [DataFrame.describe()](https://pandas.pydata.org/pandas-docs/stable/reference/api/pandas.DataFrame.describe.html)\n",
    "     can be used to get most of these stats on all **numeric** columns in a frame.\n",
    " - Plotting Functions -- The DataFrame class has premade methods for plotting (using [matplotlib](https://matplotlib.org/)).\n",
    "     For example, [DataFrame.hist()](https://pandas.pydata.org/pandas-docs/stable/reference/api/pandas.DataFrame.hist.html) can be used to make a histogram\n",
    "     and [DataFrame.plot.scatter()](https://pandas.pydata.org/pandas-docs/stable/reference/api/pandas.DataFrame.plot.scatter.html) can be used to make a scatter plot.\n",
    "     These methods are not as full-features as using matplotlib directly, but they can give you a fast and simple way to visualize a frame.\n",
    "     For more information, see [this reference](https://pandas.pydata.org/pandas-docs/stable/user_guide/visualization.html).\n",
    "\n",
    "Below are some examples of these functions in use."
   ]
  },
  {
   "cell_type": "code",
   "execution_count": 16,
   "id": "15a67342-da9b-40c1-bf23-28b4ab39fa33",
   "metadata": {},
   "outputs": [
    {
     "name": "stdout",
     "output_type": "stream",
     "text": [
      "Number of rows:  5000\n",
      "Number of selected rows:  17\n"
     ]
    }
   ],
   "source": [
    "# Get the number of rows in the frame.\n",
    "print(\"Number of rows: \", len(covid_data))\n",
    "\n",
    "# Get the number of rows we selected.\n",
    "print(\"Number of selected rows: \", len(covid_data[covid_data['titer'] == 32]))"
   ]
  },
  {
   "cell_type": "code",
   "execution_count": 17,
   "id": "bb314287-6ccc-4fe8-b4ef-5cfbbcb4d770",
   "metadata": {},
   "outputs": [
    {
     "name": "stdout",
     "output_type": "stream",
     "text": [
      "Index(['infected', 'symptomatic', 'days_before_symptoms', 'titer'], dtype='object')\n",
      "['infected', 'symptomatic', 'days_before_symptoms', 'titer']\n"
     ]
    }
   ],
   "source": [
    "# Get the column names.\n",
    "print(covid_data.columns)\n",
    "\n",
    "# Iterate over the column names as strings.\n",
    "print([column_name for column_name in covid_data.columns])"
   ]
  },
  {
   "cell_type": "code",
   "execution_count": 18,
   "id": "07995af1-f124-4280-807f-ac55983e56f0",
   "metadata": {},
   "outputs": [
    {
     "name": "stdout",
     "output_type": "stream",
     "text": [
      "<class 'pandas.core.frame.DataFrame'>\n",
      "Index: 5000 entries, 0 to 4999\n",
      "Data columns (total 4 columns):\n",
      " #   Column                Non-Null Count  Dtype  \n",
      "---  ------                --------------  -----  \n",
      " 0   infected              5000 non-null   bool   \n",
      " 1   symptomatic           5000 non-null   bool   \n",
      " 2   days_before_symptoms  138 non-null    float64\n",
      " 3   titer                 5000 non-null   int64  \n",
      "dtypes: bool(2), float64(1), int64(1)\n",
      "memory usage: 256.0 KB\n"
     ]
    }
   ],
   "source": [
    "# Get basic information about the frame.\n",
    "covid_data.info()"
   ]
  },
  {
   "cell_type": "code",
   "execution_count": 19,
   "id": "ddf765e6-35bb-4ddf-a051-09c701fa3b8b",
   "metadata": {},
   "outputs": [
    {
     "name": "stdout",
     "output_type": "stream",
     "text": [
      "Average days before symptoms:  5.405797101449275\n",
      "Type of result when aggregating a full DataFrame:  <class 'pandas.core.series.Series'>\n"
     ]
    },
    {
     "data": {
      "text/plain": [
       "infected                0.051000\n",
       "symptomatic             0.027600\n",
       "days_before_symptoms    5.405797\n",
       "titer                   3.214800\n",
       "dtype: float64"
      ]
     },
     "execution_count": 19,
     "metadata": {},
     "output_type": "execute_result"
    }
   ],
   "source": [
    "# Aggregate over a single column.\n",
    "print(\"Average days before symptoms: \", covid_data['days_before_symptoms'].mean())\n",
    "\n",
    "# When called on a full frame, the aggregate is applied to each column.\n",
    "# Note that non-numeric columns are converted to numeric values for aggregation\n",
    "# (e.g. False -> 0.0 and True -> 1.0).\n",
    "frame_aggregate = covid_data.mean()\n",
    "print(\"Type of result when aggregating a full DataFrame: \", type(frame_aggregate))\n",
    "frame_aggregate"
   ]
  },
  {
   "cell_type": "code",
   "execution_count": 20,
   "id": "b5cd4785-bfa0-4ce8-b897-7eb0645664fa",
   "metadata": {},
   "outputs": [
    {
     "data": {
      "text/html": [
       "<div>\n",
       "<style scoped>\n",
       "    .dataframe tbody tr th:only-of-type {\n",
       "        vertical-align: middle;\n",
       "    }\n",
       "\n",
       "    .dataframe tbody tr th {\n",
       "        vertical-align: top;\n",
       "    }\n",
       "\n",
       "    .dataframe thead th {\n",
       "        text-align: right;\n",
       "    }\n",
       "</style>\n",
       "<table border=\"1\" class=\"dataframe\">\n",
       "  <thead>\n",
       "    <tr style=\"text-align: right;\">\n",
       "      <th></th>\n",
       "      <th>days_before_symptoms</th>\n",
       "      <th>titer</th>\n",
       "    </tr>\n",
       "  </thead>\n",
       "  <tbody>\n",
       "    <tr>\n",
       "      <th>count</th>\n",
       "      <td>138.000000</td>\n",
       "      <td>5000.00000</td>\n",
       "    </tr>\n",
       "    <tr>\n",
       "      <th>mean</th>\n",
       "      <td>5.405797</td>\n",
       "      <td>3.21480</td>\n",
       "    </tr>\n",
       "    <tr>\n",
       "      <th>std</th>\n",
       "      <td>3.877010</td>\n",
       "      <td>8.30552</td>\n",
       "    </tr>\n",
       "    <tr>\n",
       "      <th>min</th>\n",
       "      <td>0.000000</td>\n",
       "      <td>0.00000</td>\n",
       "    </tr>\n",
       "    <tr>\n",
       "      <th>25%</th>\n",
       "      <td>2.000000</td>\n",
       "      <td>0.00000</td>\n",
       "    </tr>\n",
       "    <tr>\n",
       "      <th>50%</th>\n",
       "      <td>5.000000</td>\n",
       "      <td>0.00000</td>\n",
       "    </tr>\n",
       "    <tr>\n",
       "      <th>75%</th>\n",
       "      <td>9.000000</td>\n",
       "      <td>1.00000</td>\n",
       "    </tr>\n",
       "    <tr>\n",
       "      <th>max</th>\n",
       "      <td>13.000000</td>\n",
       "      <td>45.00000</td>\n",
       "    </tr>\n",
       "  </tbody>\n",
       "</table>\n",
       "</div>"
      ],
      "text/plain": [
       "       days_before_symptoms       titer\n",
       "count            138.000000  5000.00000\n",
       "mean               5.405797     3.21480\n",
       "std                3.877010     8.30552\n",
       "min                0.000000     0.00000\n",
       "25%                2.000000     0.00000\n",
       "50%                5.000000     0.00000\n",
       "75%                9.000000     1.00000\n",
       "max               13.000000    45.00000"
      ]
     },
     "execution_count": 20,
     "metadata": {},
     "output_type": "execute_result"
    }
   ],
   "source": [
    "# Get aggregate information about numeric columns.\n",
    "covid_data.describe()"
   ]
  },
  {
   "cell_type": "code",
   "execution_count": 21,
   "id": "bba366e8-d22f-418e-9234-3cfe60aa07e6",
   "metadata": {},
   "outputs": [
    {
     "data": {
      "text/plain": [
       "array([[<Axes: title={'center': 'days_before_symptoms'}>,\n",
       "        <Axes: title={'center': 'titer'}>]], dtype=object)"
      ]
     },
     "execution_count": 21,
     "metadata": {},
     "output_type": "execute_result"
    },
    {
     "data": {
      "image/png": "[encoded data removed]",
      "text/plain": [
       "<Figure size 640x480 with 2 Axes>"
      ]
     },
     "metadata": {},
     "output_type": "display_data"
    }
   ],
   "source": [
    "# Display a histogram of values for different columns in a frame.\n",
    "# Note that only numeric columns are shown be default.\n",
    "covid_data.hist()"
   ]
  },
  {
   "cell_type": "code",
   "execution_count": 22,
   "id": "43b6dd97-0e08-4acb-bcd2-46abe8a30785",
   "metadata": {},
   "outputs": [
    {
     "data": {
      "text/plain": [
       "<Axes: >"
      ]
     },
     "execution_count": 22,
     "metadata": {},
     "output_type": "execute_result"
    },
    {
     "data": {
      "image/png": "[encoded data removed]",
      "text/plain": [
       "<Figure size 640x480 with 1 Axes>"
      ]
     },
     "metadata": {},
     "output_type": "display_data"
    }
   ],
   "source": [
    "# You can also select just the rows and column you want to see.\n",
    "# Here we first select just the rows with (titer = 32),\n",
    "# then we take just the 'days_before_symptoms' column and turn it into a histogram.\n",
    "covid_data[covid_data['titer'] == 32]['days_before_symptoms'].hist()"
   ]
  },
  {
   "cell_type": "markdown",
   "id": "0551ccee-96ec-4ae8-b806-ad82cbf503b2",
   "metadata": {},
   "source": [
    "---\n",
    "\n",
    "## Part 1: Data Iteration\n",
    "\n",
    "By its nature, data is a collection of information.\n",
    "So as an aspiring data scientist / machine learner, you will be spending a lot of time going through that collection of data.\n",
    "Sometimes we will have nice functions to go through the data for us, like\n",
    "[DataFrame.info()](https://pandas.pydata.org/pandas-docs/stable/reference/api/pandas.DataFrame.info.html)\n",
    "and [DataFrame.describe()](https://pandas.pydata.org/pandas-docs/stable/reference/api/pandas.DataFrame.describe.html).\n",
    "But, many times we will need to go through (or \"iterate\") the data ourselves.\n",
    "\n",
    "Since iteration is such a key part of working with data,\n",
    "we will take a quick detour here to practice iteration through different types of data structures.\n",
    "\n",
    "### Side Note on Math Ranges\n",
    "\n",
    "In this class (and throughout your life), you will often see people write out ranges of numbers (also called \"intervals\") using square brackets and parenthesis.\n",
    "Sometimes people will even use both in the same range!\n",
    "This is not a mistake, the square brackets and parenthesis actually mean different things.\n",
    "Square brackets means that this end of the range is **inclusive** (or \"closed\"), so the adjacent number is included in the range.\n",
    "Whereas parenthesis means that this end of the range is **exclusive** (or \"open\"), so the adjacent number is not included in the range.\n",
    "\n",
    "For example:\n",
    " - \\[0, 3\\] == {0, 1, 2, 3}\n",
    " - (0, 3) == {1, 2}\n",
    " - \\[0, 3) == {0, 1, 2}\n",
    " - (0, 3\\] == {1, 2, 3}\n",
    "\n",
    "### Native Python Iteration\n",
    "\n",
    "As with every (Turing-complete) programming language,\n",
    "Python comes with the ability to iterate/loop over data.\n",
    "This section will focus specifically on looping over different data structures,\n",
    "for a general tutorial on loops in Python, see [this guide](https://www.learnpython.org/en/Loops).\n",
    "\n",
    "The most common type of loop in Python is the **for** loop.\n",
    "Python's for loop is technically a [foreach loop](https://en.wikipedia.org/wiki/Foreach_loop).\n",
    "This means that the loops takes as an argument some [iterator](https://en.wikipedia.org/wiki/Iterator),\n",
    "and keeps looping until the iterator is exhausted/empty.\n",
    "(An iterator is just some objects that provides access to a sequence of other objects,\n",
    "like how a list can provide access to its contents.)\n",
    "\n",
    "The main two flavors of for loops you will see in Python are ones that go over a list of numbers using `range()`,\n",
    "sometimes called \"for-range\" loops,\n",
    "and those that go through a collection of items like a list or dict, called \"foreach loops\".\n",
    "\n",
    "Let's start by looking at `range()` below."
   ]
  },
  {
   "cell_type": "code",
   "execution_count": 23,
   "id": "68e96e54-7e0b-4f00-9546-9c256a5c3372",
   "metadata": {},
   "outputs": [
    {
     "name": "stdout",
     "output_type": "stream",
     "text": [
      "Iterate through a range of numbers: [0, 10).\n",
      "0, 1, 2, 3, 4, 5, 6, 7, 8, 9, \n",
      "---\n",
      "Iterate through a range of numbers: [10, 20).\n",
      "10, 11, 12, 13, 14, 15, 16, 17, 18, 19, \n",
      "---\n",
      "Iterate through a range of numbers, but increment by 2 every time: [10, 20).\n",
      "10, 12, 14, 16, 18, \n",
      "---\n",
      "My Range:  range(0, 5)\n",
      "My List:   [0, 1, 2, 3, 4]\n",
      "Are my range and list equal?:  False\n",
      "Are my range and list equal after casting?:  True\n",
      "My Range (casted):  [0, 1, 2, 3, 4]\n",
      "---\n",
      "Index: 0, Element: 'a'.\n",
      "Index: 1, Element: 'b'.\n",
      "Index: 2, Element: 'c'.\n"
     ]
    }
   ],
   "source": [
    "# Iterations using range().\n",
    "\n",
    "print(\"Iterate through a range of numbers: [0, 10).\")\n",
    "for i in range(10):\n",
    "    # Note that we are using `end = ', '` so that our numbers get printed on one line.\n",
    "    print(i, end = ', ')\n",
    "print(\"\\n---\")\n",
    "\n",
    "print(\"Iterate through a range of numbers: [10, 20).\")\n",
    "for i in range(10, 20):\n",
    "    print(i, end = ', ')\n",
    "print(\"\\n---\")\n",
    "\n",
    "print(\"Iterate through a range of numbers, but increment by 2 every time: [10, 20).\")\n",
    "for i in range(10, 20, 2):\n",
    "    print(i, end = ', ')\n",
    "print(\"\\n---\")\n",
    "\n",
    "# Note that a range() is not a list, but can be converted to one.\n",
    "my_range = range(0, 5)\n",
    "my_list = [0, 1, 2, 3, 4]\n",
    "\n",
    "print(\"My Range: \", my_range)\n",
    "print(\"My List:  \", my_list)\n",
    "\n",
    "print(\"Are my range and list equal?: \", my_range == my_list)\n",
    "print(\"Are my range and list equal after casting?: \", list(my_range) == my_list)\n",
    "\n",
    "print(\"My Range (casted): \", list(my_range))\n",
    "\n",
    "print(\"---\")\n",
    "\n",
    "# We can use range() together with len() to iterate through a list.\n",
    "my_list = ['a', 'b', 'c']\n",
    "\n",
    "for i in range(len(my_list)):\n",
    "    print(\"Index: %d, Element: '%s'.\" % (i, my_list[i]))"
   ]
  },
  {
   "cell_type": "markdown",
   "id": "9e64a2a0-6264-4395-b4e8-91ef3b22a070",
   "metadata": {},
   "source": [
    "In addition to using range, we can use a list directly in a loop to iterate over its contents."
   ]
  },
  {
   "cell_type": "code",
   "execution_count": 24,
   "id": "09bc5bca-3171-4926-8a7a-62ea5227130b",
   "metadata": {},
   "outputs": [
    {
     "name": "stdout",
     "output_type": "stream",
     "text": [
      "Iterate through a standard list of strings.\n",
      "a, b, c, \n",
      "---\n",
      "Iterate through a list with a bunch of different types.\n",
      "a, 1, 2.3, None, {}, ['b'], \n",
      "---\n",
      "Iterate through an empty list.\n",
      "\n",
      "---\n",
      "Iterate through a list we defined right at the loop.\n",
      "7, 8, 9, \n",
      "---\n"
     ]
    }
   ],
   "source": [
    "# Iterate over a normal list of strings.\n",
    "print(\"Iterate through a standard list of strings.\")\n",
    "my_list = ['a', 'b', 'c']\n",
    "for item in my_list:\n",
    "    print(item, end = ', ')\n",
    "print(\"\\n---\")\n",
    "\n",
    "# The contents of the list do not matter.\n",
    "print(\"Iterate through a list with a bunch of different types.\")\n",
    "my_list = ['a', 1, 2.3, None, {}, ['b']]\n",
    "for item in my_list:\n",
    "    print(item, end = ', ')\n",
    "print(\"\\n---\")\n",
    "\n",
    "# Empty lists will not cause any issues (nothing will get printed).\n",
    "print(\"Iterate through an empty list.\")\n",
    "my_list = []\n",
    "for item in my_list:\n",
    "    print(item, end = ', ')\n",
    "print(\"\\n---\")\n",
    "\n",
    "# We can make the list right in the loop.\n",
    "print(\"Iterate through a list we defined right at the loop.\")\n",
    "for item in [7, 8, 9]:\n",
    "    print(item, end = ', ')\n",
    "print(\"\\n---\")"
   ]
  },
  {
   "cell_type": "markdown",
   "id": "607bcfce-8e04-4d8e-add7-f61d069ab4e1",
   "metadata": {},
   "source": [
    "Lists are easy, but what if we want to iterate over dicts instead of lists?\n",
    "\n",
    "We can use the same for loop to iterate over a dict,\n",
    "**BUT** we will get the keys of the dict (not the values).\n",
    "Be very careful about this!\n",
    "It is a big source of bugs for junior Python developers.\n",
    "\n",
    "To choose exactly what you get when iterating over a dict,\n",
    "you can use the following methods:\n",
    " - `dict.keys()` -- Get the keys for a dict.\n",
    " - `dict.values()` -- Get the values for a dict.\n",
    " - `dict.items()` -- Get key/value pairs as tuples. This is the recommended way."
   ]
  },
  {
   "cell_type": "code",
   "execution_count": 25,
   "id": "4f9497c3-694a-4f90-a263-59b9a3a59b40",
   "metadata": {},
   "outputs": [
    {
     "name": "stdout",
     "output_type": "stream",
     "text": [
      "Iterate over the keys implicitly, by not using any specific method.\n",
      "a, b, c, \n",
      "---\n",
      "Iterate over the keys explicitly, using the keys() method.\n",
      "a, b, c, \n",
      "---\n",
      "Iterate over the values explicitly, using the values() method.\n",
      "1, 2, 3, \n",
      "---\n",
      "Iterate over the key/value pairs explicitly, using the items() method.\n",
      "('a', 1), ('b', 2), ('c', 3), \n",
      "---\n",
      "Iterate over the key/value pairs explicitly, but unpack the pair.\n",
      "{Key: 'a', Value: 1}, {Key: 'b', Value: 2}, {Key: 'c', Value: 3}, \n",
      "---\n"
     ]
    }
   ],
   "source": [
    "my_dict = {'a': 1, 'b': 2, 'c': 3}\n",
    "\n",
    "# Be careful when doing this!\n",
    "print(\"Iterate over the keys implicitly, by not using any specific method.\")\n",
    "for key in my_dict:\n",
    "    print(key, end = ', ')\n",
    "print(\"\\n---\")\n",
    "\n",
    "print(\"Iterate over the keys explicitly, using the keys() method.\")\n",
    "for key in my_dict.keys():\n",
    "    print(key, end = ', ')\n",
    "print(\"\\n---\")\n",
    "\n",
    "print(\"Iterate over the values explicitly, using the values() method.\")\n",
    "for value in my_dict.values():\n",
    "    print(value, end = ', ')\n",
    "print(\"\\n---\")\n",
    "\n",
    "print(\"Iterate over the key/value pairs explicitly, using the items() method.\")\n",
    "for pair in my_dict.items():\n",
    "    print(pair, end = ', ')\n",
    "print(\"\\n---\")\n",
    "\n",
    "# Here we can use something called \"unpacking\"\n",
    "# to put the key and value into their own variables.\n",
    "# The parenthesis are not required, but can make unpacking more clear.\n",
    "print(\"Iterate over the key/value pairs explicitly, but unpack the pair.\")\n",
    "for (key, value) in my_dict.items():\n",
    "    print(\"{Key: '%s', Value: %d}\" % (key, value), end = ', ')\n",
    "print(\"\\n---\")"
   ]
  },
  {
   "cell_type": "markdown",
   "id": "e1ee4b7e-8710-4f61-b66a-4d4567c9db30",
   "metadata": {},
   "source": [
    "In addition to for loops,\n",
    "Python also has while loops.\n",
    "While loops will continue looping while its condition (called a \"guard\") is true.\n",
    "While loops can be useful in more general cases."
   ]
  },
  {
   "cell_type": "code",
   "execution_count": 26,
   "id": "1307a43d-accc-458f-b26d-a906679797b7",
   "metadata": {},
   "outputs": [
    {
     "name": "stdout",
     "output_type": "stream",
     "text": [
      "0, 1, 2, 3, 4, 5, 6, 7, 8, 9, \n",
      "---\n",
      "0, \n",
      "---\n"
     ]
    }
   ],
   "source": [
    "# Loop until the count gets to 10.\n",
    "count = 0\n",
    "while (count < 10):\n",
    "    print(count, end = ', ')\n",
    "    count += 1\n",
    "print(\"\\n---\")\n",
    "\n",
    "# Loop forever! (or until we explicitly break).\n",
    "count = 0\n",
    "while (True):\n",
    "    print(count, end = ', ')\n",
    "    count += 1\n",
    "\n",
    "    # There is a 1/10 chance of breaking the loop.\n",
    "    if (random.randrange(0, 10) == 0):\n",
    "        break\n",
    "print(\"\\n---\")"
   ]
  },
  {
   "cell_type": "markdown",
   "id": "81cc768b-e85e-4dab-b3bb-98ac19a73c2b",
   "metadata": {},
   "source": [
    "<h4 style=\"color: darkorange; font-size: x-large\";>★ Task 1.A</h4>\n",
    "\n",
    "Your task is to complete the function below: `collection_to_dict()`.\n",
    "This function takes in collection that is **either** a `list` or a `dict`;\n",
    "and returns a dict where\n",
    "the keys are the value in the collection.\n",
    "and the values are the index that corresponds to each value into the collection.\n",
    "So for a dict you are \"inverting\" it (swapping the keys and values),\n",
    "and for a list the values should be the integer indexes."
   ]
  },
  {
   "cell_type": "code",
   "execution_count": 27,
   "id": "e138d030-23e5-4d83-9092-2e6332286f53",
   "metadata": {},
   "outputs": [
    {
     "name": "stdout",
     "output_type": "stream",
     "text": [
      "Does the expected result match your result (for a simple list)?:  True\n",
      "{'a': 0, 'b': 1, 'c': 2}\n",
      "Does the expected result match your result (for a simple dict)?:  True\n"
     ]
    }
   ],
   "source": [
    "def collection_to_inverted_dict(collection):\n",
    "    if isinstance(collection, dict):\n",
    "        inverted_dict = dict()\n",
    "        for c in collection.keys():\n",
    "            inverted_dict[collection.get(c)] = c\n",
    "        return inverted_dict\n",
    "    elif isinstance(collection, list):\n",
    "        iter_value = 0\n",
    "        inverted_list = dict()\n",
    "        for list_item in collection:\n",
    "            inverted_list[list_item] = iter_value\n",
    "            iter_value += 1\n",
    "        return inverted_list\n",
    "\n",
    "# Try with a simple list.\n",
    "my_list = ['a', 'b', 'c']\n",
    "expected = {\n",
    "    'a': 0,\n",
    "    'b': 1,\n",
    "    'c': 2,\n",
    "}\n",
    "actual = collection_to_inverted_dict(my_list)\n",
    "print(\"Does the expected result match your result (for a simple list)?: \", (expected == actual))\n",
    "\n",
    "# Try with a simple dict.\n",
    "my_dict = {0: 'a', 1: 'b', 2: 'c'}\n",
    "expected = {\n",
    "    'a': 0,\n",
    "    'b': 1,\n",
    "    'c': 2,\n",
    "}\n",
    "actual = collection_to_inverted_dict(my_dict)\n",
    "print(actual)\n",
    "print(\"Does the expected result match your result (for a simple dict)?: \", (expected == actual))"
   ]
  },
  {
   "cell_type": "markdown",
   "id": "11fbba99-291d-48bc-8b70-c5413866a342",
   "metadata": {},
   "source": [
    "### NumPy ndarrays\n",
    "\n",
    "[NumPy](https://numpy.org/) is a scientific computing package for Python that is ubiquitous in the data science / machine learning community.\n",
    "The most commonly used feature of NumPy is its [ndarray](https://numpy.org/doc/stable/reference/generated/numpy.ndarray.html)\n",
    "(N-dimensional array).\n",
    "Which is an array that can exist in more than one dimension.\n",
    "In 1-dimension an ndarray is like a list,\n",
    "in 2-dimensions an ndarray is like a grid,\n",
    "in 3-dimensions an ndarray is like a cube,\n",
    "and in 4-dimensions and up an ndarray is like a hypercube.\n",
    "You can use the `shape` attribute to see the dimensions of an ndarray.\n",
    "\n",
    "We will use ndarrays later in this course, but for this assignment we just need to know how to iterate over the values in an ndarray.\n",
    "There are [several ways to iterate over ndarrays](https://numpy.org/doc/stable/reference/arrays.nditer.html),\n",
    "but thankfully we can also iterate over them just like we do with normal Python lists."
   ]
  },
  {
   "cell_type": "code",
   "execution_count": 28,
   "id": "1859517d-0eea-4982-8fef-f3d2897baa99",
   "metadata": {},
   "outputs": [
    {
     "name": "stdout",
     "output_type": "stream",
     "text": [
      "1-d array:  [1 2 3 4 5 6]\n",
      "Shape of array:  (6,)\n",
      "Length of array:  6\n",
      "Iterate over 1-d array with for-range.\n",
      "1, 2, 3, 4, 5, 6, \n",
      "Iterate over 1-d array with foreach.\n",
      "1, 2, 3, 4, 5, 6, \n",
      "\n",
      "---\n",
      "\n",
      "2-d array: \n",
      "[[1 2 3]\n",
      " [4 5 6]]\n",
      "Shape of array:  (2, 3)\n",
      "Length of array:  2\n",
      "Iterate over 2-d array with foreach.\n",
      "1, 2, 3, 4, 5, 6, \n"
     ]
    }
   ],
   "source": [
    "# Make a 1-d array (just like a list).\n",
    "my_array = numpy.array([1, 2, 3, 4, 5, 6])\n",
    "\n",
    "print('1-d array: ', my_array)\n",
    "print('Shape of array: ', my_array.shape)\n",
    "\n",
    "# Note that len() only gives the length of the first dimension of the array.\n",
    "# For a 1-d array, this is all the items.\n",
    "print('Length of array: ', len(my_array))\n",
    "\n",
    "# We can iterate using both a foreach and for-range.\n",
    "\n",
    "# for-range\n",
    "print(\"Iterate over 1-d array with for-range.\")\n",
    "for i in range(len(my_array)):\n",
    "    print(my_array[i], end = ', ')\n",
    "print('')\n",
    "\n",
    "# foreach\n",
    "print(\"Iterate over 1-d array with foreach.\")\n",
    "for value in my_array:\n",
    "    print(value, end = ', ')\n",
    "print('')\n",
    "\n",
    "print(\"\\n---\\n\")\n",
    "\n",
    "# Now make a 2-d array (like a grid).\n",
    "my_array = numpy.array([[1, 2, 3], [4, 5, 6]])\n",
    "\n",
    "print('2-d array: ')\n",
    "print(my_array)\n",
    "print('Shape of array: ', my_array.shape)\n",
    "\n",
    "# Note that len() only gives the length of the first dimension of the array.\n",
    "# For a 2-d array, this is the number of rows.\n",
    "print('Length of array: ', len(my_array))\n",
    "\n",
    "# Note that when we iterate over a 2-d ndarray,\n",
    "# each element returned will be row (1-d  ndarray).\n",
    "print(\"Iterate over 2-d array with foreach.\")\n",
    "for row in my_array:\n",
    "    for value in row:\n",
    "        print(value, end = ', ')\n",
    "print('')"
   ]
  },
  {
   "cell_type": "markdown",
   "id": "6dedb9ad-7a48-47db-82d2-197d5be94e29",
   "metadata": {},
   "source": [
    "<h4 style=\"color: darkorange; font-size: x-large\";>★ Task 1.B</h4>\n",
    "\n",
    "Your task is to complete the function below: `ndarray_to_dict()`.\n",
    "This function takes in a single 2-dimensional ndarray;\n",
    "and returns a dict where the keys are a pair of indexes (row, column),\n",
    "and the values are the value in the array at that location."
   ]
  },
  {
   "cell_type": "code",
   "execution_count": 29,
   "id": "52d822df-b1ee-446a-8a12-9b45faca7eb6",
   "metadata": {},
   "outputs": [
    {
     "name": "stdout",
     "output_type": "stream",
     "text": [
      "Does the expected result match your result?:  True\n",
      "the actual is {(0, 0): 'a', (0, 1): 'b', (1, 0): 'c', (1, 1): 'd'}\n"
     ]
    },
    {
     "data": {
      "text/plain": [
       "{(0, 0): 'a', (0, 1): 'b', (0, 2): 'c', (1, 0): 'd', (1, 1): 'e', (1, 2): 'f'}"
      ]
     },
     "execution_count": 29,
     "metadata": {},
     "output_type": "execute_result"
    }
   ],
   "source": [
    "def ndarray_to_dict(array):\n",
    "    # array is a 2d array. Iterate through all subarrays too.\n",
    "    locations = dict()\n",
    "    x = 0\n",
    "    for sub_array in array:\n",
    "        y = 0\n",
    "        for element in sub_array:\n",
    "            locations[(x, y)] = element\n",
    "            y += 1\n",
    "        x += 1\n",
    "    return locations\n",
    "            \n",
    "            \n",
    "# Try with a simple array.\n",
    "my_array = numpy.array([['a', 'b'], ['c', 'd']])\n",
    "expected = {\n",
    "    (0, 0): 'a',\n",
    "    (0, 1): 'b',\n",
    "    (1, 0): 'c',\n",
    "    (1, 1): 'd'\n",
    "}\n",
    "actual = ndarray_to_dict(my_array)\n",
    "print(\"Does the expected result match your result?: \", (expected == actual))\n",
    "print(f\"the actual is {actual}\")\n",
    "\n",
    "# Try with a slightly bigger array.\n",
    "my_array = numpy.array([['a', 'b', 'c'], ['d', 'e', 'f']])\n",
    "ndarray_to_dict(my_array)"
   ]
  },
  {
   "cell_type": "markdown",
   "id": "eef1c061-da69-41fc-8a77-a7e587ac6521",
   "metadata": {},
   "source": [
    "### Pandas\n",
    "\n",
    "We will mainly be using Pandas DataFrames to hold our data throughout this course.\n",
    "You have already seen some ways of iterating through a frame using \n",
    "[DataFrame.index](https://pandas.pydata.org/pandas-docs/stable/reference/api/pandas.DataFrame.index.html)\n",
    "and [DataFrame.iterrows](https://pandas.pydata.org/pandas-docs/stable/reference/api/pandas.DataFrame.iterrows.html).\n",
    "In this section, we will show a few more ways you can iterate over frames."
   ]
  },
  {
   "cell_type": "code",
   "execution_count": 30,
   "id": "a04cd80a-070b-46b0-8e5e-590479bc6724",
   "metadata": {},
   "outputs": [
    {
     "name": "stdout",
     "output_type": "stream",
     "text": [
      "Base Frame:\n",
      "      Name  Surfing Score Qualification\n",
      "0   Andrew            5.3            MS\n",
      "1     Eriq            5.9           PhD\n",
      "2   Reilly            5.1           PhD\n",
      "3  Michael            5.2           PhD\n",
      "\n",
      "Length of frame:  4\n",
      "\n",
      "Iterate over the frame with a foreach:\n",
      "Name, Surfing Score, Qualification, \n",
      "\n",
      "Iterate over column names with `frame.columns`:\n",
      "Name, Surfing Score, Qualification, \n",
      "\n",
      "'Name' Column: \n",
      "0     Andrew\n",
      "1       Eriq\n",
      "2     Reilly\n",
      "3    Michael\n",
      "Name: Name, dtype: object\n",
      "\n",
      "Length of column:  4\n",
      "Iterate over column with for-range.\n",
      "Andrew, Eriq, Reilly, Michael, \n",
      "Iterate over column with foreach.\n",
      "Andrew, Eriq, Reilly, Michael, \n"
     ]
    }
   ],
   "source": [
    "# Make our surfing frame again.\n",
    "data = {\n",
    "    'Name': ['Andrew', 'Eriq', 'Reilly', 'Michael'],\n",
    "    'Surfing Score': [5.3, 5.9, 5.1, 5.2],\n",
    "    'Qualification': ['MS', 'PhD', 'PhD', 'PhD'],\n",
    "}\n",
    "frame = pandas.DataFrame(data)\n",
    "\n",
    "print(\"Base Frame:\")\n",
    "print(frame)\n",
    "print('')\n",
    "\n",
    "# When we use len() on a frame, we get the number of rows.\n",
    "print(\"Length of frame: \", len(frame))\n",
    "\n",
    "# When we use a foreach on a frame, then we get the column names.\n",
    "print(\"\\nIterate over the frame with a foreach:\")\n",
    "for value in frame:\n",
    "    print(value, end = ', ')\n",
    "print('')\n",
    "\n",
    "# We can also use frame.columns to get the column names.\n",
    "# You should prefer this version, since it is more clear what you are doing.\n",
    "print(\"\\nIterate over column names with `frame.columns`:\")\n",
    "for column_name in frame.columns:\n",
    "    print(column_name, end = ', ')\n",
    "print('')\n",
    "\n",
    "# When you index a frame with a column name, then you get that column.\n",
    "column = frame['Name']\n",
    "\n",
    "print(\"\\n'Name' Column: \")\n",
    "print(column)\n",
    "print('')\n",
    "\n",
    "print(\"Length of column: \", len(column))\n",
    "\n",
    "# We can iterate over a column using all of our standard list iteration techniques.\n",
    "\n",
    "# for-range\n",
    "print(\"Iterate over column with for-range.\")\n",
    "for i in range(len(column)):\n",
    "    print(column[i], end = ', ')\n",
    "print('')\n",
    "\n",
    "# foreach\n",
    "print(\"Iterate over column with foreach.\")\n",
    "for value in column:\n",
    "    print(value, end = ', ')\n",
    "print('')"
   ]
  },
  {
   "cell_type": "markdown",
   "id": "70d479d7-addb-4cf3-afd8-e90875234506",
   "metadata": {},
   "source": [
    "<h4 style=\"color: darkorange; font-size: x-large\";>★ Task 1.C</h4>\n",
    "\n",
    "Your task is to complete the function below: `frame_to_dict()`.\n",
    "This function takes in a single Pandas DataFrame;\n",
    "and returns a dict where the keys are a pair of indexes (column name, row index),\n",
    "and the values are the value in the frame at that location."
   ]
  },
  {
   "cell_type": "code",
   "execution_count": 31,
   "id": "416b4c07-4502-4a9c-b0f1-be5480a1acc0",
   "metadata": {},
   "outputs": [
    {
     "name": "stdout",
     "output_type": "stream",
     "text": [
      "{('A', 0): 1, ('A', 1): 2, ('B', 0): 3, ('B', 1): 4}\n",
      "Does the expected result match your result?:  True\n"
     ]
    },
    {
     "data": {
      "text/plain": [
       "{('Name', 0): 'Andrew',\n",
       " ('Name', 1): 'Eriq',\n",
       " ('Name', 2): 'Reilly',\n",
       " ('Name', 3): 'Michael',\n",
       " ('Surfing Score', 0): 5.3,\n",
       " ('Surfing Score', 1): 5.9,\n",
       " ('Surfing Score', 2): 5.1,\n",
       " ('Surfing Score', 3): 5.2,\n",
       " ('Qualification', 0): 'MS',\n",
       " ('Qualification', 1): 'PhD',\n",
       " ('Qualification', 2): 'PhD',\n",
       " ('Qualification', 3): 'PhD'}"
      ]
     },
     "execution_count": 31,
     "metadata": {},
     "output_type": "execute_result"
    }
   ],
   "source": [
    "def frame_to_dict(frame):\n",
    "    dict_frame = dict()\n",
    "    for col in frame.columns:\n",
    "        row_iterator = 0\n",
    "        for row_index in frame.index:\n",
    "            dict_frame[(col, row_iterator)] = frame[col][row_index]\n",
    "            row_iterator += 1\n",
    "    return dict_frame\n",
    "\n",
    "# Try with a simple frame.\n",
    "\n",
    "data = {\n",
    "    'A': [1, 2],\n",
    "    'B': [3, 4],\n",
    "}\n",
    "frame = pandas.DataFrame(data)\n",
    "\n",
    "expected = {\n",
    "    ('A', 0): 1,\n",
    "    ('A', 1): 2,\n",
    "    ('B', 0): 3,\n",
    "    ('B', 1): 4,\n",
    "}\n",
    "actual = frame_to_dict(frame)\n",
    "print(actual)\n",
    "print(\"Does the expected result match your result?: \", (expected == actual))\n",
    "\n",
    "# Try with a slightly bigger frame.\n",
    "data = {\n",
    "    'Name': ['Andrew', 'Eriq', 'Reilly', 'Michael'],\n",
    "    'Surfing Score': [5.3, 5.9, 5.1, 5.2],\n",
    "    'Qualification': ['MS', 'PhD', 'PhD', 'PhD'],\n",
    "}\n",
    "frame = pandas.DataFrame(data)\n",
    "frame_to_dict(frame)"
   ]
  },
  {
   "cell_type": "markdown",
   "id": "a6917332-57e1-4d88-a8d7-49519da21c89",
   "metadata": {
    "tags": []
   },
   "source": [
    "---\n",
    "\n",
    "## Part 2: Data Exploration\n",
    "\n",
    "Now that we have covered some of the basics of Panda's DataFrames,\n",
    "we will use those techniques to explore our data.\n",
    "\n",
    "For all of the following questions, you can assume that the DataFrame your function will be receiving is structured the same (will have the same columns)\n",
    "as the Covid-19 DataFrame we have been using up to this point (the one created in the first Python cell in this notebook)."
   ]
  },
  {
   "cell_type": "markdown",
   "id": "47db46f8-db33-46fe-9871-8fcc225aa400",
   "metadata": {
    "tags": []
   },
   "source": [
    "<h3 style=\"color: darkorange; font-size: x-large\";>★ Task 2.A</h3>\n",
    "\n",
    "Complete the function below that counts the number of **infected** individuals."
   ]
  },
  {
   "cell_type": "code",
   "execution_count": 32,
   "id": "202b2eac-4b84-4276-a4ee-31036f9ab063",
   "metadata": {},
   "outputs": [
    {
     "name": "stdout",
     "output_type": "stream",
     "text": [
      "      infected  symptomatic  days_before_symptoms  titer\n",
      "id                                                      \n",
      "0        False        False                   NaN      0\n",
      "1        False        False                   NaN      0\n",
      "2        False        False                   NaN     26\n",
      "3        False        False                   NaN      0\n",
      "4        False        False                   NaN      0\n",
      "...        ...          ...                   ...    ...\n",
      "4995     False        False                   NaN      0\n",
      "4996     False        False                   NaN      1\n",
      "4997     False        False                   NaN      0\n",
      "4998     False        False                   NaN     23\n",
      "4999     False        False                   NaN      1\n",
      "\n",
      "[5000 rows x 4 columns]\n",
      "Number of infected individuals:  255\n"
     ]
    }
   ],
   "source": [
    "def count_infected(frame):\n",
    "    print(frame)\n",
    "    count = 0\n",
    "    for individual in frame.index:\n",
    "        if frame[\"infected\"][individual]:\n",
    "            count += 1\n",
    "    return count\n",
    "    \n",
    "\n",
    "print(\"Number of infected individuals: \", count_infected(covid_data))"
   ]
  },
  {
   "cell_type": "markdown",
   "id": "f9650bf1-723b-4b14-829e-c1c918fd0d48",
   "metadata": {
    "tags": []
   },
   "source": [
    "<h3 style=\"color: darkorange; font-size: x-large\";>★ Task 2.B</h3>\n",
    "\n",
    "Complete the function below that counts the number of **symptomatic** individuals."
   ]
  },
  {
   "cell_type": "code",
   "execution_count": 33,
   "id": "333c5e41-2a05-413e-9aa8-5d5335362ff4",
   "metadata": {},
   "outputs": [
    {
     "name": "stdout",
     "output_type": "stream",
     "text": [
      "Number of symptomatic individuals:  138\n"
     ]
    }
   ],
   "source": [
    "def count_symptomatic(frame):\n",
    "    count = 0\n",
    "    for individual in frame.index:\n",
    "        if frame[\"symptomatic\"][individual]:\n",
    "            count += 1\n",
    "    return count\n",
    "\n",
    "print(\"Number of symptomatic individuals: \", count_symptomatic(covid_data))"
   ]
  },
  {
   "cell_type": "markdown",
   "id": "4a3380fe-b361-4158-aba6-f85df3e72a29",
   "metadata": {
    "tags": []
   },
   "source": [
    "<h3 style=\"color: darkorange; font-size: x-large\";>★ Task 2.C</h3>\n",
    "\n",
    "Complete the function below that computes the mean **days_before_symptoms** for individuals that have had symptoms (you may ignore rows with no value for this column)."
   ]
  },
  {
   "cell_type": "code",
   "execution_count": 34,
   "id": "54ea53da-7dc5-4bc4-ae6e-50e52e302766",
   "metadata": {},
   "outputs": [
    {
     "name": "stdout",
     "output_type": "stream",
     "text": [
      "Mean number of days before symptoms:  5.405797101449275\n"
     ]
    }
   ],
   "source": [
    "def mean_days(frame):\n",
    "    count = 0\n",
    "    total_days_before_symptoms = 0\n",
    "    for individual in frame.index:\n",
    "        if not pandas.isnull(frame[\"days_before_symptoms\"][individual]):\n",
    "            total_days_before_symptoms += frame[\"days_before_symptoms\"][individual]\n",
    "            count += 1\n",
    "    if count == 0:\n",
    "        return None\n",
    "    return total_days_before_symptoms / count\n",
    "\n",
    "print(\"Mean number of days before symptoms: \", mean_days(covid_data))"
   ]
  },
  {
   "cell_type": "markdown",
   "id": "45b12477-966f-41af-ace1-448b7c03d8d1",
   "metadata": {
    "tags": []
   },
   "source": [
    "---\n",
    "\n",
    "## Part 3: Data Selection\n",
    "\n",
    "In this part, we will now ask more complex questions that require selecting specific collections of rows.\n",
    "For all exercises, do not round your answers."
   ]
  },
  {
   "cell_type": "markdown",
   "id": "ca9a9df2-e7f0-4914-8c1a-478dcecdbdaf",
   "metadata": {
    "tags": []
   },
   "source": [
    "<h3 style=\"color: darkorange; font-size: x-large\";>★ Task 3.A</h3>\n",
    "\n",
    "Complete the function below that computes the fraction of individuals that are infected."
   ]
  },
  {
   "cell_type": "code",
   "execution_count": 35,
   "id": "e60cf213-41c5-422c-8363-27de765f2e0a",
   "metadata": {},
   "outputs": [
    {
     "name": "stdout",
     "output_type": "stream",
     "text": [
      "Fraction of infected individuals:  0.051\n"
     ]
    }
   ],
   "source": [
    "def fraction_infected(frame):\n",
    "    count = 0\n",
    "    for individual in frame.index:\n",
    "        if frame[\"infected\"][individual]:\n",
    "            count += 1\n",
    "    return count / len(frame)\n",
    "\n",
    "print(\"Fraction of infected individuals: \", fraction_infected(covid_data))"
   ]
  },
  {
   "cell_type": "markdown",
   "id": "03365924-8a07-4050-8fd4-de9290a4c002",
   "metadata": {
    "tags": []
   },
   "source": [
    "<h3 style=\"color: darkorange; font-size: x-large\";>★ Task 3.B</h3>\n",
    "\n",
    "Complete the function below that computes the fraction of infected individuals that are also symptomatic."
   ]
  },
  {
   "cell_type": "code",
   "execution_count": 36,
   "id": "cdb0e8f6-4d27-4db4-b49e-13aa1a1fdd74",
   "metadata": {},
   "outputs": [
    {
     "name": "stdout",
     "output_type": "stream",
     "text": [
      "Fraction of infected and symptomatic individuals:  0.0276\n"
     ]
    }
   ],
   "source": [
    "def fraction_symptomatic(frame):\n",
    "    #  symptomatic / infected individuals\n",
    "    count = 0\n",
    "    symptomatic = 0\n",
    "    for individual in frame.index:\n",
    "        if frame[\"infected\"][individual]:\n",
    "            count += 1\n",
    "            if frame[\"symptomatic\"][individual]:\n",
    "                symptomatic += 1\n",
    "                \n",
    "    return symptomatic / count\n",
    "\n",
    "print(\"Fraction of infected and symptomatic individuals: \", fraction_symptomatic(covid_data))"
   ]
  },
  {
   "cell_type": "markdown",
   "id": "1e43a7de-cea3-4841-a17b-bb6f6836abee",
   "metadata": {
    "tags": []
   },
   "source": [
    "<h3 style=\"color: darkorange; font-size: x-large\";>★ Task 3.C</h3>\n",
    "\n",
    "Complete the function below that computes the number of uninfected individuals that have titers between 3 and 13 (exclusive)."
   ]
  },
  {
   "cell_type": "code",
   "execution_count": 15,
   "id": "cc9036fe-2b39-4160-949e-11fd265022d9",
   "metadata": {},
   "outputs": [
    {
     "name": "stdout",
     "output_type": "stream",
     "text": [
      "Number of uninfected with titers in (3, 13):  2\n"
     ]
    }
   ],
   "source": [
    "def count_special_uninfected(frame):\n",
    "    count = 0\n",
    "    for individual in frame.index:\n",
    "        titer_val = frame[\"titer\"][individual]\n",
    "        if not frame[\"infected\"][individual] and titer_val > 3 and titer_val < 13:\n",
    "            count += 1\n",
    "    return count\n",
    "            \n",
    "\n",
    "print(\"Number of uninfected with titers in (3, 13): \", count_special_uninfected(covid_data))"
   ]
  },
  {
   "cell_type": "markdown",
   "id": "c42ffc03-69d7-4132-8552-eb9d252e53b5",
   "metadata": {
    "tags": []
   },
   "source": [
    "<h3 style=\"color: darkorange; font-size: x-large\";>★ Task 3.D</h3>\n",
    "\n",
    "Complete the function below that computes the fraction of uninfected individuals that are isoantigenic (**not infected** and have a titer value >= 1)."
   ]
  },
  {
   "cell_type": "code",
   "execution_count": 38,
   "id": "d0cbecf5-801d-481d-be5d-2b7008d9c49e",
   "metadata": {},
   "outputs": [
    {
     "name": "stdout",
     "output_type": "stream",
     "text": [
      "Fraction of infected and isoantigenic individuals:  0.2918\n"
     ]
    }
   ],
   "source": [
    "def fraction_isoantigenic(frame):\n",
    "    count = 0\n",
    "    meets_threshold = 0\n",
    "    for individual in frame.index:\n",
    "        if not frame[\"infected\"][individual]:\n",
    "            count += 1\n",
    "            if frame[\"titer\"][individual] >= 1:\n",
    "                meets_threshold += 1\n",
    "    return meets_threshold / count\n",
    "\n",
    "print(\"Fraction of infected and isoantigenic individuals: \", fraction_isoantigenic(covid_data))"
   ]
  },
  {
   "cell_type": "markdown",
   "id": "493c713f-b3f7-4f0f-b956-c4440ba1c6e0",
   "metadata": {
    "tags": []
   },
   "source": [
    "---\n",
    "\n",
    "## Part 4: Feature Engineering\n",
    "\n",
    "[Feature Engineering](https://en.wikipedia.org/wiki/Feature_engineering) is a **HUGE** part of machine learning that involves picking out (or transforming) the data that will be most useful to your algorithms.\n",
    "In future assignments, we will cover feature engineering in much greater detail.\n",
    "For now, let's just create a single simple feature."
   ]
  },
  {
   "cell_type": "markdown",
   "id": "280c6e02-596d-4334-99c6-80f4219fcf64",
   "metadata": {
    "tags": []
   },
   "source": [
    "<h3 style=\"color: darkorange; font-size: x-large\";>★ Task 4.A</h3>\n",
    "\n",
    "Complete the function below that adds a new column to the given frame, and returns the modified frame.\n",
    "This column should be labeled \"isoantigenic\",\n",
    "and should contain boolean values describing individuals whom are isoantigenic (**not infected** and have a titer value >= 1).\n",
    "\n",
    "Hint: Although Pandas can do this in one line, it is much easier to first iterate over each row to compute a value and then add these values as a new column."
   ]
  },
  {
   "cell_type": "code",
   "execution_count": 39,
   "id": "b21287ca-41aa-4929-aaac-9067cd8ef421",
   "metadata": {},
   "outputs": [
    {
     "name": "stdout",
     "output_type": "stream",
     "text": [
      "Frame with added column:\n"
     ]
    },
    {
     "data": {
      "text/html": [
       "<div>\n",
       "<style scoped>\n",
       "    .dataframe tbody tr th:only-of-type {\n",
       "        vertical-align: middle;\n",
       "    }\n",
       "\n",
       "    .dataframe tbody tr th {\n",
       "        vertical-align: top;\n",
       "    }\n",
       "\n",
       "    .dataframe thead th {\n",
       "        text-align: right;\n",
       "    }\n",
       "</style>\n",
       "<table border=\"1\" class=\"dataframe\">\n",
       "  <thead>\n",
       "    <tr style=\"text-align: right;\">\n",
       "      <th></th>\n",
       "      <th>infected</th>\n",
       "      <th>symptomatic</th>\n",
       "      <th>days_before_symptoms</th>\n",
       "      <th>titer</th>\n",
       "      <th>isoantigenic</th>\n",
       "    </tr>\n",
       "    <tr>\n",
       "      <th>id</th>\n",
       "      <th></th>\n",
       "      <th></th>\n",
       "      <th></th>\n",
       "      <th></th>\n",
       "      <th></th>\n",
       "    </tr>\n",
       "  </thead>\n",
       "  <tbody>\n",
       "    <tr>\n",
       "      <th>0</th>\n",
       "      <td>False</td>\n",
       "      <td>False</td>\n",
       "      <td>NaN</td>\n",
       "      <td>0</td>\n",
       "      <td>False</td>\n",
       "    </tr>\n",
       "    <tr>\n",
       "      <th>1</th>\n",
       "      <td>False</td>\n",
       "      <td>False</td>\n",
       "      <td>NaN</td>\n",
       "      <td>0</td>\n",
       "      <td>False</td>\n",
       "    </tr>\n",
       "    <tr>\n",
       "      <th>2</th>\n",
       "      <td>False</td>\n",
       "      <td>False</td>\n",
       "      <td>NaN</td>\n",
       "      <td>26</td>\n",
       "      <td>True</td>\n",
       "    </tr>\n",
       "    <tr>\n",
       "      <th>3</th>\n",
       "      <td>False</td>\n",
       "      <td>False</td>\n",
       "      <td>NaN</td>\n",
       "      <td>0</td>\n",
       "      <td>False</td>\n",
       "    </tr>\n",
       "    <tr>\n",
       "      <th>4</th>\n",
       "      <td>False</td>\n",
       "      <td>False</td>\n",
       "      <td>NaN</td>\n",
       "      <td>0</td>\n",
       "      <td>False</td>\n",
       "    </tr>\n",
       "    <tr>\n",
       "      <th>...</th>\n",
       "      <td>...</td>\n",
       "      <td>...</td>\n",
       "      <td>...</td>\n",
       "      <td>...</td>\n",
       "      <td>...</td>\n",
       "    </tr>\n",
       "    <tr>\n",
       "      <th>4995</th>\n",
       "      <td>False</td>\n",
       "      <td>False</td>\n",
       "      <td>NaN</td>\n",
       "      <td>0</td>\n",
       "      <td>False</td>\n",
       "    </tr>\n",
       "    <tr>\n",
       "      <th>4996</th>\n",
       "      <td>False</td>\n",
       "      <td>False</td>\n",
       "      <td>NaN</td>\n",
       "      <td>1</td>\n",
       "      <td>True</td>\n",
       "    </tr>\n",
       "    <tr>\n",
       "      <th>4997</th>\n",
       "      <td>False</td>\n",
       "      <td>False</td>\n",
       "      <td>NaN</td>\n",
       "      <td>0</td>\n",
       "      <td>False</td>\n",
       "    </tr>\n",
       "    <tr>\n",
       "      <th>4998</th>\n",
       "      <td>False</td>\n",
       "      <td>False</td>\n",
       "      <td>NaN</td>\n",
       "      <td>23</td>\n",
       "      <td>True</td>\n",
       "    </tr>\n",
       "    <tr>\n",
       "      <th>4999</th>\n",
       "      <td>False</td>\n",
       "      <td>False</td>\n",
       "      <td>NaN</td>\n",
       "      <td>1</td>\n",
       "      <td>True</td>\n",
       "    </tr>\n",
       "  </tbody>\n",
       "</table>\n",
       "<p>5000 rows × 5 columns</p>\n",
       "</div>"
      ],
      "text/plain": [
       "      infected  symptomatic  days_before_symptoms  titer  isoantigenic\n",
       "id                                                                    \n",
       "0        False        False                   NaN      0         False\n",
       "1        False        False                   NaN      0         False\n",
       "2        False        False                   NaN     26          True\n",
       "3        False        False                   NaN      0         False\n",
       "4        False        False                   NaN      0         False\n",
       "...        ...          ...                   ...    ...           ...\n",
       "4995     False        False                   NaN      0         False\n",
       "4996     False        False                   NaN      1          True\n",
       "4997     False        False                   NaN      0         False\n",
       "4998     False        False                   NaN     23          True\n",
       "4999     False        False                   NaN      1          True\n",
       "\n",
       "[5000 rows x 5 columns]"
      ]
     },
     "execution_count": 39,
     "metadata": {},
     "output_type": "execute_result"
    }
   ],
   "source": [
    "def add_isoantigenic_column(frame):\n",
    "    isoantigenic = []\n",
    "    for individual in frame.index:\n",
    "        if not frame[\"infected\"][individual] and frame[\"titer\"][individual] >= 1:\n",
    "            isoantigenic.append(True)\n",
    "        else:\n",
    "            isoantigenic.append(False)\n",
    "    frame[\"isoantigenic\"] = isoantigenic\n",
    "    return frame\n",
    "new_covid_data = add_isoantigenic_column(covid_data.copy())\n",
    "print(\"Frame with added column:\")\n",
    "new_covid_data"
   ]
  },
  {
   "cell_type": "markdown",
   "id": "bcbb580c-3f21-4be6-a0d3-afa83e82c50a",
   "metadata": {
    "tags": []
   },
   "source": [
    "---\n",
    "\n",
    "## Part 5: Plotting\n",
    "\n",
    "In this section, we will work with some basic visualization capabilities built into Pandas.\n",
    "For a more complete reference, see [this reference](https://pandas.pydata.org/pandas-docs/stable/user_guide/visualization.html).\n",
    "Keep in mind that in most applied settings, you'll probably see more customizable methods using [matplotlib](https://matplotlib.org/) or [seaborn](https://seaborn.pydata.org/).\n",
    "\n",
    "[Histograms](https://en.wikipedia.org/wiki/Histogram) are a good visualization to start with, since they can help give you a rough idea about specific columns in your data.\n",
    "Creating a histogram from a frame is very simple:\n",
    "just select the column you want to examine and call [DataFrame.hist()](https://pandas.pydata.org/pandas-docs/stable/reference/api/pandas.DataFrame.hist.html):"
   ]
  },
  {
   "cell_type": "code",
   "execution_count": 40,
   "id": "c7f9ef09-4719-4062-8e52-e46d11760a2f",
   "metadata": {},
   "outputs": [
    {
     "data": {
      "text/plain": [
       "<Axes: >"
      ]
     },
     "execution_count": 40,
     "metadata": {},
     "output_type": "execute_result"
    },
    {
     "data": {
      "image/png": "[encoded data removed]",
      "text/plain": [
       "<Figure size 640x480 with 1 Axes>"
      ]
     },
     "metadata": {},
     "output_type": "display_data"
    }
   ],
   "source": [
    "covid_data['titer'].hist()"
   ]
  },
  {
   "cell_type": "markdown",
   "id": "514b05ba-729f-499f-b40b-fd0db70a0c44",
   "metadata": {},
   "source": [
    "You can also have more fine-grained control over how the data is grouped together and counted (just consult [the documentation](https://pandas.pydata.org/pandas-docs/stable/reference/api/pandas.DataFrame.hist.html) for the options you can configure):"
   ]
  },
  {
   "cell_type": "code",
   "execution_count": 41,
   "id": "c7ab73d6-c8b5-467e-9f09-9ce73a29e27a",
   "metadata": {},
   "outputs": [
    {
     "data": {
      "text/plain": [
       "<Axes: >"
      ]
     },
     "execution_count": 41,
     "metadata": {},
     "output_type": "execute_result"
    },
    {
     "data": {
      "image/png": "[encoded data removed]",
      "text/plain": [
       "<Figure size 640x480 with 1 Axes>"
      ]
     },
     "metadata": {},
     "output_type": "display_data"
    }
   ],
   "source": [
    "covid_data['titer'].hist(bins = 3)"
   ]
  },
  {
   "cell_type": "markdown",
   "id": "6b318ac5-c184-4136-bb58-645e3f238afd",
   "metadata": {},
   "source": [
    "After histograms, [scatter plots](https://en.wikipedia.org/wiki/Scatter_plot) are the next go-to visualization for data.\n",
    "Histograms are good for giving us an idea about a single dimension/column of the data,\n",
    "and scatter plots are good for giving us an idea about how two dimensions/columns of the data interact.\n",
    "\n",
    "For example, we can look at how the `days_before_symptoms` and `titer` columns of our dataset interact with one another:"
   ]
  },
  {
   "cell_type": "code",
   "execution_count": 42,
   "id": "52c6f2aa-88d5-4686-adbd-468ee749cdb8",
   "metadata": {},
   "outputs": [
    {
     "data": {
      "text/plain": [
       "<Axes: xlabel='days_before_symptoms', ylabel='titer'>"
      ]
     },
     "execution_count": 42,
     "metadata": {},
     "output_type": "execute_result"
    },
    {
     "data": {
      "image/png": "[encoded data removed]",
      "text/plain": [
       "<Figure size 640x480 with 1 Axes>"
      ]
     },
     "metadata": {},
     "output_type": "display_data"
    }
   ],
   "source": [
    "covid_data.plot.scatter(x = 'days_before_symptoms', y = 'titer')"
   ]
  },
  {
   "cell_type": "markdown",
   "id": "d0c56d6d-7a7d-4285-b68c-53dcbd7943be",
   "metadata": {
    "tags": []
   },
   "source": [
    "<h3 style=\"color: darkorange; font-size: x-large\";>★ Task 5.A</h3>\n",
    "\n",
    "Complete the function below that takes in a frame and prepares it to be rendered as a scatter plot.\n",
    "The function takes in a frame, two column names, and two labels for the x and y axis of the scatter plot.\n",
    "The function should return a frame that can then be turned into the scatter plot we want by calling `.plot.scatter(x = 0, y = 1)` on it.\n",
    "(If you are not sure what those options are, then make sure to consult [the documentation](https://pandas.pydata.org/pandas-docs/stable/reference/api/pandas.DataFrame.plot.scatter.html)."
   ]
  },
  {
   "cell_type": "code",
   "execution_count": 43,
   "id": "ddce75ab-02e1-47b7-bf37-c18786b63f6e",
   "metadata": {},
   "outputs": [
    {
     "data": {
      "image/png": "[encoded data removed]",
      "text/plain": [
       "<Figure size 640x480 with 1 Axes>"
      ]
     },
     "metadata": {},
     "output_type": "display_data"
    }
   ],
   "source": [
    "def prep_scatter(frame, x_column, y_column, x_label, y_label):\n",
    "    # column_name: ALL_column_values_in_order.\n",
    "    \n",
    "    x_values = []\n",
    "    y_values = []\n",
    "    \n",
    "    for i in frame.index:\n",
    "        x_values.append(frame[x_column][i])\n",
    "        y_values.append(frame[y_column][i])\n",
    "\n",
    "    plot_data = {x_label: x_values, y_label: y_values}\n",
    "\n",
    "    plot_frame = pandas.DataFrame(plot_data)\n",
    "        \n",
    "    return plot_frame\n",
    "\n",
    "# Prep the data to be displayed as a scatter plot.\n",
    "scatter_frame = prep_scatter(covid_data,\n",
    "                             'days_before_symptoms', 'titer',\n",
    "                             'Number of Days Before Symptoms', 'Titer Level')\n",
    "\n",
    "# Display the scatter plot.\n",
    "if ((scatter_frame is not None) and (scatter_frame is not NotImplemented)):\n",
    "    scatter_frame.plot.scatter(x = 0, y = 1)\n",
    "else:\n",
    "    print(\"prep_scatter() not implemented yet.\")"
   ]
  },
  {
   "cell_type": "markdown",
   "id": "a854022f-2c74-4c80-aae8-df909259a615",
   "metadata": {},
   "source": [
    "---\n",
    "\n",
    "## Part 6: Making Sense of Equations\n",
    "\n",
    "Throughout this course (and many of your CS (or math) courses going forward),\n",
    "you will be presented with mathematical equations that you will need to understand.\n",
    "You may have to just read these equations, apply these equations on pen and paper,\n",
    "or translate these equations into code.\n",
    "If you are not used to working with equations, that last task may be a bit intimidating.\n",
    "In this part, we will walk through an example of breaking down an equation which you will then translate into code.\n",
    "\n",
    "To start, let's first imagine that we have some way of predicting whether someone has Covid-19 based on the data we have been working with in this assignment.\n",
    "In future assignments, we will dive into much more rigorous, accurate, and cool ways to do this,\n",
    "but for now let's use the following naive function:"
   ]
  },
  {
   "cell_type": "code",
   "execution_count": 44,
   "id": "125e88a6-b43f-4829-97ef-675d3315c6ae",
   "metadata": {},
   "outputs": [],
   "source": [
    "def predict_covid(titer):\n",
    "    return titer > 20"
   ]
  },
  {
   "cell_type": "markdown",
   "id": "9de631df-ad79-4b8e-8274-dee2264b7de2",
   "metadata": {},
   "source": [
    "This function is simple and will return true (indicating the function thinks the patient is infected) if the titer value is greater than 20.\n",
    "Otherwise, the prediction function will return false (indicating the function thinks the patient is not infected).\n",
    "\n",
    "Now that we have something that makes predictions (even though it is overly simple),\n",
    "we can evaluate how good our predictions are.\n",
    "To evaluate our function's performance, we can use [evaluation metrics](https://en.wikipedia.org/wiki/Evaluation_of_binary_classifiers#Single_metrics),\n",
    "which are numbers that quantify predictive performance (how well our predictions match reality).\n",
    "There are [dozens of evaluation metrics](https://scikit-learn.org/stable/modules/model_evaluation.html),\n",
    "but for this example we will use [root mean square error (RMSE)](https://en.wikipedia.org/wiki/Root-mean-square_deviation) (also sometimes called root mean square deviation (RMSD)).\n",
    "\n",
    "The equation for RMSE is:\n",
    "$$\n",
    "\\sqrt{  \\frac{  \\sum\\nolimits_{i = 1}^{N} ( \\hat{y}_i - y_i )^2 }{ N } }\n",
    "$$\n",
    "\n",
    "This equation may look intimidating, but let's break the equation down piece-by-piece.\n",
    "\n",
    "First, we see a big square root covering everything.\n",
    "We already know how to use a square root, so let's put that aside for now and simplify the equation:\n",
    "$$\n",
    "\\frac{  \\sum\\nolimits_{i = 1}^{N} ( \\hat{y}_i - y_i )^2 }{ N }\n",
    "$$\n",
    "\n",
    "Now we see a fraction with a summation in the numerator and a single variable ($ N $) as the denominator.\n",
    "Note that the summation goes from $ i = 1 $ to $ N $, so it is adding up $ N $ different values.\n",
    "Since we are adding up $ N $ values and $ N $ is also the denominator,\n",
    "this fraction looks like it is computing the mean of whatever the summation is adding up.\n",
    "Since we also know how to compute a mean, let's put that part aside and focus on the summation:\n",
    "$$\n",
    "\\sum\\nolimits_{i = 1}^{N} ( \\hat{y}_i - y_i )^2\n",
    "$$\n",
    "\n",
    "The summation is using $ i $ as its incrementing variable and is going from $ 1 $ to $ N $.\n",
    "We can also see that the value inside the summation is squared.\n",
    "We can easily deal with squaring values, so let's simplify again:\n",
    "$$\n",
    "\\hat{y}_i - y_i\n",
    "$$\n",
    "\n",
    "Here, we are finally left with a simple expression, but we have to make sure we understand what these two values represent.\n",
    "In machine learning equations (as you have already seen in class),\n",
    "we represent labels/classes with the letter $ y $.\n",
    "By itself $ y $ usually represents a true label,\n",
    "and with a hat $ \\hat{y} $ usually represents a predicted label.\n",
    "Therefore, our expression ($ \\hat{y}_i - y_i $) is taking the difference between the predicted label ($ \\hat{y} $) and the true label ($ y $) for the ith data point.\n",
    "We often call this (the difference between true and predicted values) the *error* of a prediction.\n",
    "\n",
    "So to summarize what we discovered starting from the inner-most part of the equation and working out:\n",
    " - First, the equation computes the **error** for each prediction.\n",
    " - Then, the **square** of that error is computed.\n",
    " - The **mean** of all those squared errors is computed using the summation and division.\n",
    " - Then finally, the equation takes the square **root** of that mean.\n",
    "When we phrase it like this,\n",
    "you can see why this metric is called \"root mean square error\".\n",
    "\n",
    "By breaking up this equation into smaller chunks,\n",
    "we were able to understand each part individually and then put them all back together into the full equation.\n",
    "And now that we understand the equation, we can implement it in code.\n",
    "\n",
    "Here are some tips to use when translating equations into code:\n",
    " - Look for summations, these usually indicate loops.\n",
    " - Tend to start with the inside of the equation, since the outer parts of an equation are evaluated last.\n",
    " - Don't be afraid to break up your implementation using more code functions (just like how some equations call into other equations/functions).\n",
    " - Be careful about order of operations.\n",
    " - Even though equations will usually use short variable names, longer and more descriptive names can be more useful in code (e.g. using `predicted_label` is more readable than `y_hat`)."
   ]
  },
  {
   "cell_type": "markdown",
   "id": "c33689d8-d460-4f43-9fc3-53e8295c15a0",
   "metadata": {},
   "source": [
    "<h3 style=\"color: darkorange; font-size: x-large\";>★ Task 6.A</h3>\n",
    "\n",
    "Complete the function below that takes in two lists and computes the RMSE between them.\n",
    "The lists will always have the same number of values in them and will never be empty.\n",
    "\n",
    "*Note: If you want to use the math library (like for `math.sqrt()`), make sure to import it in the first code cell of this notebook (where pandas is also imported).*"
   ]
  },
  {
   "cell_type": "code",
   "execution_count": 45,
   "id": "7a2668f1-5088-45e7-9c9d-2a26102f8b98",
   "metadata": {},
   "outputs": [
    {
     "data": {
      "text/plain": [
       "0.7071067811865476"
      ]
     },
     "execution_count": 45,
     "metadata": {},
     "output_type": "execute_result"
    }
   ],
   "source": [
    "def rmse(predicted_values, true_values):\n",
    "    sigma_operation = 0\n",
    "    for p in range(0, len(predicted_values)):\n",
    "        sigma_operation += (predicted_values[p] - true_values[p]) * \\\n",
    "            (predicted_values[p] - true_values[p])\n",
    "    total = sigma_operation / len(predicted_values)\n",
    "    return math.sqrt(total)\n",
    "    \n",
    "\n",
    "# Test our new function on simple data.\n",
    "predictions = [1, 1, 0, 0]\n",
    "labels = [1, 0, 1, 0]\n",
    "\n",
    "rmse(predictions, labels)"
   ]
  },
  {
   "cell_type": "markdown",
   "id": "b4a85830-07e6-4f60-a796-c8d34d982f82",
   "metadata": {},
   "source": [
    "We can also use our new function on our Covid-19 data, but it will require a little work to prepare the data:"
   ]
  },
  {
   "cell_type": "code",
   "execution_count": 46,
   "id": "e64833e3-9c2e-4160-ae3c-1a4bdd558fd6",
   "metadata": {},
   "outputs": [
    {
     "data": {
      "text/plain": [
       "0.2949576240750525"
      ]
     },
     "execution_count": 46,
     "metadata": {},
     "output_type": "execute_result"
    }
   ],
   "source": [
    "# Make predictions for each row in our Covid-19 data.\n",
    "predictions = [predict_covid(value) for value in covid_data['titer']]\n",
    "\n",
    "# Get the actual labels (infected status) for our data and convert it into a list.\n",
    "labels = list(covid_data['infected'])\n",
    "\n",
    "# Right now, all our predicted and true values are booleans.\n",
    "# Convert them into ints so we can do math on them (False = 0, True = 1).\n",
    "predictions = list(map(int, predictions))\n",
    "labels = list(map(int, labels))\n",
    "\n",
    "rmse(predictions, labels)"
   ]
  },
  {
   "cell_type": "code",
   "execution_count": 47,
   "id": "4a604bba-ef4e-45d1-b7d9-83463d689427",
   "metadata": {},
   "outputs": [
    {
     "data": {
      "text/html": [
       "<div>\n",
       "<style scoped>\n",
       "    .dataframe tbody tr th:only-of-type {\n",
       "        vertical-align: middle;\n",
       "    }\n",
       "\n",
       "    .dataframe tbody tr th {\n",
       "        vertical-align: top;\n",
       "    }\n",
       "\n",
       "    .dataframe thead th {\n",
       "        text-align: right;\n",
       "    }\n",
       "</style>\n",
       "<table border=\"1\" class=\"dataframe\">\n",
       "  <thead>\n",
       "    <tr style=\"text-align: right;\">\n",
       "      <th></th>\n",
       "      <th>infected</th>\n",
       "      <th>symptomatic</th>\n",
       "      <th>days_before_symptoms</th>\n",
       "      <th>titer</th>\n",
       "    </tr>\n",
       "    <tr>\n",
       "      <th>id</th>\n",
       "      <th></th>\n",
       "      <th></th>\n",
       "      <th></th>\n",
       "      <th></th>\n",
       "    </tr>\n",
       "  </thead>\n",
       "  <tbody>\n",
       "    <tr>\n",
       "      <th>0</th>\n",
       "      <td>False</td>\n",
       "      <td>False</td>\n",
       "      <td>NaN</td>\n",
       "      <td>0</td>\n",
       "    </tr>\n",
       "    <tr>\n",
       "      <th>1</th>\n",
       "      <td>False</td>\n",
       "      <td>False</td>\n",
       "      <td>NaN</td>\n",
       "      <td>0</td>\n",
       "    </tr>\n",
       "    <tr>\n",
       "      <th>2</th>\n",
       "      <td>False</td>\n",
       "      <td>False</td>\n",
       "      <td>NaN</td>\n",
       "      <td>26</td>\n",
       "    </tr>\n",
       "    <tr>\n",
       "      <th>3</th>\n",
       "      <td>False</td>\n",
       "      <td>False</td>\n",
       "      <td>NaN</td>\n",
       "      <td>0</td>\n",
       "    </tr>\n",
       "    <tr>\n",
       "      <th>4</th>\n",
       "      <td>False</td>\n",
       "      <td>False</td>\n",
       "      <td>NaN</td>\n",
       "      <td>0</td>\n",
       "    </tr>\n",
       "    <tr>\n",
       "      <th>...</th>\n",
       "      <td>...</td>\n",
       "      <td>...</td>\n",
       "      <td>...</td>\n",
       "      <td>...</td>\n",
       "    </tr>\n",
       "    <tr>\n",
       "      <th>4995</th>\n",
       "      <td>False</td>\n",
       "      <td>False</td>\n",
       "      <td>NaN</td>\n",
       "      <td>0</td>\n",
       "    </tr>\n",
       "    <tr>\n",
       "      <th>4996</th>\n",
       "      <td>False</td>\n",
       "      <td>False</td>\n",
       "      <td>NaN</td>\n",
       "      <td>1</td>\n",
       "    </tr>\n",
       "    <tr>\n",
       "      <th>4997</th>\n",
       "      <td>False</td>\n",
       "      <td>False</td>\n",
       "      <td>NaN</td>\n",
       "      <td>0</td>\n",
       "    </tr>\n",
       "    <tr>\n",
       "      <th>4998</th>\n",
       "      <td>False</td>\n",
       "      <td>False</td>\n",
       "      <td>NaN</td>\n",
       "      <td>23</td>\n",
       "    </tr>\n",
       "    <tr>\n",
       "      <th>4999</th>\n",
       "      <td>False</td>\n",
       "      <td>False</td>\n",
       "      <td>NaN</td>\n",
       "      <td>1</td>\n",
       "    </tr>\n",
       "  </tbody>\n",
       "</table>\n",
       "<p>5000 rows × 4 columns</p>\n",
       "</div>"
      ],
      "text/plain": [
       "      infected  symptomatic  days_before_symptoms  titer\n",
       "id                                                      \n",
       "0        False        False                   NaN      0\n",
       "1        False        False                   NaN      0\n",
       "2        False        False                   NaN     26\n",
       "3        False        False                   NaN      0\n",
       "4        False        False                   NaN      0\n",
       "...        ...          ...                   ...    ...\n",
       "4995     False        False                   NaN      0\n",
       "4996     False        False                   NaN      1\n",
       "4997     False        False                   NaN      0\n",
       "4998     False        False                   NaN     23\n",
       "4999     False        False                   NaN      1\n",
       "\n",
       "[5000 rows x 4 columns]"
      ]
     },
     "execution_count": 47,
     "metadata": {},
     "output_type": "execute_result"
    }
   ],
   "source": [
    "covid_data"
   ]
  }
 ],
 "metadata": {
  "kernelspec": {
   "display_name": "Python 3 (ipykernel)",
   "language": "python",
   "name": "python3"
  },
  "language_info": {
   "codemirror_mode": {
    "name": "ipython",
    "version": 3
   },
   "file_extension": ".py",
   "mimetype": "text/x-python",
   "name": "python",
   "nbconvert_exporter": "python",
   "pygments_lexer": "ipython3",
   "version": "3.11.4"
  }
 },
 "nbformat": 4,
 "nbformat_minor": 5
}
